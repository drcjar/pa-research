{
 "cells": [
  {
   "cell_type": "code",
   "execution_count": 1,
   "metadata": {
    "collapsed": true
   },
   "outputs": [],
   "source": [
    "import requests\n",
    "from StringIO import StringIO\n",
    "from numpy import nan as NA\n",
    "import pandas as pd\n",
    "import zipfile\n",
    "import re\n",
    "%matplotlib inline\n",
    "import matplotlib.pyplot as plt\n",
    "import xlrd\n",
    "import statsmodels.api as sm\n",
    "from patsy import dmatrices, dmatrix\n",
    "import scipy as scipy\n",
    "import numpy as np"
   ]
  },
  {
   "cell_type": "code",
   "execution_count": 2,
   "metadata": {
    "collapsed": false
   },
   "outputs": [
    {
     "name": "stdout",
     "output_type": "stream",
     "text": [
      "\u001b[0m\u001b[01;34mdatas\u001b[0m/\r\n",
      "indexplay.ipynb\r\n",
      "learningaboutindexing.csv\r\n",
      "LICENSE\r\n",
      "pa_research_for_stata.csv\r\n",
      "pa-research (herrison's conflicted copy 2015-06-17).ipynb\r\n",
      "pa-research.ipynb\r\n",
      "README.md\r\n",
      "requirements.txt\r\n",
      "Untitled.ipynb\r\n"
     ]
    }
   ],
   "source": [
    "ls"
   ]
  },
  {
   "cell_type": "code",
   "execution_count": 3,
   "metadata": {
    "collapsed": false
   },
   "outputs": [
    {
     "name": "stdout",
     "output_type": "stream",
     "text": [
      "/home/sam/Dropbox/Documents/pa-research/datas\n"
     ]
    }
   ],
   "source": [
    "cd datas/"
   ]
  },
  {
   "cell_type": "code",
   "execution_count": 5,
   "metadata": {
    "collapsed": false
   },
   "outputs": [],
   "source": [
    "df = pd.read_csv('T201501PDPI+BNFT.CSV')"
   ]
  },
  {
   "cell_type": "code",
   "execution_count": 6,
   "metadata": {
    "collapsed": false
   },
   "outputs": [
    {
     "data": {
      "text/html": [
       "<div style=\"max-height:1000px;max-width:1500px;overflow:auto;\">\n",
       "<table border=\"1\" class=\"dataframe\">\n",
       "  <thead>\n",
       "    <tr style=\"text-align: right;\">\n",
       "      <th></th>\n",
       "      <th>SHA</th>\n",
       "      <th>PCT</th>\n",
       "      <th>PRACTICE</th>\n",
       "      <th>BNF CODE</th>\n",
       "      <th>BNF NAME</th>\n",
       "      <th>ITEMS</th>\n",
       "      <th>NIC</th>\n",
       "      <th>ACT COST</th>\n",
       "      <th>QUANTITY</th>\n",
       "      <th>PERIOD</th>\n",
       "      <th></th>\n",
       "    </tr>\n",
       "  </thead>\n",
       "  <tbody>\n",
       "    <tr>\n",
       "      <th>0</th>\n",
       "      <td>Q44</td>\n",
       "      <td>RXA</td>\n",
       "      <td>N81646</td>\n",
       "      <td>0102000N0AAABAB</td>\n",
       "      <td>Hyoscine Butylbrom_Tab 10mg</td>\n",
       "      <td>1</td>\n",
       "      <td>1.13</td>\n",
       "      <td>1.16</td>\n",
       "      <td>21</td>\n",
       "      <td>201501</td>\n",
       "      <td></td>\n",
       "    </tr>\n",
       "    <tr>\n",
       "      <th>1</th>\n",
       "      <td>Q44</td>\n",
       "      <td>RXA</td>\n",
       "      <td>N81646</td>\n",
       "      <td>0401010Z0AAAAAA</td>\n",
       "      <td>Zopiclone_Tab 7.5mg</td>\n",
       "      <td>15</td>\n",
       "      <td>3.28</td>\n",
       "      <td>4.72</td>\n",
       "      <td>57</td>\n",
       "      <td>201501</td>\n",
       "      <td></td>\n",
       "    </tr>\n",
       "    <tr>\n",
       "      <th>2</th>\n",
       "      <td>Q44</td>\n",
       "      <td>RXA</td>\n",
       "      <td>N81646</td>\n",
       "      <td>0401020K0AAAHAH</td>\n",
       "      <td>Diazepam_Tab 2mg</td>\n",
       "      <td>35</td>\n",
       "      <td>99.91</td>\n",
       "      <td>104.64</td>\n",
       "      <td>2662</td>\n",
       "      <td>201501</td>\n",
       "      <td></td>\n",
       "    </tr>\n",
       "    <tr>\n",
       "      <th>3</th>\n",
       "      <td>Q44</td>\n",
       "      <td>RXA</td>\n",
       "      <td>N81646</td>\n",
       "      <td>040201060AAALAL</td>\n",
       "      <td>Olanzapine_Tab 15mg</td>\n",
       "      <td>3</td>\n",
       "      <td>1.29</td>\n",
       "      <td>1.53</td>\n",
       "      <td>21</td>\n",
       "      <td>201501</td>\n",
       "      <td></td>\n",
       "    </tr>\n",
       "    <tr>\n",
       "      <th>4</th>\n",
       "      <td>Q44</td>\n",
       "      <td>RXA</td>\n",
       "      <td>N81646</td>\n",
       "      <td>0403010B0AAAHAH</td>\n",
       "      <td>Amitriptyline HCl_Tab 25mg</td>\n",
       "      <td>16</td>\n",
       "      <td>1.52</td>\n",
       "      <td>3.20</td>\n",
       "      <td>38</td>\n",
       "      <td>201501</td>\n",
       "      <td></td>\n",
       "    </tr>\n",
       "  </tbody>\n",
       "</table>\n",
       "</div>"
      ],
      "text/plain": [
       "   SHA  PCT PRACTICE         BNF CODE  \\\n",
       "0  Q44  RXA   N81646  0102000N0AAABAB   \n",
       "1  Q44  RXA   N81646  0401010Z0AAAAAA   \n",
       "2  Q44  RXA   N81646  0401020K0AAAHAH   \n",
       "3  Q44  RXA   N81646  040201060AAALAL   \n",
       "4  Q44  RXA   N81646  0403010B0AAAHAH   \n",
       "\n",
       "  BNF NAME                                      ITEMS    NIC          \\\n",
       "0     Hyoscine Butylbrom_Tab 10mg                     1         1.13   \n",
       "1     Zopiclone_Tab 7.5mg                            15         3.28   \n",
       "2     Diazepam_Tab 2mg                               35        99.91   \n",
       "3     Olanzapine_Tab 15mg                             3         1.29   \n",
       "4     Amitriptyline HCl_Tab 25mg                     16         1.52   \n",
       "\n",
       "   ACT COST     QUANTITY  PERIOD                      \n",
       "0         1.16        21  201501                      \n",
       "1         4.72        57  201501                      \n",
       "2       104.64      2662  201501                      \n",
       "3         1.53        21  201501                      \n",
       "4         3.20        38  201501                      "
      ]
     },
     "execution_count": 6,
     "metadata": {},
     "output_type": "execute_result"
    }
   ],
   "source": [
    "df.head()"
   ]
  },
  {
   "cell_type": "code",
   "execution_count": null,
   "metadata": {
    "collapsed": true
   },
   "outputs": [],
   "source": []
  }
 ],
 "metadata": {
  "kernelspec": {
   "display_name": "Python 2",
   "language": "python",
   "name": "python2"
  },
  "language_info": {
   "codemirror_mode": {
    "name": "ipython",
    "version": 2
   },
   "file_extension": ".py",
   "mimetype": "text/x-python",
   "name": "python",
   "nbconvert_exporter": "python",
   "pygments_lexer": "ipython2",
   "version": "2.7.6"
  }
 },
 "nbformat": 4,
 "nbformat_minor": 0
}
