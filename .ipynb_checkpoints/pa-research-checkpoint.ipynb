{
 "cells": [
  {
   "cell_type": "markdown",
   "metadata": {},
   "source": [
    "# Are statin prescribing ratios different for dispensing practices?"
   ]
  },
  {
   "cell_type": "markdown",
   "metadata": {},
   "source": [
    "#### 1. Obtain GP Prescribing data\n",
    "#### 2. Cut GP Prescribing data for things of interest (statins)\n",
    "#### 3. Obtain list of dispensing practices\n",
    "#### 3a. Add codes to list of dispensing practices (name and address only is provided)\n",
    "#### 4. Combine statin cut and dispensing practice list\n",
    "#### 5. Compare dispensing vs non-dispensing statin prescribing ratios"
   ]
  },
  {
   "cell_type": "code",
   "execution_count": 4,
   "metadata": {
    "collapsed": false
   },
   "outputs": [],
   "source": [
    "import requests\n",
    "from StringIO import StringIO\n",
    "from numpy import nan as NA\n",
    "import pandas as pd\n",
    "import zipfile\n",
    "import re"
   ]
  },
  {
   "cell_type": "code",
   "execution_count": 15,
   "metadata": {
    "collapsed": false
   },
   "outputs": [],
   "source": [
    "def fetch_prescribing_data():\n",
    "    url = 'http://datagov.ic.nhs.uk/presentation/2015_01_January/T201501PDPI+BNFT.CSV' #gp prescribing data (Jan 2015)\n",
    "    r = requests.get(url)\n",
    "    data = r.content\n",
    "    return(pd.read_csv(StringIO(data)))\n",
    "\n",
    "def fetch_dispensary_data():\n",
    "    url = 'http://systems.hscic.gov.uk/data/ods/datadownloads/data-files/edispensary.zip'\n",
    "    r = requests.get(url)\n",
    "    z = zipfile.ZipFile(StringIO(r.content))\n",
    "    return(pd.read_csv(z.open('edispensary.csv')))\n",
    "\n",
    "def fetch_gp_details():\n",
    "    url = 'http://systems.hscic.gov.uk/data/ods/datadownloads/data-files/epraccur.zip'\n",
    "    r = requests.get(url)\n",
    "    z = zipfile.ZipFile(StringIO(r.content))\n",
    "    df = pd.read_csv(z.open('epraccur.csv'))\n",
    "    df.to_csv('datas/epraccur.csv')\n",
    "\n",
    "def clean_prescribing_data(df):\n",
    "    df.columns = [x.strip() for x in df.columns] #gets rid of variable whitespace\n",
    "    df = df[df['BNF NAME'].str.contains('statin')] #cut for rows with statin in them\n",
    "    df = df[~df['BNF NAME'].str.contains('Nystatin|Sandostatin|Ecostatin')] #throw away unwanted statins\n",
    "    df.to_csv('datas/StatinsJan2015.csv') #save the result\n",
    "    return(df)\n",
    "\n",
    "def clean_dispensing_practice_addresses(dpad):\n",
    "    dpad = dpad['Dispensing Practices Address Details'].dropna()\n",
    "    dpad = dpad.reset_index()\n",
    "    del dpad['index']\n",
    "    dpad['Dispensing Practices Address Details'] = dpad['Dispensing Practices Address Details'].str.strip()\n",
    "    dpad['Dispensing Practices Address Details'] = dpad['Dispensing Practices Address Details'].str.replace('\\n', ' ')\n",
    "    dpad['Name'] = dpad['Dispensing Practices Address Details'].str.split(',').str[1]\n",
    "    dpad['Postcode'] = dpad['Dispensing Practices Address Details'].str.split(',').str[-1]\n",
    "    dpad.ix[254,2] = 'BN25 1HH' #one practice lacked a postcode.... we fix this manually\n",
    "    return(dpad)\n",
    "\n",
    "def validate_dispensing_postcodes():\n",
    "    assert(len(dpad[~dpad.Postcode.str.contains(r'[A-Z]{1,2}[0-9R][0-9A-Z]? [0-9][A-Z]{2}')]) == 0) #length of dataframe of postcodes that don't pass regex should be 0 \n",
    "\n",
    "#nb df = pd.read_csv('http://datagov.ic.nhs.uk/presentation/2015_01_January/T201501PDPI+BNFT.CSV') should also work but seems slower"
   ]
  },
  {
   "cell_type": "code",
   "execution_count": 16,
   "metadata": {
    "collapsed": false
   },
   "outputs": [],
   "source": [
    "#df = fetch_prescribing_data() #commented because requires internet and is slow \n",
    "#df = clean_prescribing_data(df) #commented because need only run once and is slow\n",
    "#dispdata = fetch_dispensary_data() #doesn't actually contain dispensing practices\n",
    "fetch_gp_details()\n",
    "\n",
    "df = pd.read_csv('datas/StatinsJan2015.csv') #load cleaned prescribing data cut\n",
    "gpdetail = pd.read_csv('datas/epraccur.csv') #from http://systems.hscic.gov.uk/data/ods/datadownloads/data-files/epraccur.zip\n",
    "\n",
    "dpad_formatting_junk = ['Dispensing Practices Address Details', 'Primary Care Trust:', 'Report For:', 'Practice Name and Address', 'January 2015']\n",
    "dpad = pd.read_excel('datas/Disp Pracs Name and Address 2015-01-31.xls', usecols=[0], na_values=dpad_formatting_junk) #load dispensing practice list\n",
    "\n",
    "\n"
   ]
  },
  {
   "cell_type": "code",
   "execution_count": 17,
   "metadata": {
    "collapsed": false
   },
   "outputs": [
    {
     "name": "stdout",
     "output_type": "stream",
     "text": [
      "/home/sam/Dropbox/Documents/pa-research/datas\n"
     ]
    }
   ],
   "source": [
    "cd datas/"
   ]
  },
  {
   "cell_type": "code",
   "execution_count": 56,
   "metadata": {
    "collapsed": false
   },
   "outputs": [
    {
     "data": {
      "text/plain": [
       "1182"
      ]
     },
     "execution_count": 56,
     "metadata": {},
     "output_type": "execute_result"
    }
   ],
   "source": [
    "len(epraccur[epraccur.icol(1).isin(dpnames)]) #1182.. need to match postcode too"
   ]
  },
  {
   "cell_type": "code",
   "execution_count": 81,
   "metadata": {
    "collapsed": false
   },
   "outputs": [],
   "source": [
    "#need to extract name, postcodes from dpad and epraccur and match on both"
   ]
  },
  {
   "cell_type": "code",
   "execution_count": 98,
   "metadata": {
    "collapsed": false
   },
   "outputs": [
    {
     "data": {
      "text/html": [
       "<div style=\"max-height:1000px;max-width:1500px;overflow:auto;\">\n",
       "<table border=\"1\" class=\"dataframe\">\n",
       "  <thead>\n",
       "    <tr style=\"text-align: right;\">\n",
       "      <th></th>\n",
       "      <th>A81043</th>\n",
       "      <th>THE MANOR HOUSE SURGERY</th>\n",
       "      <th>Y54</th>\n",
       "      <th>Q74</th>\n",
       "      <th>THE MANOR HOUSE SURGERY.1</th>\n",
       "      <th>BRAIDWOOD ROAD, NORMANBY</th>\n",
       "      <th>MIDDLESBROUGH</th>\n",
       "      <th>CLEVELAND</th>\n",
       "      <th>Unnamed: 8</th>\n",
       "      <th>TS6 0HA</th>\n",
       "      <th>...</th>\n",
       "      <th>Unnamed: 16</th>\n",
       "      <th>01642 374788</th>\n",
       "      <th>Unnamed: 18</th>\n",
       "      <th>Unnamed: 19</th>\n",
       "      <th>Unnamed: 20</th>\n",
       "      <th>1</th>\n",
       "      <th>Unnamed: 22</th>\n",
       "      <th>00M.1</th>\n",
       "      <th>Unnamed: 24</th>\n",
       "      <th>4</th>\n",
       "    </tr>\n",
       "  </thead>\n",
       "  <tbody>\n",
       "    <tr>\n",
       "      <th>0</th>\n",
       "      <td> A81044</td>\n",
       "      <td>       MCKENZIE HOUSE SURGERY</td>\n",
       "      <td> Y54</td>\n",
       "      <td> Q74</td>\n",
       "      <td>          MCKENZIE HOUSE</td>\n",
       "      <td>  17 KENDAL ROAD</td>\n",
       "      <td>       HARTLEPOOL</td>\n",
       "      <td> CLEVELAND</td>\n",
       "      <td> NaN</td>\n",
       "      <td> TS25 1QU</td>\n",
       "      <td>...</td>\n",
       "      <td>NaN</td>\n",
       "      <td> 01429 230000</td>\n",
       "      <td>NaN</td>\n",
       "      <td>NaN</td>\n",
       "      <td>NaN</td>\n",
       "      <td> 1</td>\n",
       "      <td>NaN</td>\n",
       "      <td> 00K</td>\n",
       "      <td>NaN</td>\n",
       "      <td> 4</td>\n",
       "    </tr>\n",
       "    <tr>\n",
       "      <th>1</th>\n",
       "      <td> A81057</td>\n",
       "      <td>      KINGSWAY MEDICAL CENTRE</td>\n",
       "      <td> Y54</td>\n",
       "      <td> Q74</td>\n",
       "      <td> KINGSWAY MEDICAL CENTRE</td>\n",
       "      <td>        KINGSWAY</td>\n",
       "      <td>       BILLINGHAM</td>\n",
       "      <td> CLEVELAND</td>\n",
       "      <td> NaN</td>\n",
       "      <td> TS23 2LS</td>\n",
       "      <td>...</td>\n",
       "      <td>NaN</td>\n",
       "      <td> 01642 554967</td>\n",
       "      <td>NaN</td>\n",
       "      <td>NaN</td>\n",
       "      <td>NaN</td>\n",
       "      <td> 1</td>\n",
       "      <td>NaN</td>\n",
       "      <td> 00K</td>\n",
       "      <td>NaN</td>\n",
       "      <td> 4</td>\n",
       "    </tr>\n",
       "    <tr>\n",
       "      <th>2</th>\n",
       "      <td> A81623</td>\n",
       "      <td> NORTH SHORE MEDICAL PRACTICE</td>\n",
       "      <td> Y54</td>\n",
       "      <td> Q74</td>\n",
       "      <td>         ENDURANCE HOUSE</td>\n",
       "      <td> CLARENCE STREET</td>\n",
       "      <td> STOCKTON ON TEES</td>\n",
       "      <td> CLEVELAND</td>\n",
       "      <td> NaN</td>\n",
       "      <td> TS18 2EP</td>\n",
       "      <td>...</td>\n",
       "      <td>NaN</td>\n",
       "      <td> 01642 602222</td>\n",
       "      <td>NaN</td>\n",
       "      <td>NaN</td>\n",
       "      <td>NaN</td>\n",
       "      <td> 1</td>\n",
       "      <td>NaN</td>\n",
       "      <td> 00K</td>\n",
       "      <td>NaN</td>\n",
       "      <td> 4</td>\n",
       "    </tr>\n",
       "    <tr>\n",
       "      <th>3</th>\n",
       "      <td> A82034</td>\n",
       "      <td>           STONELEIGH SURGERY</td>\n",
       "      <td> Y54</td>\n",
       "      <td> Q74</td>\n",
       "      <td>      STONELEIGH SURGERY</td>\n",
       "      <td>   POLICE SQUARE</td>\n",
       "      <td>       MILNTHORPE</td>\n",
       "      <td>   CUMBRIA</td>\n",
       "      <td> NaN</td>\n",
       "      <td>  LA7 7PW</td>\n",
       "      <td>...</td>\n",
       "      <td>NaN</td>\n",
       "      <td> 01539 563307</td>\n",
       "      <td>NaN</td>\n",
       "      <td>NaN</td>\n",
       "      <td>NaN</td>\n",
       "      <td> 1</td>\n",
       "      <td>NaN</td>\n",
       "      <td> 01H</td>\n",
       "      <td>NaN</td>\n",
       "      <td> 4</td>\n",
       "    </tr>\n",
       "    <tr>\n",
       "      <th>4</th>\n",
       "      <td> A82075</td>\n",
       "      <td>        MANSION HOUSE SURGERY</td>\n",
       "      <td> Y54</td>\n",
       "      <td> Q74</td>\n",
       "      <td>      19/20 IRISH STREET</td>\n",
       "      <td>      WHITEHAVEN</td>\n",
       "      <td>          CUMBRIA</td>\n",
       "      <td>       NaN</td>\n",
       "      <td> NaN</td>\n",
       "      <td> CA28 7BU</td>\n",
       "      <td>...</td>\n",
       "      <td>NaN</td>\n",
       "      <td> 01946 693660</td>\n",
       "      <td>NaN</td>\n",
       "      <td>NaN</td>\n",
       "      <td>NaN</td>\n",
       "      <td> 1</td>\n",
       "      <td>NaN</td>\n",
       "      <td> 01H</td>\n",
       "      <td>NaN</td>\n",
       "      <td> 4</td>\n",
       "    </tr>\n",
       "  </tbody>\n",
       "</table>\n",
       "<p>5 rows × 26 columns</p>\n",
       "</div>"
      ],
      "text/plain": [
       "   A81043       THE MANOR HOUSE SURGERY  Y54  Q74 THE MANOR HOUSE SURGERY.1  \\\n",
       "0  A81044        MCKENZIE HOUSE SURGERY  Y54  Q74            MCKENZIE HOUSE   \n",
       "1  A81057       KINGSWAY MEDICAL CENTRE  Y54  Q74   KINGSWAY MEDICAL CENTRE   \n",
       "2  A81623  NORTH SHORE MEDICAL PRACTICE  Y54  Q74           ENDURANCE HOUSE   \n",
       "3  A82034            STONELEIGH SURGERY  Y54  Q74        STONELEIGH SURGERY   \n",
       "4  A82075         MANSION HOUSE SURGERY  Y54  Q74        19/20 IRISH STREET   \n",
       "\n",
       "  BRAIDWOOD ROAD, NORMANBY     MIDDLESBROUGH  CLEVELAND Unnamed: 8   TS6 0HA  \\\n",
       "0           17 KENDAL ROAD        HARTLEPOOL  CLEVELAND        NaN  TS25 1QU   \n",
       "1                 KINGSWAY        BILLINGHAM  CLEVELAND        NaN  TS23 2LS   \n",
       "2          CLARENCE STREET  STOCKTON ON TEES  CLEVELAND        NaN  TS18 2EP   \n",
       "3            POLICE SQUARE        MILNTHORPE    CUMBRIA        NaN   LA7 7PW   \n",
       "4               WHITEHAVEN           CUMBRIA        NaN        NaN  CA28 7BU   \n",
       "\n",
       "     ...     Unnamed: 16  01642 374788 Unnamed: 18 Unnamed: 19 Unnamed: 20  1  \\\n",
       "0    ...             NaN  01429 230000         NaN         NaN         NaN  1   \n",
       "1    ...             NaN  01642 554967         NaN         NaN         NaN  1   \n",
       "2    ...             NaN  01642 602222         NaN         NaN         NaN  1   \n",
       "3    ...             NaN  01539 563307         NaN         NaN         NaN  1   \n",
       "4    ...             NaN  01946 693660         NaN         NaN         NaN  1   \n",
       "\n",
       "   Unnamed: 22 00M.1  Unnamed: 24  4  \n",
       "0          NaN   00K          NaN  4  \n",
       "1          NaN   00K          NaN  4  \n",
       "2          NaN   00K          NaN  4  \n",
       "3          NaN   01H          NaN  4  \n",
       "4          NaN   01H          NaN  4  \n",
       "\n",
       "[5 rows x 26 columns]"
      ]
     },
     "execution_count": 98,
     "metadata": {},
     "output_type": "execute_result"
    }
   ],
   "source": [
    "epraccur.head()"
   ]
  },
  {
   "cell_type": "code",
   "execution_count": 57,
   "metadata": {
    "collapsed": false
   },
   "outputs": [],
   "source": [
    "dpcodes = epraccur[epraccur.icol(1).isin(dpnames)].icol(0) #dispensing practice codes"
   ]
  },
  {
   "cell_type": "code",
   "execution_count": 58,
   "metadata": {
    "collapsed": false
   },
   "outputs": [
    {
     "data": {
      "text/plain": [
       "1168"
      ]
     },
     "execution_count": 58,
     "metadata": {},
     "output_type": "execute_result"
    }
   ],
   "source": [
    "len(df[df['PRACTICE'].isin(dpcodes)]['PRACTICE'].unique()) #dispensing practices we can identify in prescribing data"
   ]
  },
  {
   "cell_type": "code",
   "execution_count": 14,
   "metadata": {
    "collapsed": false
   },
   "outputs": [],
   "source": [
    "dpp = df[df['PRACTICE'].isin(dpcodes)] #dispensing practice prescribing\n",
    "ndpp = df[~df['PRACTICE'].isin(dpcodes)]#not dispensing practice prescribing\n"
   ]
  },
  {
   "cell_type": "code",
   "execution_count": 15,
   "metadata": {
    "collapsed": false
   },
   "outputs": [
    {
     "name": "stdout",
     "output_type": "stream",
     "text": [
      "3.95387513006\n"
     ]
    }
   ],
   "source": [
    "rp_dpp = dpp[dpp['BNF NAME'].str.contains('Rosuvastatin')].ITEMS.sum() #rosuvastatin prescriptions\n",
    "nrp_dpp = dpp[~dpp['BNF NAME'].str.contains('Rosuvastatin')].ITEMS.sum() #not rosuvastatin prescriptions\n",
    "assert(dpp.ITEMS.sum() == rp_dpp + nrp_dpp) #sanity check\n",
    "percent_r_dpp = float(rp_dpp) / (float(nrp_dpp) + float(rp_dpp)) * 100 #percentage rosuvastatin prescribing\n",
    "print percent_r_dpp"
   ]
  },
  {
   "cell_type": "code",
   "execution_count": 16,
   "metadata": {
    "collapsed": false
   },
   "outputs": [
    {
     "name": "stdout",
     "output_type": "stream",
     "text": [
      "2.56572627191\n"
     ]
    }
   ],
   "source": [
    "rp_ndpp = ndpp[ndpp['BNF NAME'].str.contains('Rosuvastatin')].ITEMS.sum() #rosuvastatin prescriptions\n",
    "nrp_ndpp = ndpp[~ndpp['BNF NAME'].str.contains('Rosuvastatin')].ITEMS.sum() #not rosuvastatin prescriptions\n",
    "assert(ndpp.ITEMS.sum() == rp_ndpp + nrp_ndpp) #sanity check\n",
    "percent_r_ndpp = float(rp_ndpp) / (float(nrp_ndpp) + float(rp_ndpp)) * 100 #percentage rosuvastatin prescribing\n",
    "print percent_r_ndpp"
   ]
  },
  {
   "cell_type": "code",
   "execution_count": 18,
   "metadata": {
    "collapsed": false
   },
   "outputs": [
    {
     "data": {
      "text/plain": [
       "count    6351.000000\n",
       "mean       17.397260\n",
       "std        18.832802\n",
       "min         1.000000\n",
       "25%         5.000000\n",
       "50%        12.000000\n",
       "75%        23.000000\n",
       "max       251.000000\n",
       "dtype: float64"
      ]
     },
     "execution_count": 18,
     "metadata": {},
     "output_type": "execute_result"
    }
   ],
   "source": [
    "ndpp[ndpp['BNF NAME'].str.contains('Rosuvastatin')].groupby('PRACTICE').ITEMS.sum().describe() #ndpp rp"
   ]
  },
  {
   "cell_type": "code",
   "execution_count": 19,
   "metadata": {
    "collapsed": false
   },
   "outputs": [
    {
     "data": {
      "text/plain": [
       "count    1145.000000\n",
       "mean       37.603493\n",
       "std        39.370594\n",
       "min         1.000000\n",
       "25%        11.000000\n",
       "50%        26.000000\n",
       "75%        50.000000\n",
       "max       333.000000\n",
       "dtype: float64"
      ]
     },
     "execution_count": 19,
     "metadata": {},
     "output_type": "execute_result"
    }
   ],
   "source": [
    "dpp[dpp['BNF NAME'].str.contains('Rosuvastatin')].groupby('PRACTICE').ITEMS.sum().describe() #dpp rp"
   ]
  },
  {
   "cell_type": "code",
   "execution_count": 21,
   "metadata": {
    "collapsed": false
   },
   "outputs": [
    {
     "data": {
      "text/plain": [
       "count    7496.000000\n",
       "mean       20.483725\n",
       "std        24.288454\n",
       "min         1.000000\n",
       "25%         6.000000\n",
       "50%        13.000000\n",
       "75%        26.000000\n",
       "max       333.000000\n",
       "dtype: float64"
      ]
     },
     "execution_count": 21,
     "metadata": {},
     "output_type": "execute_result"
    }
   ],
   "source": [
    "df[df['BNF NAME'].str.contains('Rosuvastatin')].groupby('PRACTICE').ITEMS.sum().describe() #practices that have rp"
   ]
  },
  {
   "cell_type": "code",
   "execution_count": 25,
   "metadata": {
    "collapsed": false
   },
   "outputs": [
    {
     "data": {
      "text/plain": [
       "8238"
      ]
     },
     "execution_count": 25,
     "metadata": {},
     "output_type": "execute_result"
    }
   ],
   "source": [
    "len(df.groupby('PRACTICE').ITEMS.sum()) #total number of practices"
   ]
  },
  {
   "cell_type": "code",
   "execution_count": 27,
   "metadata": {
    "collapsed": false
   },
   "outputs": [
    {
     "ename": "SyntaxError",
     "evalue": "invalid syntax (<ipython-input-27-d2890b98cb33>, line 1)",
     "output_type": "error",
     "traceback": [
      "\u001b[1;36m  File \u001b[1;32m\"<ipython-input-27-d2890b98cb33>\"\u001b[1;36m, line \u001b[1;32m1\u001b[0m\n\u001b[1;33m    df['BNF NAME'].str.contains('Rosuvastatin')]\u001b[0m\n\u001b[1;37m                                               ^\u001b[0m\n\u001b[1;31mSyntaxError\u001b[0m\u001b[1;31m:\u001b[0m invalid syntax\n"
     ]
    }
   ],
   "source": [
    "df['BNF NAME'].str.contains('Rosuvastatin')]"
   ]
  },
  {
   "cell_type": "code",
   "execution_count": 31,
   "metadata": {
    "collapsed": false
   },
   "outputs": [
    {
     "data": {
      "text/plain": [
       "819657.86000000569"
      ]
     },
     "execution_count": 31,
     "metadata": {},
     "output_type": "execute_result"
    }
   ],
   "source": [
    "dpp[dpp['BNF NAME'].str.contains('Rosuvastatin')]['ACT COST'].sum()"
   ]
  },
  {
   "cell_type": "code",
   "execution_count": null,
   "metadata": {
    "collapsed": true
   },
   "outputs": [],
   "source": []
  }
 ],
 "metadata": {
  "kernelspec": {
   "display_name": "Python 2",
   "language": "python",
   "name": "python2"
  },
  "language_info": {
   "codemirror_mode": {
    "name": "ipython",
    "version": 2
   },
   "file_extension": ".py",
   "mimetype": "text/x-python",
   "name": "python",
   "nbconvert_exporter": "python",
   "pygments_lexer": "ipython2",
   "version": "2.7.6"
  }
 },
 "nbformat": 4,
 "nbformat_minor": 0
}
