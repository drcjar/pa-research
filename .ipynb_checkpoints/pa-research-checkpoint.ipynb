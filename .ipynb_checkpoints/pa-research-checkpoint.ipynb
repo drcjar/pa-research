{
 "cells": [
  {
   "cell_type": "markdown",
   "metadata": {},
   "source": [
    "# Are statin prescribing ratios different for dispensing practices?"
   ]
  },
  {
   "cell_type": "markdown",
   "metadata": {},
   "source": [
    "#### 1. Obtain GP Prescribing data\n",
    "#### 2. Cut GP Prescribing data for things of interest (statins)\n",
    "#### 3. Obtain list of dispensing practices\n",
    "#### 3a. Add codes to list of dispensing practices (name and address only is provided)\n",
    "#### 4. Combine statin cut and dispensing practice list\n",
    "#### 5. Compare dispensing vs non-dispensing statin prescribing ratios"
   ]
  },
  {
   "cell_type": "code",
   "execution_count": 21,
   "metadata": {
    "collapsed": false
   },
   "outputs": [],
   "source": [
    "import requests\n",
    "from StringIO import StringIO\n",
    "from numpy import nan as NA\n",
    "import pandas as pd\n",
    "import zipfile\n",
    "import re\n",
    "%matplotlib inline\n",
    "import matplotlib.pyplot as plt\n",
    "import xlrd\n",
    "import statsmodels.api as sm\n",
    "from patsy import dmatrices, dmatrix\n",
    "import scipy as scipy\n",
    "import numpy as np"
   ]
  },
  {
   "cell_type": "code",
   "execution_count": 22,
   "metadata": {
    "collapsed": false
   },
   "outputs": [],
   "source": [
    "def fetch_prescribing_data():\n",
    "    url = 'http://datagov.ic.nhs.uk/presentation/2015_01_January/T201501PDPI+BNFT.CSV' #gp prescribing data (Jan 2015)\n",
    "    r = requests.get(url)\n",
    "    data = r.content\n",
    "    df = (pd.read_csv(StringIO(data)))\n",
    "    df.to_csv('datas/T201501PDPI+BNFT.CSV')\n",
    "\n",
    "def fetch_dispensary_data():\n",
    "    url = 'http://systems.hscic.gov.uk/data/ods/datadownloads/data-files/edispensary.zip'\n",
    "    r = requests.get(url)\n",
    "    z = zipfile.ZipFile(StringIO(r.content))\n",
    "    df = pd.read_csv(z.open('edispensary.csv'))\n",
    "    df.to_csv('datas/edispensary.csv')\n",
    "\n",
    "def fetch_gp_details():\n",
    "    url = 'http://systems.hscic.gov.uk/data/ods/datadownloads/data-files/epraccur.zip'\n",
    "    r = requests.get(url)\n",
    "    z = zipfile.ZipFile(StringIO(r.content))\n",
    "    df = pd.read_csv(z.open('epraccur.csv'))\n",
    "    df.to_csv('datas/epraccur.csv')\n",
    "\n",
    "def clean_prescribing_data(df):\n",
    "    df.columns = [x.strip() for x in df.columns] #gets rid of variable whitespace\n",
    "    return(df)\n",
    "\n",
    "def cut_prescribing_data(df, target, junk):\n",
    "    df = df[df['BNF NAME'].str.contains(target)] #cut for rows with target in them\n",
    "    df = df[~df['BNF NAME'].str.contains(junk)] #throw away unwanted drugs\n",
    "    #df.to_csv('datas/%sJan2015.csv' % target) #save the result\n",
    "    return(df)\n",
    "\n",
    "def clean_dispensing_practice_addresses(dpad):\n",
    "    dpad = dpad['Dispensing Practices Address Details'].dropna()\n",
    "    dpad = dpad.reset_index()\n",
    "    del dpad['index']\n",
    "    dpad['Dispensing Practices Address Details'] = dpad['Dispensing Practices Address Details'].str.strip()\n",
    "    dpad['Dispensing Practices Address Details'] = dpad['Dispensing Practices Address Details'].str.replace('\\n', ' ')\n",
    "    dpad['NAME'] = dpad['Dispensing Practices Address Details'].str.split(',').str[0].str.upper()\n",
    "    dpad['POSTCODE'] = dpad['Dispensing Practices Address Details'].str.split(',').str[-1].astype(str).str.strip()\n",
    "    dpad.ix[254,2] = 'BN25 1HH' #one practice lacked a postcode.... we fix this manually\n",
    "    dpad.ix[254,1] = 'Old School Surgery'\n",
    "    return(dpad)\n",
    "\n",
    "def validate_dispensing_postcodes():\n",
    "    assert(len(dpad[~dpad.Postcode.str.contains(r'[A-Z]{1,2}[0-9R][0-9A-Z]? [0-9][A-Z]{2}')]) == 0) #length of dataframe of postcodes that don't pass regex should be 0 \n",
    "\n",
    "\n",
    "#nb df = pd.read_csv('http://datagov.ic.nhs.uk/presentation/2015_01_January/T201501PDPI+BNFT.CSV') should also work but seems slower"
   ]
  },
  {
   "cell_type": "code",
   "execution_count": 23,
   "metadata": {
    "collapsed": true
   },
   "outputs": [],
   "source": [
    "gpdetail = pd.read_csv('datas/epraccur.csv') #from http://systems.hscic.gov.uk/data/ods/datadownloads/data-files/epraccur.zip\n",
    "\n",
    "dpad_formatting_junk = ['Dispensing Practices Address Details', 'Primary Care Trust:', 'Report For:', 'Practice Name and Address', 'January 2015']\n",
    "dpad = pd.read_excel('datas/Disp Pracs Name and Address 2015-01-31.xls', usecols=[0], na_values=dpad_formatting_junk) #load dispensing practice list\n",
    "\n",
    "dpad = clean_dispensing_practice_addresses(dpad)\n",
    "\n",
    "gpdetail = gpdetail.icol([1,2,10,26,15]) #throw away columns we don't care about\n",
    "gpdetail.columns = ['PRACTICE', 'NAME', 'POSTCODE', 'Prescribing Setting', 'CCG']\n",
    "\n",
    "dpad = pd.merge(gpdetail, dpad, on=['NAME','POSTCODE']) #merge to add practice codes\n"
   ]
  },
  {
   "cell_type": "code",
   "execution_count": 24,
   "metadata": {
    "collapsed": false
   },
   "outputs": [],
   "source": [
    "df = pd.read_csv('datas/T201501PDPI+BNFT.CSV') #commented because need only run once and is slow\n",
    "df = clean_prescribing_data(df) #commented because need only run once and is slow"
   ]
  },
  {
   "cell_type": "code",
   "execution_count": 25,
   "metadata": {
    "collapsed": false
   },
   "outputs": [],
   "source": [
    "df = cut_prescribing_data(df, 'statin', 'Nystatin|Sandostatin|Ecostatin')"
   ]
  },
  {
   "cell_type": "code",
   "execution_count": 26,
   "metadata": {
    "collapsed": true
   },
   "outputs": [],
   "source": [
    "def add_dispensing_practice_column(df):\n",
    "    df['DP'] = df.PRACTICE.isin(dpad.PRACTICE) #add column DP to identify Dispensing Practices\n",
    "    return(df)"
   ]
  },
  {
   "cell_type": "code",
   "execution_count": 27,
   "metadata": {
    "collapsed": false
   },
   "outputs": [],
   "source": [
    "df = add_dispensing_practice_column(df)"
   ]
  },
  {
   "cell_type": "code",
   "execution_count": 28,
   "metadata": {
    "collapsed": false
   },
   "outputs": [],
   "source": [
    "def add_proportion_bad(df, bad):\n",
    "    df['is_bad'] = df['BNF NAME'].str.contains(bad) #add column for Is Bad\n",
    "    df = df.groupby(['DP','PRACTICE', 'is_bad']).ITEMS.sum()\n",
    "    df = df.unstack()\n",
    "    df = df.reset_index()\n",
    "    df = df.fillna(0.0) #applying groupby when there are no items in a category generates NaNs where we would instead prefer 0's\n",
    "    df.columns = ['DP', 'PRACTICE', 'good', 'bad']\n",
    "    df['Proportion'] = (df['bad'] / (df['bad'] + df['good']))\n",
    "    return(df)"
   ]
  },
  {
   "cell_type": "code",
   "execution_count": 29,
   "metadata": {
    "collapsed": false
   },
   "outputs": [],
   "source": [
    "df = add_proportion_bad(df, 'Rosuvastatin')"
   ]
  },
  {
   "cell_type": "code",
   "execution_count": 30,
   "metadata": {
    "collapsed": false
   },
   "outputs": [],
   "source": [
    "def add_gp_details(df):\n",
    "    df = pd.merge(df, gpdetail, on='PRACTICE')\n",
    "    return(df)"
   ]
  },
  {
   "cell_type": "code",
   "execution_count": 31,
   "metadata": {
    "collapsed": true
   },
   "outputs": [],
   "source": [
    "df = add_gp_details(df)"
   ]
  },
  {
   "cell_type": "code",
   "execution_count": 32,
   "metadata": {
    "collapsed": false
   },
   "outputs": [],
   "source": [
    "def prescribing_setting_analysis(df):\n",
    "    lookup =  {0:'Other' , 1:'WIC Practice' , 2:'OOH Practice' , 3:'WIC + OOH Practice' , 4:'GP Practice' , \n",
    "               8:'Public Health Service' , 9:'Community Health Service' , 10:'Hospital Service' , 11:'Optometry Service' , \n",
    "              12:'Urgent & Emergency Care' , 13:'Hospice' , 14:'Care Home / Nursing Home' , 15:'Border Force' , \n",
    "              16:'Young Offender Institution' , 17:'Secure Training Centre' , 18:'Secure Children\\'s Home' , 19:'Immigration Removal Centre' , \n",
    "              20:'Court' , 21:'Police Custody' , 22:'Sexual Assault Referral Centre\\'(SARC)' , 24:'Other – Justice Estate' , \n",
    "              25:'Prison'}  \n",
    "   \n",
    "    df['Prescribing Setting'] = df['Prescribing Setting'].map(lambda x: lookup.get(x))\n",
    "    \n",
    "    print 'Unique prescribing settings: '\n",
    "    print df['Prescribing Setting'].unique() \n",
    "    print '\\n'\n",
    "\n",
    "    \n",
    "    print 'Number of each practices in each type of prescribing setting: '\n",
    "    print df['Prescribing Setting'].value_counts()\n",
    "    print '\\n'\n",
    "\n",
    "    \n",
    "    print 'Mean badness proportion bu prescribing setting: '\n",
    "    prop_mean = df.groupby('Prescribing Setting').Proportion.mean()\n",
    "    prop_mean.sort(ascending=False)\n",
    "    print prop_mean\n",
    "    "
   ]
  },
  {
   "cell_type": "code",
   "execution_count": 33,
   "metadata": {
    "collapsed": false
   },
   "outputs": [
    {
     "name": "stdout",
     "output_type": "stream",
     "text": [
      "Unique prescribing settings: \n",
      "['GP Practice' 'OOH Practice' 'Public Health Service'\n",
      " 'Care Home / Nursing Home' 'Community Health Service' 'Other'\n",
      " 'WIC Practice' 'Hospice' 'Hospital Service' 'Urgent & Emergency Care'\n",
      " 'Optometry Service' 'Prison' 'WIC + OOH Practice']\n",
      "\n",
      "\n",
      "Number of each practices in each type of prescribing setting: \n",
      "GP Practice                 7865\n",
      "OOH Practice                 114\n",
      "Community Health Service      87\n",
      "Other                         55\n",
      "Care Home / Nursing Home      36\n",
      "WIC Practice                  30\n",
      "Public Health Service         16\n",
      "Hospital Service              16\n",
      "Hospice                        6\n",
      "Urgent & Emergency Care        6\n",
      "Prison                         3\n",
      "WIC + OOH Practice             2\n",
      "Optometry Service              1\n",
      "dtype: int64\n",
      "\n",
      "\n",
      "Mean badness proportion bu prescribing setting: \n",
      "Prescribing Setting\n",
      "Hospital Service            0.107639\n",
      "Community Health Service    0.062790\n",
      "WIC Practice                0.038791\n",
      "OOH Practice                0.030067\n",
      "GP Practice                 0.027666\n",
      "Care Home / Nursing Home    0.018058\n",
      "Other                       0.008713\n",
      "Public Health Service       0.007589\n",
      "WIC + OOH Practice          0.000000\n",
      "Urgent & Emergency Care     0.000000\n",
      "Prison                      0.000000\n",
      "Optometry Service           0.000000\n",
      "Hospice                     0.000000\n",
      "Name: Proportion, dtype: float64\n"
     ]
    }
   ],
   "source": [
    "prescribing_setting_analysis(df)"
   ]
  },
  {
   "cell_type": "code",
   "execution_count": 34,
   "metadata": {
    "collapsed": false
   },
   "outputs": [],
   "source": [
    "def throw_away_not_gp_practices(df):\n",
    "        df = df[df['Prescribing Setting'] == 'GP Practice'] #throw away ones that aren't GP practices\n",
    "        return(df)"
   ]
  },
  {
   "cell_type": "code",
   "execution_count": 35,
   "metadata": {
    "collapsed": false
   },
   "outputs": [],
   "source": [
    "df = throw_away_not_gp_practices(df)"
   ]
  },
  {
   "cell_type": "code",
   "execution_count": 122,
   "metadata": {
    "collapsed": false
   },
   "outputs": [],
   "source": [
    "def proportion_analysis(df, target):\n",
    "    df.columns = ['DP', 'PRACTICE', 'not_%s' % target, target, 'Proportion', 'NAME', 'POSTCODE', \n",
    "                  'Prescribing Setting', 'CCG']\n",
    "    \n",
    "    print '\\n non-dispensing practices \\n'\n",
    "    df[df['DP'] == False].hist(bins=40)\n",
    "    print df[df['DP'] == False].describe()\n",
    "    print ('\\nmean proportion is: %.3f \\nmedian proportion is: %.3f \\nvariance is: %.3f \\nskew is: %3.f\\n' % \n",
    "            (df[df['DP'] == False]['Proportion'].mean(),  df[df['DP'] == False]['Proportion'].median(),  \n",
    "             df[df['DP'] == False]['Proportion'].var(),  \n",
    "             df[df['DP'] == False]['Proportion'].skew()))\n",
    "    \n",
    "    print '\\n dispensing practices: \\n'\n",
    "    df[df['DP'] == True].hist(bins=28)\n",
    "    print df[df['DP'] == True].describe()\n",
    "    print ('\\nmean proportion is: %.3f \\nmedian proportion is: %.3f \\nvariance is: %.3f \\nskew is: %3.f\\n' % \n",
    "            (df[df['DP'] == True]['Proportion'].mean(),  df[df['DP'] == True]['Proportion'].median(),  \n",
    "             df[df['DP'] == True]['Proportion'].var(),  \n",
    "             df[df['DP'] == True]['Proportion'].skew()))\n",
    "    \n",
    "    \n",
    "    df[['DP', 'Proportion']].boxplot(by='DP', figsize=(6,6))\n",
    "    plt.title(\"Prescribing in non-dispensing vs dispensing practices\")\n",
    "    plt.suptitle(\"\")\n",
    "    plt.ylabel('Proportion of statin items that are %s' % target)\n",
    "    plt.xlabel('Dispensing practice')\n",
    "    \n"
   ]
  },
  {
   "cell_type": "code",
   "execution_count": 123,
   "metadata": {
    "collapsed": false
   },
   "outputs": [
    {
     "name": "stdout",
     "output_type": "stream",
     "text": [
      "\n",
      " non-dispensing practices \n",
      "\n",
      "          DP  not_rosuvastatin  rosuvastatin   Proportion\n",
      "count   6851       6851.000000   6851.000000  6851.000000\n",
      "mean       0        628.145088     16.613925     0.025598\n",
      "std        0        436.720303     18.903334     0.025675\n",
      "min    False          0.000000      0.000000     0.000000\n",
      "25%        0        314.500000      4.000000     0.010169\n",
      "50%        0        526.000000     11.000000     0.019874\n",
      "75%        0        834.000000     22.000000     0.034544\n",
      "max    False       3716.000000    251.000000     1.000000\n",
      "\n",
      "mean proportion is: 0.026 \n",
      "median proportion is: 0.020 \n",
      "variance is: 0.001 \n",
      "skew is:  10\n",
      "\n",
      "\n",
      " dispensing practices: \n",
      "\n",
      "         DP  not_rosuvastatin  rosuvastatin   Proportion\n",
      "count  1014       1014.000000   1014.000000  1014.000000\n",
      "mean      1        922.237673     39.098619     0.041637\n",
      "std       0        583.815846     40.690707     0.039699\n",
      "min    True          7.000000      0.000000     0.000000\n",
      "25%       1        503.250000     12.000000     0.016594\n",
      "50%       1        783.000000     27.000000     0.032234\n",
      "75%       1       1215.250000     51.750000     0.054272\n",
      "max    True       5345.000000    333.000000     0.496923\n",
      "\n",
      "mean proportion is: 0.042 \n",
      "median proportion is: 0.032 \n",
      "variance is: 0.002 \n",
      "skew is:   4\n",
      "\n"
     ]
    },
    {
     "data": {
      "image/png": "[encoded data removed]",
      "text/plain": [
       "<matplotlib.figure.Figure at 0x7f88f2f3e090>"
      ]
     },
     "metadata": {},
     "output_type": "display_data"
    },
    {
     "data": {
      "image/png": "[encoded data removed]",
      "text/plain": [
       "<matplotlib.figure.Figure at 0x7f88d4b0b650>"
      ]
     },
     "metadata": {},
     "output_type": "display_data"
    },
    {
     "data": {
      "image/png": "[encoded data removed]",
      "text/plain": [
       "<matplotlib.figure.Figure at 0x7f88d38e8210>"
      ]
     },
     "metadata": {},
     "output_type": "display_data"
    }
   ],
   "source": [
    "proportion_analysis(df, 'rosuvastatin')"
   ]
  },
  {
   "cell_type": "code",
   "execution_count": 22,
   "metadata": {
    "collapsed": false
   },
   "outputs": [
    {
     "data": {
      "text/plain": [
       "0.01987353206865402"
      ]
     },
     "execution_count": 22,
     "metadata": {},
     "output_type": "execute_result"
    }
   ],
   "source": [
    "df1[df1['DP'] == False].Proportion.median()"
   ]
  },
  {
   "cell_type": "code",
   "execution_count": 23,
   "metadata": {
    "collapsed": false
   },
   "outputs": [
    {
     "data": {
      "text/plain": [
       "0.03223444953478487"
      ]
     },
     "execution_count": 23,
     "metadata": {},
     "output_type": "execute_result"
    }
   ],
   "source": [
    "df1[df1['DP'] == True].Proportion.median()"
   ]
  },
  {
   "cell_type": "code",
   "execution_count": 24,
   "metadata": {
    "collapsed": false
   },
   "outputs": [
    {
     "data": {
      "text/plain": [
       "count    6851.000000\n",
       "mean        0.025598\n",
       "std         0.025675\n",
       "min         0.000000\n",
       "25%         0.010169\n",
       "50%         0.019874\n",
       "75%         0.034544\n",
       "max         1.000000\n",
       "Name: Proportion, dtype: float64"
      ]
     },
     "execution_count": 24,
     "metadata": {},
     "output_type": "execute_result"
    }
   ],
   "source": [
    "df1[df1['DP'] == False].Proportion.describe()"
   ]
  },
  {
   "cell_type": "code",
   "execution_count": 25,
   "metadata": {
    "collapsed": false
   },
   "outputs": [
    {
     "data": {
      "text/plain": [
       "count    1014.000000\n",
       "mean        0.041637\n",
       "std         0.039699\n",
       "min         0.000000\n",
       "25%         0.016594\n",
       "50%         0.032234\n",
       "75%         0.054272\n",
       "max         0.496923\n",
       "Name: Proportion, dtype: float64"
      ]
     },
     "execution_count": 25,
     "metadata": {},
     "output_type": "execute_result"
    }
   ],
   "source": [
    "df1[df1['DP'] == True].Proportion.describe()"
   ]
  },
  {
   "cell_type": "code",
   "execution_count": 26,
   "metadata": {
    "collapsed": false
   },
   "outputs": [
    {
     "data": {
      "text/html": [
       "<div style=\"max-height:1000px;max-width:1500px;overflow:auto;\">\n",
       "<table border=\"1\" class=\"dataframe\">\n",
       "  <thead>\n",
       "    <tr style=\"text-align: right;\">\n",
       "      <th></th>\n",
       "      <th>DP</th>\n",
       "      <th>PRACTICE</th>\n",
       "      <th>False_IR</th>\n",
       "      <th>True_IR</th>\n",
       "      <th>Proportion</th>\n",
       "      <th>NAME</th>\n",
       "      <th>POSTCODE</th>\n",
       "      <th>Prescribing Setting</th>\n",
       "      <th>CCG</th>\n",
       "    </tr>\n",
       "  </thead>\n",
       "  <tbody>\n",
       "    <tr>\n",
       "      <th>1095</th>\n",
       "      <td>False</td>\n",
       "      <td>C83656</td>\n",
       "      <td>0</td>\n",
       "      <td>1</td>\n",
       "      <td>1</td>\n",
       "      <td>UNIVERSITY SURGERY</td>\n",
       "      <td>LN6 7GA</td>\n",
       "      <td>4</td>\n",
       "      <td>04D</td>\n",
       "    </tr>\n",
       "  </tbody>\n",
       "</table>\n",
       "</div>"
      ],
      "text/plain": [
       "         DP PRACTICE  False_IR  True_IR  Proportion                NAME  \\\n",
       "1095  False   C83656         0        1           1  UNIVERSITY SURGERY   \n",
       "\n",
       "     POSTCODE  Prescribing Setting  CCG  \n",
       "1095  LN6 7GA                    4  04D  "
      ]
     },
     "execution_count": 26,
     "metadata": {},
     "output_type": "execute_result"
    }
   ],
   "source": [
    "df1[df1['Proportion'] > 0.5].sort(columns='Proportion', ascending=False).head()"
   ]
  },
  {
   "cell_type": "code",
   "execution_count": 27,
   "metadata": {
    "collapsed": false
   },
   "outputs": [
    {
     "data": {
      "text/plain": [
       "<matplotlib.axes._subplots.AxesSubplot at 0x7fa156bf5210>"
      ]
     },
     "execution_count": 27,
     "metadata": {},
     "output_type": "execute_result"
    },
    {
     "data": {
      "image/png": "[encoded data removed]",
      "text/plain": [
       "<matplotlib.figure.Figure at 0x7fa156bd84d0>"
      ]
     },
     "metadata": {},
     "output_type": "display_data"
    }
   ],
   "source": [
    "df1.Proportion.hist(bins=40)"
   ]
  },
  {
   "cell_type": "code",
   "execution_count": 28,
   "metadata": {
    "collapsed": false
   },
   "outputs": [
    {
     "data": {
      "text/plain": [
       "<matplotlib.axes._subplots.AxesSubplot at 0x7fa154b24b10>"
      ]
     },
     "execution_count": 28,
     "metadata": {},
     "output_type": "execute_result"
    },
    {
     "data": {
      "image/png": "[encoded data removed]",
      "text/plain": [
       "<matplotlib.figure.Figure at 0x7fa15a4c1350>"
      ]
     },
     "metadata": {},
     "output_type": "display_data"
    }
   ],
   "source": [
    "df1[df1['DP'] == True].Proportion.hist(bins=28)"
   ]
  },
  {
   "cell_type": "code",
   "execution_count": 29,
   "metadata": {
    "collapsed": false
   },
   "outputs": [
    {
     "data": {
      "text/plain": [
       "<matplotlib.axes._subplots.AxesSubplot at 0x7fa15a28b610>"
      ]
     },
     "execution_count": 29,
     "metadata": {},
     "output_type": "execute_result"
    },
    {
     "data": {
      "image/png": "[encoded data removed]",
      "text/plain": [
       "<matplotlib.figure.Figure at 0x7fa1546a1850>"
      ]
     },
     "metadata": {},
     "output_type": "display_data"
    }
   ],
   "source": [
    "df1[df1['DP'] == False].Proportion.hist(bins=40)"
   ]
  },
  {
   "cell_type": "markdown",
   "metadata": {
    "collapsed": true
   },
   "source": [
    "## next steps... add ccg column and try :\n",
    "## meglm proportionstupid dispensingornot || ccg:, family(binomial) link(logit) in statsmodels"
   ]
  },
  {
   "cell_type": "code",
   "execution_count": 30,
   "metadata": {
    "collapsed": false
   },
   "outputs": [],
   "source": [
    "ccg_codes = df1.CCG.unique()\n",
    "ccg_lookup = zip(list(ccg_codes), range(0,209))\n",
    "ccg_lookup = dict(ccg_lookup)"
   ]
  },
  {
   "cell_type": "code",
   "execution_count": 31,
   "metadata": {
    "collapsed": false
   },
   "outputs": [
    {
     "name": "stderr",
     "output_type": "stream",
     "text": [
      "/home/sam/.virtualenvs/pa-research/lib/python2.7/site-packages/IPython/kernel/__main__.py:3: SettingWithCopyWarning: \n",
      "A value is trying to be set on a copy of a slice from a DataFrame.\n",
      "Try using .loc[row_indexer,col_indexer] = value instead\n",
      "\n",
      "See the the caveats in the documentation: http://pandas.pydata.org/pandas-docs/stable/indexing.html#indexing-view-versus-copy\n",
      "  app.launch_new_instance()\n",
      "/home/sam/.virtualenvs/pa-research/lib/python2.7/site-packages/IPython/kernel/__main__.py:4: SettingWithCopyWarning: \n",
      "A value is trying to be set on a copy of a slice from a DataFrame.\n",
      "Try using .loc[row_indexer,col_indexer] = value instead\n",
      "\n",
      "See the the caveats in the documentation: http://pandas.pydata.org/pandas-docs/stable/indexing.html#indexing-view-versus-copy\n",
      "/home/sam/.virtualenvs/pa-research/lib/python2.7/site-packages/IPython/kernel/__main__.py:5: SettingWithCopyWarning: \n",
      "A value is trying to be set on a copy of a slice from a DataFrame.\n",
      "Try using .loc[row_indexer,col_indexer] = value instead\n",
      "\n",
      "See the the caveats in the documentation: http://pandas.pydata.org/pandas-docs/stable/indexing.html#indexing-view-versus-copy\n",
      "/home/sam/.virtualenvs/pa-research/lib/python2.7/site-packages/IPython/kernel/__main__.py:6: SettingWithCopyWarning: \n",
      "A value is trying to be set on a copy of a slice from a DataFrame.\n",
      "Try using .loc[row_indexer,col_indexer] = value instead\n",
      "\n",
      "See the the caveats in the documentation: http://pandas.pydata.org/pandas-docs/stable/indexing.html#indexing-view-versus-copy\n"
     ]
    }
   ],
   "source": [
    "\n",
    "df2 = df1[['DP', 'Proportion', 'CCG']]\n",
    "df2['DP'] = df2['DP'].astype(str).str.replace('False','0').str.replace('True','1')\n",
    "df2['CCG'] = df2['CCG'].map(lambda x: ccg_lookup.get(x))\n",
    "df2['DP'] = df2['DP'].astype(int)\n",
    "df2['CCG'] = df2['CCG'].astype(int)"
   ]
  },
  {
   "cell_type": "code",
   "execution_count": 35,
   "metadata": {
    "collapsed": false
   },
   "outputs": [],
   "source": [
    "df2.to_csv('pa_research_for_stata.csv')"
   ]
  },
  {
   "cell_type": "code",
   "execution_count": 81,
   "metadata": {
    "collapsed": true
   },
   "outputs": [],
   "source": [
    "def model(df):\n",
    "           \n",
    "    y, X = dmatrices('Proportion ~ C(DP) + C(CCG)', data=df, return_type='dataframe') \n",
    "\n",
    "    mod = sm.Poisson(y, X) #http://statsmodels.sourceforge.net/devel/endog_exog.html\n",
    "    \n",
    "    res = mod.fit(maxiter=100)\n",
    "\n",
    "    return res\n",
    "\n"
   ]
  },
  {
   "cell_type": "code",
   "execution_count": 82,
   "metadata": {
    "collapsed": false
   },
   "outputs": [
    {
     "name": "stdout",
     "output_type": "stream",
     "text": [
      "Optimization terminated successfully.\n",
      "         Current function value: 0.109181\n",
      "         Iterations 10\n"
     ]
    }
   ],
   "source": [
    "res = model(df2)"
   ]
  },
  {
   "cell_type": "code",
   "execution_count": 83,
   "metadata": {
    "collapsed": false
   },
   "outputs": [
    {
     "data": {
      "text/html": [
       "<table class=\"simpletable\">\n",
       "<caption>Poisson Regression Results</caption>\n",
       "<tr>\n",
       "  <th>Dep. Variable:</th>    <td>Proportion</td>    <th>  No. Observations:  </th>  <td>  7865</td> \n",
       "</tr>\n",
       "<tr>\n",
       "  <th>Model:</th>              <td>Poisson</td>     <th>  Df Residuals:      </th>  <td>  7655</td> \n",
       "</tr>\n",
       "<tr>\n",
       "  <th>Method:</th>               <td>MLE</td>       <th>  Df Model:          </th>  <td>   209</td> \n",
       "</tr>\n",
       "<tr>\n",
       "  <th>Date:</th>          <td>Thu, 02 Jul 2015</td> <th>  Pseudo R-squ.:     </th>  <td>0.02658</td>\n",
       "</tr>\n",
       "<tr>\n",
       "  <th>Time:</th>              <td>15:02:14</td>     <th>  Log-Likelihood:    </th> <td> -858.71</td>\n",
       "</tr>\n",
       "<tr>\n",
       "  <th>converged:</th>           <td>True</td>       <th>  LL-Null:           </th> <td> -882.16</td>\n",
       "</tr>\n",
       "<tr>\n",
       "  <th> </th>                      <td> </td>        <th>  LLR p-value:       </th>  <td> 1.000</td> \n",
       "</tr>\n",
       "</table>\n",
       "<table class=\"simpletable\">\n",
       "<tr>\n",
       "        <td></td>           <th>coef</th>     <th>std err</th>      <th>z</th>      <th>P>|z|</th> <th>[95.0% Conf. Int.]</th> \n",
       "</tr>\n",
       "<tr>\n",
       "  <th>Intercept</th>     <td>   -3.9791</td> <td>    1.135</td> <td>   -3.506</td> <td> 0.000</td> <td>   -6.204    -1.755</td>\n",
       "</tr>\n",
       "<tr>\n",
       "  <th>C(DP)[T.1]</th>    <td>    0.4108</td> <td>    0.209</td> <td>    1.961</td> <td> 0.050</td> <td>    0.000     0.821</td>\n",
       "</tr>\n",
       "<tr>\n",
       "  <th>C(CCG)[T.1]</th>   <td>   -0.1114</td> <td>    1.609</td> <td>   -0.069</td> <td> 0.945</td> <td>   -3.264     3.041</td>\n",
       "</tr>\n",
       "<tr>\n",
       "  <th>C(CCG)[T.2]</th>   <td>   -0.0528</td> <td>    1.370</td> <td>   -0.039</td> <td> 0.969</td> <td>   -2.737     2.632</td>\n",
       "</tr>\n",
       "<tr>\n",
       "  <th>C(CCG)[T.3]</th>   <td>    0.1124</td> <td>    1.526</td> <td>    0.074</td> <td> 0.941</td> <td>   -2.879     3.103</td>\n",
       "</tr>\n",
       "<tr>\n",
       "  <th>C(CCG)[T.4]</th>   <td>    0.2849</td> <td>    2.153</td> <td>    0.132</td> <td> 0.895</td> <td>   -3.935     4.505</td>\n",
       "</tr>\n",
       "<tr>\n",
       "  <th>C(CCG)[T.5]</th>   <td>    0.3777</td> <td>    1.534</td> <td>    0.246</td> <td> 0.805</td> <td>   -2.628     3.383</td>\n",
       "</tr>\n",
       "<tr>\n",
       "  <th>C(CCG)[T.6]</th>   <td>   -0.7289</td> <td>    1.824</td> <td>   -0.400</td> <td> 0.689</td> <td>   -4.304     2.846</td>\n",
       "</tr>\n",
       "<tr>\n",
       "  <th>C(CCG)[T.7]</th>   <td>   -0.4278</td> <td>    1.579</td> <td>   -0.271</td> <td> 0.786</td> <td>   -3.523     2.667</td>\n",
       "</tr>\n",
       "<tr>\n",
       "  <th>C(CCG)[T.8]</th>   <td>   -0.7776</td> <td>    2.287</td> <td>   -0.340</td> <td> 0.734</td> <td>   -5.261     3.705</td>\n",
       "</tr>\n",
       "<tr>\n",
       "  <th>C(CCG)[T.9]</th>   <td>   -0.5928</td> <td>    2.178</td> <td>   -0.272</td> <td> 0.785</td> <td>   -4.861     3.676</td>\n",
       "</tr>\n",
       "<tr>\n",
       "  <th>C(CCG)[T.10]</th>  <td>    0.2857</td> <td>    1.430</td> <td>    0.200</td> <td> 0.842</td> <td>   -2.518     3.089</td>\n",
       "</tr>\n",
       "<tr>\n",
       "  <th>C(CCG)[T.11]</th>  <td>    0.2142</td> <td>    1.428</td> <td>    0.150</td> <td> 0.881</td> <td>   -2.584     3.013</td>\n",
       "</tr>\n",
       "<tr>\n",
       "  <th>C(CCG)[T.12]</th>  <td>   -0.0042</td> <td>    1.730</td> <td>   -0.002</td> <td> 0.998</td> <td>   -3.394     3.386</td>\n",
       "</tr>\n",
       "<tr>\n",
       "  <th>C(CCG)[T.13]</th>  <td>    0.4273</td> <td>    1.460</td> <td>    0.293</td> <td> 0.770</td> <td>   -2.434     3.288</td>\n",
       "</tr>\n",
       "<tr>\n",
       "  <th>C(CCG)[T.14]</th>  <td>    0.8044</td> <td>    1.495</td> <td>    0.538</td> <td> 0.590</td> <td>   -2.125     3.734</td>\n",
       "</tr>\n",
       "<tr>\n",
       "  <th>C(CCG)[T.15]</th>  <td>    0.5129</td> <td>    1.453</td> <td>    0.353</td> <td> 0.724</td> <td>   -2.336     3.361</td>\n",
       "</tr>\n",
       "<tr>\n",
       "  <th>C(CCG)[T.16]</th>  <td>    0.5197</td> <td>    1.736</td> <td>    0.299</td> <td> 0.765</td> <td>   -2.883     3.922</td>\n",
       "</tr>\n",
       "<tr>\n",
       "  <th>C(CCG)[T.17]</th>  <td>    0.5725</td> <td>    1.616</td> <td>    0.354</td> <td> 0.723</td> <td>   -2.595     3.740</td>\n",
       "</tr>\n",
       "<tr>\n",
       "  <th>C(CCG)[T.18]</th>  <td>    0.6736</td> <td>    1.662</td> <td>    0.405</td> <td> 0.685</td> <td>   -2.584     3.931</td>\n",
       "</tr>\n",
       "<tr>\n",
       "  <th>C(CCG)[T.19]</th>  <td>    0.0205</td> <td>    1.740</td> <td>    0.012</td> <td> 0.991</td> <td>   -3.389     3.430</td>\n",
       "</tr>\n",
       "<tr>\n",
       "  <th>C(CCG)[T.20]</th>  <td>    0.1393</td> <td>    1.557</td> <td>    0.089</td> <td> 0.929</td> <td>   -2.911     3.190</td>\n",
       "</tr>\n",
       "<tr>\n",
       "  <th>C(CCG)[T.21]</th>  <td>   -0.9282</td> <td>    2.510</td> <td>   -0.370</td> <td> 0.711</td> <td>   -5.847     3.991</td>\n",
       "</tr>\n",
       "<tr>\n",
       "  <th>C(CCG)[T.22]</th>  <td>    0.2080</td> <td>    1.702</td> <td>    0.122</td> <td> 0.903</td> <td>   -3.128     3.544</td>\n",
       "</tr>\n",
       "<tr>\n",
       "  <th>C(CCG)[T.23]</th>  <td>    0.9403</td> <td>    1.409</td> <td>    0.668</td> <td> 0.504</td> <td>   -1.820     3.701</td>\n",
       "</tr>\n",
       "<tr>\n",
       "  <th>C(CCG)[T.24]</th>  <td>    0.7405</td> <td>    1.385</td> <td>    0.535</td> <td> 0.593</td> <td>   -1.974     3.455</td>\n",
       "</tr>\n",
       "<tr>\n",
       "  <th>C(CCG)[T.25]</th>  <td>    0.4710</td> <td>    1.472</td> <td>    0.320</td> <td> 0.749</td> <td>   -2.414     3.356</td>\n",
       "</tr>\n",
       "<tr>\n",
       "  <th>C(CCG)[T.26]</th>  <td>    0.2700</td> <td>    1.485</td> <td>    0.182</td> <td> 0.856</td> <td>   -2.640     3.180</td>\n",
       "</tr>\n",
       "<tr>\n",
       "  <th>C(CCG)[T.27]</th>  <td>    0.7160</td> <td>    1.479</td> <td>    0.484</td> <td> 0.628</td> <td>   -2.184     3.616</td>\n",
       "</tr>\n",
       "<tr>\n",
       "  <th>C(CCG)[T.28]</th>  <td>    0.4536</td> <td>    1.451</td> <td>    0.313</td> <td> 0.755</td> <td>   -2.391     3.298</td>\n",
       "</tr>\n",
       "<tr>\n",
       "  <th>C(CCG)[T.29]</th>  <td>   -0.3161</td> <td>    1.749</td> <td>   -0.181</td> <td> 0.857</td> <td>   -3.743     3.111</td>\n",
       "</tr>\n",
       "<tr>\n",
       "  <th>C(CCG)[T.30]</th>  <td>   -0.8930</td> <td>    1.861</td> <td>   -0.480</td> <td> 0.631</td> <td>   -4.541     2.755</td>\n",
       "</tr>\n",
       "<tr>\n",
       "  <th>C(CCG)[T.31]</th>  <td>   -0.6493</td> <td>    2.772</td> <td>   -0.234</td> <td> 0.815</td> <td>   -6.083     4.784</td>\n",
       "</tr>\n",
       "<tr>\n",
       "  <th>C(CCG)[T.32]</th>  <td>   -0.6995</td> <td>    3.145</td> <td>   -0.222</td> <td> 0.824</td> <td>   -6.864     5.465</td>\n",
       "</tr>\n",
       "<tr>\n",
       "  <th>C(CCG)[T.33]</th>  <td>    0.3653</td> <td>    1.481</td> <td>    0.247</td> <td> 0.805</td> <td>   -2.537     3.268</td>\n",
       "</tr>\n",
       "<tr>\n",
       "  <th>C(CCG)[T.34]</th>  <td>    0.0980</td> <td>    1.476</td> <td>    0.066</td> <td> 0.947</td> <td>   -2.795     2.991</td>\n",
       "</tr>\n",
       "<tr>\n",
       "  <th>C(CCG)[T.35]</th>  <td>   -0.2097</td> <td>    1.534</td> <td>   -0.137</td> <td> 0.891</td> <td>   -3.215     2.796</td>\n",
       "</tr>\n",
       "<tr>\n",
       "  <th>C(CCG)[T.36]</th>  <td>    0.3574</td> <td>    1.500</td> <td>    0.238</td> <td> 0.812</td> <td>   -2.583     3.298</td>\n",
       "</tr>\n",
       "<tr>\n",
       "  <th>C(CCG)[T.37]</th>  <td>    1.3024</td> <td>    1.276</td> <td>    1.020</td> <td> 0.308</td> <td>   -1.199     3.804</td>\n",
       "</tr>\n",
       "<tr>\n",
       "  <th>C(CCG)[T.38]</th>  <td>    0.5628</td> <td>    1.431</td> <td>    0.393</td> <td> 0.694</td> <td>   -2.241     3.367</td>\n",
       "</tr>\n",
       "<tr>\n",
       "  <th>C(CCG)[T.39]</th>  <td>    0.5338</td> <td>    1.586</td> <td>    0.337</td> <td> 0.736</td> <td>   -2.575     3.642</td>\n",
       "</tr>\n",
       "<tr>\n",
       "  <th>C(CCG)[T.40]</th>  <td>    0.7194</td> <td>    1.775</td> <td>    0.405</td> <td> 0.685</td> <td>   -2.760     4.198</td>\n",
       "</tr>\n",
       "<tr>\n",
       "  <th>C(CCG)[T.41]</th>  <td>   -0.6878</td> <td>    3.129</td> <td>   -0.220</td> <td> 0.826</td> <td>   -6.821     5.445</td>\n",
       "</tr>\n",
       "<tr>\n",
       "  <th>C(CCG)[T.42]</th>  <td>   -0.0102</td> <td>    1.469</td> <td>   -0.007</td> <td> 0.994</td> <td>   -2.890     2.870</td>\n",
       "</tr>\n",
       "<tr>\n",
       "  <th>C(CCG)[T.43]</th>  <td>   -0.1793</td> <td>    2.272</td> <td>   -0.079</td> <td> 0.937</td> <td>   -4.632     4.274</td>\n",
       "</tr>\n",
       "<tr>\n",
       "  <th>C(CCG)[T.44]</th>  <td>    0.3513</td> <td>    1.710</td> <td>    0.205</td> <td> 0.837</td> <td>   -3.000     3.703</td>\n",
       "</tr>\n",
       "<tr>\n",
       "  <th>C(CCG)[T.45]</th>  <td>   -0.4380</td> <td>    2.048</td> <td>   -0.214</td> <td> 0.831</td> <td>   -4.452     3.576</td>\n",
       "</tr>\n",
       "<tr>\n",
       "  <th>C(CCG)[T.46]</th>  <td>    0.4996</td> <td>    1.879</td> <td>    0.266</td> <td> 0.790</td> <td>   -3.183     4.182</td>\n",
       "</tr>\n",
       "<tr>\n",
       "  <th>C(CCG)[T.47]</th>  <td>    0.7522</td> <td>    1.394</td> <td>    0.540</td> <td> 0.589</td> <td>   -1.979     3.484</td>\n",
       "</tr>\n",
       "<tr>\n",
       "  <th>C(CCG)[T.48]</th>  <td>    0.6291</td> <td>    1.391</td> <td>    0.452</td> <td> 0.651</td> <td>   -2.098     3.356</td>\n",
       "</tr>\n",
       "<tr>\n",
       "  <th>C(CCG)[T.49]</th>  <td>    0.0507</td> <td>    1.620</td> <td>    0.031</td> <td> 0.975</td> <td>   -3.125     3.226</td>\n",
       "</tr>\n",
       "<tr>\n",
       "  <th>C(CCG)[T.50]</th>  <td>    0.1285</td> <td>    1.348</td> <td>    0.095</td> <td> 0.924</td> <td>   -2.513     2.770</td>\n",
       "</tr>\n",
       "<tr>\n",
       "  <th>C(CCG)[T.51]</th>  <td>   -0.6107</td> <td>    1.431</td> <td>   -0.427</td> <td> 0.669</td> <td>   -3.415     2.193</td>\n",
       "</tr>\n",
       "<tr>\n",
       "  <th>C(CCG)[T.52]</th>  <td>    0.3775</td> <td>    1.561</td> <td>    0.242</td> <td> 0.809</td> <td>   -2.681     3.437</td>\n",
       "</tr>\n",
       "<tr>\n",
       "  <th>C(CCG)[T.53]</th>  <td>   -0.9870</td> <td>    2.513</td> <td>   -0.393</td> <td> 0.695</td> <td>   -5.913     3.939</td>\n",
       "</tr>\n",
       "<tr>\n",
       "  <th>C(CCG)[T.54]</th>  <td>   -0.2177</td> <td>    2.029</td> <td>   -0.107</td> <td> 0.915</td> <td>   -4.194     3.759</td>\n",
       "</tr>\n",
       "<tr>\n",
       "  <th>C(CCG)[T.55]</th>  <td>   -0.1089</td> <td>    1.825</td> <td>   -0.060</td> <td> 0.952</td> <td>   -3.685     3.468</td>\n",
       "</tr>\n",
       "<tr>\n",
       "  <th>C(CCG)[T.56]</th>  <td>    0.4381</td> <td>    1.597</td> <td>    0.274</td> <td> 0.784</td> <td>   -2.693     3.569</td>\n",
       "</tr>\n",
       "<tr>\n",
       "  <th>C(CCG)[T.57]</th>  <td>    0.6069</td> <td>    1.370</td> <td>    0.443</td> <td> 0.658</td> <td>   -2.077     3.291</td>\n",
       "</tr>\n",
       "<tr>\n",
       "  <th>C(CCG)[T.58]</th>  <td>    0.5890</td> <td>    1.485</td> <td>    0.397</td> <td> 0.692</td> <td>   -2.321     3.499</td>\n",
       "</tr>\n",
       "<tr>\n",
       "  <th>C(CCG)[T.59]</th>  <td>    0.2684</td> <td>    1.608</td> <td>    0.167</td> <td> 0.867</td> <td>   -2.883     3.420</td>\n",
       "</tr>\n",
       "<tr>\n",
       "  <th>C(CCG)[T.60]</th>  <td>   -0.3932</td> <td>    1.582</td> <td>   -0.249</td> <td> 0.804</td> <td>   -3.494     2.708</td>\n",
       "</tr>\n",
       "<tr>\n",
       "  <th>C(CCG)[T.61]</th>  <td>    0.3082</td> <td>    1.378</td> <td>    0.224</td> <td> 0.823</td> <td>   -2.392     3.008</td>\n",
       "</tr>\n",
       "<tr>\n",
       "  <th>C(CCG)[T.62]</th>  <td>    0.0301</td> <td>    1.419</td> <td>    0.021</td> <td> 0.983</td> <td>   -2.751     2.811</td>\n",
       "</tr>\n",
       "<tr>\n",
       "  <th>C(CCG)[T.63]</th>  <td>    1.0975</td> <td>    1.244</td> <td>    0.882</td> <td> 0.378</td> <td>   -1.340     3.535</td>\n",
       "</tr>\n",
       "<tr>\n",
       "  <th>C(CCG)[T.64]</th>  <td>   -0.3682</td> <td>    1.563</td> <td>   -0.236</td> <td> 0.814</td> <td>   -3.431     2.694</td>\n",
       "</tr>\n",
       "<tr>\n",
       "  <th>C(CCG)[T.65]</th>  <td>   -0.0786</td> <td>    1.715</td> <td>   -0.046</td> <td> 0.963</td> <td>   -3.440     3.282</td>\n",
       "</tr>\n",
       "<tr>\n",
       "  <th>C(CCG)[T.66]</th>  <td>    0.0021</td> <td>    1.398</td> <td>    0.001</td> <td> 0.999</td> <td>   -2.738     2.743</td>\n",
       "</tr>\n",
       "<tr>\n",
       "  <th>C(CCG)[T.67]</th>  <td>    0.2833</td> <td>    1.426</td> <td>    0.199</td> <td> 0.843</td> <td>   -2.512     3.079</td>\n",
       "</tr>\n",
       "<tr>\n",
       "  <th>C(CCG)[T.68]</th>  <td>    0.7187</td> <td>    1.450</td> <td>    0.496</td> <td> 0.620</td> <td>   -2.123     3.561</td>\n",
       "</tr>\n",
       "<tr>\n",
       "  <th>C(CCG)[T.69]</th>  <td>   -0.0235</td> <td>    1.558</td> <td>   -0.015</td> <td> 0.988</td> <td>   -3.078     3.031</td>\n",
       "</tr>\n",
       "<tr>\n",
       "  <th>C(CCG)[T.70]</th>  <td>    0.7854</td> <td>    1.395</td> <td>    0.563</td> <td> 0.574</td> <td>   -1.949     3.520</td>\n",
       "</tr>\n",
       "<tr>\n",
       "  <th>C(CCG)[T.71]</th>  <td>    0.6436</td> <td>    1.348</td> <td>    0.477</td> <td> 0.633</td> <td>   -1.999     3.286</td>\n",
       "</tr>\n",
       "<tr>\n",
       "  <th>C(CCG)[T.72]</th>  <td>    0.5296</td> <td>    1.541</td> <td>    0.344</td> <td> 0.731</td> <td>   -2.490     3.549</td>\n",
       "</tr>\n",
       "<tr>\n",
       "  <th>C(CCG)[T.73]</th>  <td>    0.7350</td> <td>    1.414</td> <td>    0.520</td> <td> 0.603</td> <td>   -2.037     3.507</td>\n",
       "</tr>\n",
       "<tr>\n",
       "  <th>C(CCG)[T.74]</th>  <td>    0.2048</td> <td>    1.474</td> <td>    0.139</td> <td> 0.889</td> <td>   -2.684     3.093</td>\n",
       "</tr>\n",
       "<tr>\n",
       "  <th>C(CCG)[T.75]</th>  <td>    0.6175</td> <td>    1.391</td> <td>    0.444</td> <td> 0.657</td> <td>   -2.110     3.345</td>\n",
       "</tr>\n",
       "<tr>\n",
       "  <th>C(CCG)[T.76]</th>  <td>    0.3097</td> <td>    1.557</td> <td>    0.199</td> <td> 0.842</td> <td>   -2.742     3.362</td>\n",
       "</tr>\n",
       "<tr>\n",
       "  <th>C(CCG)[T.77]</th>  <td>   -0.1610</td> <td>    1.529</td> <td>   -0.105</td> <td> 0.916</td> <td>   -3.158     2.836</td>\n",
       "</tr>\n",
       "<tr>\n",
       "  <th>C(CCG)[T.78]</th>  <td>    0.1003</td> <td>    1.546</td> <td>    0.065</td> <td> 0.948</td> <td>   -2.930     3.131</td>\n",
       "</tr>\n",
       "<tr>\n",
       "  <th>C(CCG)[T.79]</th>  <td>   -0.2084</td> <td>    1.713</td> <td>   -0.122</td> <td> 0.903</td> <td>   -3.566     3.149</td>\n",
       "</tr>\n",
       "<tr>\n",
       "  <th>C(CCG)[T.80]</th>  <td>   -0.1220</td> <td>    1.588</td> <td>   -0.077</td> <td> 0.939</td> <td>   -3.234     2.990</td>\n",
       "</tr>\n",
       "<tr>\n",
       "  <th>C(CCG)[T.81]</th>  <td>   -0.4413</td> <td>    1.897</td> <td>   -0.233</td> <td> 0.816</td> <td>   -4.159     3.276</td>\n",
       "</tr>\n",
       "<tr>\n",
       "  <th>C(CCG)[T.82]</th>  <td>    0.3035</td> <td>    1.525</td> <td>    0.199</td> <td> 0.842</td> <td>   -2.686     3.293</td>\n",
       "</tr>\n",
       "<tr>\n",
       "  <th>C(CCG)[T.83]</th>  <td>   -0.8628</td> <td>    2.058</td> <td>   -0.419</td> <td> 0.675</td> <td>   -4.896     3.171</td>\n",
       "</tr>\n",
       "<tr>\n",
       "  <th>C(CCG)[T.84]</th>  <td>   -0.3955</td> <td>    1.609</td> <td>   -0.246</td> <td> 0.806</td> <td>   -3.550     2.759</td>\n",
       "</tr>\n",
       "<tr>\n",
       "  <th>C(CCG)[T.85]</th>  <td>   -1.1016</td> <td>    2.399</td> <td>   -0.459</td> <td> 0.646</td> <td>   -5.804     3.601</td>\n",
       "</tr>\n",
       "<tr>\n",
       "  <th>C(CCG)[T.86]</th>  <td>    0.3287</td> <td>    1.440</td> <td>    0.228</td> <td> 0.819</td> <td>   -2.494     3.151</td>\n",
       "</tr>\n",
       "<tr>\n",
       "  <th>C(CCG)[T.87]</th>  <td>    0.0316</td> <td>    1.539</td> <td>    0.021</td> <td> 0.984</td> <td>   -2.984     3.047</td>\n",
       "</tr>\n",
       "<tr>\n",
       "  <th>C(CCG)[T.88]</th>  <td>    0.2306</td> <td>    1.494</td> <td>    0.154</td> <td> 0.877</td> <td>   -2.697     3.159</td>\n",
       "</tr>\n",
       "<tr>\n",
       "  <th>C(CCG)[T.89]</th>  <td>    0.2369</td> <td>    1.485</td> <td>    0.160</td> <td> 0.873</td> <td>   -2.674     3.148</td>\n",
       "</tr>\n",
       "<tr>\n",
       "  <th>C(CCG)[T.90]</th>  <td>   -0.1186</td> <td>    1.611</td> <td>   -0.074</td> <td> 0.941</td> <td>   -3.277     3.040</td>\n",
       "</tr>\n",
       "<tr>\n",
       "  <th>C(CCG)[T.91]</th>  <td>    0.2198</td> <td>    1.825</td> <td>    0.120</td> <td> 0.904</td> <td>   -3.358     3.797</td>\n",
       "</tr>\n",
       "<tr>\n",
       "  <th>C(CCG)[T.92]</th>  <td>    0.4606</td> <td>    1.651</td> <td>    0.279</td> <td> 0.780</td> <td>   -2.775     3.696</td>\n",
       "</tr>\n",
       "<tr>\n",
       "  <th>C(CCG)[T.93]</th>  <td>    0.8765</td> <td>    1.379</td> <td>    0.636</td> <td> 0.525</td> <td>   -1.826     3.579</td>\n",
       "</tr>\n",
       "<tr>\n",
       "  <th>C(CCG)[T.94]</th>  <td>    1.0588</td> <td>    1.355</td> <td>    0.782</td> <td> 0.434</td> <td>   -1.596     3.714</td>\n",
       "</tr>\n",
       "<tr>\n",
       "  <th>C(CCG)[T.95]</th>  <td>    0.9157</td> <td>    1.364</td> <td>    0.671</td> <td> 0.502</td> <td>   -1.758     3.589</td>\n",
       "</tr>\n",
       "<tr>\n",
       "  <th>C(CCG)[T.96]</th>  <td>    0.7911</td> <td>    1.305</td> <td>    0.606</td> <td> 0.544</td> <td>   -1.766     3.348</td>\n",
       "</tr>\n",
       "<tr>\n",
       "  <th>C(CCG)[T.97]</th>  <td>    0.2666</td> <td>    1.721</td> <td>    0.155</td> <td> 0.877</td> <td>   -3.107     3.640</td>\n",
       "</tr>\n",
       "<tr>\n",
       "  <th>C(CCG)[T.98]</th>  <td>    1.0209</td> <td>    1.248</td> <td>    0.818</td> <td> 0.413</td> <td>   -1.425     3.466</td>\n",
       "</tr>\n",
       "<tr>\n",
       "  <th>C(CCG)[T.99]</th>  <td>    0.6620</td> <td>    1.623</td> <td>    0.408</td> <td> 0.683</td> <td>   -2.518     3.842</td>\n",
       "</tr>\n",
       "<tr>\n",
       "  <th>C(CCG)[T.100]</th> <td>    0.7100</td> <td>    1.594</td> <td>    0.446</td> <td> 0.656</td> <td>   -2.413     3.833</td>\n",
       "</tr>\n",
       "<tr>\n",
       "  <th>C(CCG)[T.101]</th> <td>    0.6595</td> <td>    1.709</td> <td>    0.386</td> <td> 0.700</td> <td>   -2.690     4.009</td>\n",
       "</tr>\n",
       "<tr>\n",
       "  <th>C(CCG)[T.102]</th> <td>    0.4284</td> <td>    1.455</td> <td>    0.294</td> <td> 0.768</td> <td>   -2.424     3.281</td>\n",
       "</tr>\n",
       "<tr>\n",
       "  <th>C(CCG)[T.103]</th> <td>    0.4326</td> <td>    1.604</td> <td>    0.270</td> <td> 0.787</td> <td>   -2.711     3.577</td>\n",
       "</tr>\n",
       "<tr>\n",
       "  <th>C(CCG)[T.104]</th> <td>    0.6009</td> <td>    1.393</td> <td>    0.431</td> <td> 0.666</td> <td>   -2.129     3.331</td>\n",
       "</tr>\n",
       "<tr>\n",
       "  <th>C(CCG)[T.105]</th> <td>    0.0064</td> <td>    1.571</td> <td>    0.004</td> <td> 0.997</td> <td>   -3.073     3.086</td>\n",
       "</tr>\n",
       "<tr>\n",
       "  <th>C(CCG)[T.106]</th> <td>   -0.0695</td> <td>    1.568</td> <td>   -0.044</td> <td> 0.965</td> <td>   -3.142     3.003</td>\n",
       "</tr>\n",
       "<tr>\n",
       "  <th>C(CCG)[T.107]</th> <td>    0.6702</td> <td>    1.398</td> <td>    0.479</td> <td> 0.632</td> <td>   -2.071     3.411</td>\n",
       "</tr>\n",
       "<tr>\n",
       "  <th>C(CCG)[T.108]</th> <td>    0.7015</td> <td>    1.383</td> <td>    0.507</td> <td> 0.612</td> <td>   -2.009     3.412</td>\n",
       "</tr>\n",
       "<tr>\n",
       "  <th>C(CCG)[T.109]</th> <td>    0.3358</td> <td>    1.831</td> <td>    0.183</td> <td> 0.854</td> <td>   -3.253     3.925</td>\n",
       "</tr>\n",
       "<tr>\n",
       "  <th>C(CCG)[T.110]</th> <td>    0.6634</td> <td>    1.577</td> <td>    0.421</td> <td> 0.674</td> <td>   -2.427     3.754</td>\n",
       "</tr>\n",
       "<tr>\n",
       "  <th>C(CCG)[T.111]</th> <td>    0.6746</td> <td>    1.437</td> <td>    0.469</td> <td> 0.639</td> <td>   -2.143     3.492</td>\n",
       "</tr>\n",
       "<tr>\n",
       "  <th>C(CCG)[T.112]</th> <td>    0.5185</td> <td>    1.600</td> <td>    0.324</td> <td> 0.746</td> <td>   -2.618     3.655</td>\n",
       "</tr>\n",
       "<tr>\n",
       "  <th>C(CCG)[T.113]</th> <td>    0.7261</td> <td>    2.002</td> <td>    0.363</td> <td> 0.717</td> <td>   -3.198     4.651</td>\n",
       "</tr>\n",
       "<tr>\n",
       "  <th>C(CCG)[T.114]</th> <td>    0.7797</td> <td>    1.595</td> <td>    0.489</td> <td> 0.625</td> <td>   -2.347     3.906</td>\n",
       "</tr>\n",
       "<tr>\n",
       "  <th>C(CCG)[T.115]</th> <td>    0.6753</td> <td>    1.325</td> <td>    0.510</td> <td> 0.610</td> <td>   -1.921     3.271</td>\n",
       "</tr>\n",
       "<tr>\n",
       "  <th>C(CCG)[T.116]</th> <td>    0.7737</td> <td>    1.508</td> <td>    0.513</td> <td> 0.608</td> <td>   -2.183     3.730</td>\n",
       "</tr>\n",
       "<tr>\n",
       "  <th>C(CCG)[T.117]</th> <td>    0.4854</td> <td>    1.954</td> <td>    0.248</td> <td> 0.804</td> <td>   -3.345     4.316</td>\n",
       "</tr>\n",
       "<tr>\n",
       "  <th>C(CCG)[T.118]</th> <td>   -0.2047</td> <td>    1.543</td> <td>   -0.133</td> <td> 0.894</td> <td>   -3.229     2.820</td>\n",
       "</tr>\n",
       "<tr>\n",
       "  <th>C(CCG)[T.119]</th> <td>   -0.0930</td> <td>    1.820</td> <td>   -0.051</td> <td> 0.959</td> <td>   -3.660     3.474</td>\n",
       "</tr>\n",
       "<tr>\n",
       "  <th>C(CCG)[T.120]</th> <td>   -0.8130</td> <td>    2.434</td> <td>   -0.334</td> <td> 0.738</td> <td>   -5.584     3.958</td>\n",
       "</tr>\n",
       "<tr>\n",
       "  <th>C(CCG)[T.121]</th> <td>    0.7296</td> <td>    1.374</td> <td>    0.531</td> <td> 0.595</td> <td>   -1.963     3.422</td>\n",
       "</tr>\n",
       "<tr>\n",
       "  <th>C(CCG)[T.122]</th> <td>    0.7433</td> <td>    1.518</td> <td>    0.490</td> <td> 0.624</td> <td>   -2.232     3.719</td>\n",
       "</tr>\n",
       "<tr>\n",
       "  <th>C(CCG)[T.123]</th> <td>    0.3124</td> <td>    1.654</td> <td>    0.189</td> <td> 0.850</td> <td>   -2.930     3.555</td>\n",
       "</tr>\n",
       "<tr>\n",
       "  <th>C(CCG)[T.124]</th> <td>    0.7539</td> <td>    1.232</td> <td>    0.612</td> <td> 0.541</td> <td>   -1.661     3.169</td>\n",
       "</tr>\n",
       "<tr>\n",
       "  <th>C(CCG)[T.125]</th> <td>    0.4559</td> <td>    1.512</td> <td>    0.302</td> <td> 0.763</td> <td>   -2.507     3.419</td>\n",
       "</tr>\n",
       "<tr>\n",
       "  <th>C(CCG)[T.126]</th> <td>    0.4402</td> <td>    1.650</td> <td>    0.267</td> <td> 0.790</td> <td>   -2.794     3.674</td>\n",
       "</tr>\n",
       "<tr>\n",
       "  <th>C(CCG)[T.127]</th> <td>    0.4297</td> <td>    1.716</td> <td>    0.250</td> <td> 0.802</td> <td>   -2.934     3.793</td>\n",
       "</tr>\n",
       "<tr>\n",
       "  <th>C(CCG)[T.128]</th> <td>    0.4214</td> <td>    1.375</td> <td>    0.306</td> <td> 0.759</td> <td>   -2.274     3.117</td>\n",
       "</tr>\n",
       "<tr>\n",
       "  <th>C(CCG)[T.129]</th> <td>    0.5480</td> <td>    1.567</td> <td>    0.350</td> <td> 0.726</td> <td>   -2.523     3.619</td>\n",
       "</tr>\n",
       "<tr>\n",
       "  <th>C(CCG)[T.130]</th> <td>   -0.1347</td> <td>    2.033</td> <td>   -0.066</td> <td> 0.947</td> <td>   -4.119     3.850</td>\n",
       "</tr>\n",
       "<tr>\n",
       "  <th>C(CCG)[T.131]</th> <td>    0.6148</td> <td>    1.523</td> <td>    0.404</td> <td> 0.687</td> <td>   -2.371     3.601</td>\n",
       "</tr>\n",
       "<tr>\n",
       "  <th>C(CCG)[T.132]</th> <td>    0.5607</td> <td>    1.321</td> <td>    0.425</td> <td> 0.671</td> <td>   -2.028     3.150</td>\n",
       "</tr>\n",
       "<tr>\n",
       "  <th>C(CCG)[T.133]</th> <td>    0.4354</td> <td>    1.823</td> <td>    0.239</td> <td> 0.811</td> <td>   -3.138     4.008</td>\n",
       "</tr>\n",
       "<tr>\n",
       "  <th>C(CCG)[T.134]</th> <td>    0.3932</td> <td>    1.901</td> <td>    0.207</td> <td> 0.836</td> <td>   -3.333     4.120</td>\n",
       "</tr>\n",
       "<tr>\n",
       "  <th>C(CCG)[T.135]</th> <td>    0.3242</td> <td>    2.065</td> <td>    0.157</td> <td> 0.875</td> <td>   -3.723     4.371</td>\n",
       "</tr>\n",
       "<tr>\n",
       "  <th>C(CCG)[T.136]</th> <td>    0.3452</td> <td>    2.140</td> <td>    0.161</td> <td> 0.872</td> <td>   -3.849     4.539</td>\n",
       "</tr>\n",
       "<tr>\n",
       "  <th>C(CCG)[T.137]</th> <td>    0.3931</td> <td>    1.882</td> <td>    0.209</td> <td> 0.835</td> <td>   -3.296     4.083</td>\n",
       "</tr>\n",
       "<tr>\n",
       "  <th>C(CCG)[T.138]</th> <td>    0.4565</td> <td>    1.703</td> <td>    0.268</td> <td> 0.789</td> <td>   -2.882     3.795</td>\n",
       "</tr>\n",
       "<tr>\n",
       "  <th>C(CCG)[T.139]</th> <td>    0.2040</td> <td>    2.048</td> <td>    0.100</td> <td> 0.921</td> <td>   -3.810     4.218</td>\n",
       "</tr>\n",
       "<tr>\n",
       "  <th>C(CCG)[T.140]</th> <td>   -0.1694</td> <td>    1.767</td> <td>   -0.096</td> <td> 0.924</td> <td>   -3.633     3.295</td>\n",
       "</tr>\n",
       "<tr>\n",
       "  <th>C(CCG)[T.141]</th> <td>   -0.1574</td> <td>    1.899</td> <td>   -0.083</td> <td> 0.934</td> <td>   -3.879     3.564</td>\n",
       "</tr>\n",
       "<tr>\n",
       "  <th>C(CCG)[T.142]</th> <td>   -0.3355</td> <td>    2.115</td> <td>   -0.159</td> <td> 0.874</td> <td>   -4.481     3.810</td>\n",
       "</tr>\n",
       "<tr>\n",
       "  <th>C(CCG)[T.143]</th> <td>   -0.3947</td> <td>    1.521</td> <td>   -0.259</td> <td> 0.795</td> <td>   -3.376     2.587</td>\n",
       "</tr>\n",
       "<tr>\n",
       "  <th>C(CCG)[T.144]</th> <td>   -0.5598</td> <td>    4.105</td> <td>   -0.136</td> <td> 0.892</td> <td>   -8.606     7.487</td>\n",
       "</tr>\n",
       "<tr>\n",
       "  <th>C(CCG)[T.145]</th> <td>   -0.3786</td> <td>    1.457</td> <td>   -0.260</td> <td> 0.795</td> <td>   -3.235     2.478</td>\n",
       "</tr>\n",
       "<tr>\n",
       "  <th>C(CCG)[T.146]</th> <td>    0.4245</td> <td>    1.623</td> <td>    0.262</td> <td> 0.794</td> <td>   -2.756     3.605</td>\n",
       "</tr>\n",
       "<tr>\n",
       "  <th>C(CCG)[T.147]</th> <td>    0.2571</td> <td>    1.428</td> <td>    0.180</td> <td> 0.857</td> <td>   -2.542     3.056</td>\n",
       "</tr>\n",
       "<tr>\n",
       "  <th>C(CCG)[T.148]</th> <td>    0.4852</td> <td>    1.551</td> <td>    0.313</td> <td> 0.754</td> <td>   -2.554     3.524</td>\n",
       "</tr>\n",
       "<tr>\n",
       "  <th>C(CCG)[T.149]</th> <td>    0.2819</td> <td>    1.685</td> <td>    0.167</td> <td> 0.867</td> <td>   -3.020     3.584</td>\n",
       "</tr>\n",
       "<tr>\n",
       "  <th>C(CCG)[T.150]</th> <td>    0.6230</td> <td>    1.275</td> <td>    0.489</td> <td> 0.625</td> <td>   -1.876     3.122</td>\n",
       "</tr>\n",
       "<tr>\n",
       "  <th>C(CCG)[T.151]</th> <td>    0.5038</td> <td>    1.235</td> <td>    0.408</td> <td> 0.683</td> <td>   -1.917     2.925</td>\n",
       "</tr>\n",
       "<tr>\n",
       "  <th>C(CCG)[T.152]</th> <td>    0.5461</td> <td>    1.466</td> <td>    0.373</td> <td> 0.709</td> <td>   -2.327     3.419</td>\n",
       "</tr>\n",
       "<tr>\n",
       "  <th>C(CCG)[T.153]</th> <td>    0.6604</td> <td>    1.255</td> <td>    0.526</td> <td> 0.599</td> <td>   -1.800     3.121</td>\n",
       "</tr>\n",
       "<tr>\n",
       "  <th>C(CCG)[T.154]</th> <td>    1.1875</td> <td>    1.218</td> <td>    0.975</td> <td> 0.329</td> <td>   -1.199     3.574</td>\n",
       "</tr>\n",
       "<tr>\n",
       "  <th>C(CCG)[T.155]</th> <td>   -0.0117</td> <td>    1.882</td> <td>   -0.006</td> <td> 0.995</td> <td>   -3.700     3.677</td>\n",
       "</tr>\n",
       "<tr>\n",
       "  <th>C(CCG)[T.156]</th> <td>    0.4953</td> <td>    1.538</td> <td>    0.322</td> <td> 0.747</td> <td>   -2.519     3.509</td>\n",
       "</tr>\n",
       "<tr>\n",
       "  <th>C(CCG)[T.157]</th> <td>   -0.1621</td> <td>    2.437</td> <td>   -0.067</td> <td> 0.947</td> <td>   -4.939     4.615</td>\n",
       "</tr>\n",
       "<tr>\n",
       "  <th>C(CCG)[T.158]</th> <td>   -0.0217</td> <td>    1.642</td> <td>   -0.013</td> <td> 0.989</td> <td>   -3.240     3.197</td>\n",
       "</tr>\n",
       "<tr>\n",
       "  <th>C(CCG)[T.159]</th> <td>   -0.0878</td> <td>    1.608</td> <td>   -0.055</td> <td> 0.956</td> <td>   -3.239     3.064</td>\n",
       "</tr>\n",
       "<tr>\n",
       "  <th>C(CCG)[T.160]</th> <td>    0.3455</td> <td>    1.723</td> <td>    0.201</td> <td> 0.841</td> <td>   -3.032     3.723</td>\n",
       "</tr>\n",
       "<tr>\n",
       "  <th>C(CCG)[T.161]</th> <td>    0.6413</td> <td>    1.352</td> <td>    0.474</td> <td> 0.635</td> <td>   -2.009     3.291</td>\n",
       "</tr>\n",
       "<tr>\n",
       "  <th>C(CCG)[T.162]</th> <td>    0.2959</td> <td>    1.425</td> <td>    0.208</td> <td> 0.836</td> <td>   -2.498     3.089</td>\n",
       "</tr>\n",
       "<tr>\n",
       "  <th>C(CCG)[T.163]</th> <td>    0.5733</td> <td>    1.444</td> <td>    0.397</td> <td> 0.691</td> <td>   -2.257     3.404</td>\n",
       "</tr>\n",
       "<tr>\n",
       "  <th>C(CCG)[T.164]</th> <td>    0.0474</td> <td>    1.690</td> <td>    0.028</td> <td> 0.978</td> <td>   -3.265     3.360</td>\n",
       "</tr>\n",
       "<tr>\n",
       "  <th>C(CCG)[T.165]</th> <td>    0.2792</td> <td>    1.758</td> <td>    0.159</td> <td> 0.874</td> <td>   -3.166     3.724</td>\n",
       "</tr>\n",
       "<tr>\n",
       "  <th>C(CCG)[T.166]</th> <td>   -0.5554</td> <td>    2.162</td> <td>   -0.257</td> <td> 0.797</td> <td>   -4.793     3.683</td>\n",
       "</tr>\n",
       "<tr>\n",
       "  <th>C(CCG)[T.167]</th> <td>   -0.1447</td> <td>    2.243</td> <td>   -0.065</td> <td> 0.949</td> <td>   -4.541     4.252</td>\n",
       "</tr>\n",
       "<tr>\n",
       "  <th>C(CCG)[T.168]</th> <td>    0.3445</td> <td>    1.591</td> <td>    0.217</td> <td> 0.829</td> <td>   -2.773     3.462</td>\n",
       "</tr>\n",
       "<tr>\n",
       "  <th>C(CCG)[T.169]</th> <td>    0.4914</td> <td>    1.434</td> <td>    0.343</td> <td> 0.732</td> <td>   -2.319     3.302</td>\n",
       "</tr>\n",
       "<tr>\n",
       "  <th>C(CCG)[T.170]</th> <td>    0.5256</td> <td>    1.303</td> <td>    0.403</td> <td> 0.687</td> <td>   -2.029     3.080</td>\n",
       "</tr>\n",
       "<tr>\n",
       "  <th>C(CCG)[T.171]</th> <td>    0.2529</td> <td>    1.285</td> <td>    0.197</td> <td> 0.844</td> <td>   -2.267     2.772</td>\n",
       "</tr>\n",
       "<tr>\n",
       "  <th>C(CCG)[T.172]</th> <td>    0.4436</td> <td>    1.273</td> <td>    0.348</td> <td> 0.728</td> <td>   -2.052     2.939</td>\n",
       "</tr>\n",
       "<tr>\n",
       "  <th>C(CCG)[T.173]</th> <td>    0.4166</td> <td>    1.546</td> <td>    0.269</td> <td> 0.788</td> <td>   -2.613     3.446</td>\n",
       "</tr>\n",
       "<tr>\n",
       "  <th>C(CCG)[T.174]</th> <td>    0.6805</td> <td>    1.365</td> <td>    0.498</td> <td> 0.618</td> <td>   -1.996     3.357</td>\n",
       "</tr>\n",
       "<tr>\n",
       "  <th>C(CCG)[T.175]</th> <td>   -0.2448</td> <td>    1.549</td> <td>   -0.158</td> <td> 0.874</td> <td>   -3.280     2.791</td>\n",
       "</tr>\n",
       "<tr>\n",
       "  <th>C(CCG)[T.176]</th> <td>   -0.4311</td> <td>    1.733</td> <td>   -0.249</td> <td> 0.804</td> <td>   -3.827     2.965</td>\n",
       "</tr>\n",
       "<tr>\n",
       "  <th>C(CCG)[T.177]</th> <td>    0.3147</td> <td>    1.828</td> <td>    0.172</td> <td> 0.863</td> <td>   -3.268     3.897</td>\n",
       "</tr>\n",
       "<tr>\n",
       "  <th>C(CCG)[T.178]</th> <td>    0.2850</td> <td>    1.732</td> <td>    0.165</td> <td> 0.869</td> <td>   -3.109     3.679</td>\n",
       "</tr>\n",
       "<tr>\n",
       "  <th>C(CCG)[T.179]</th> <td>    0.5888</td> <td>    1.425</td> <td>    0.413</td> <td> 0.679</td> <td>   -2.204     3.382</td>\n",
       "</tr>\n",
       "<tr>\n",
       "  <th>C(CCG)[T.180]</th> <td>   -0.2892</td> <td>    1.995</td> <td>   -0.145</td> <td> 0.885</td> <td>   -4.200     3.622</td>\n",
       "</tr>\n",
       "<tr>\n",
       "  <th>C(CCG)[T.181]</th> <td>   -0.6347</td> <td>    2.687</td> <td>   -0.236</td> <td> 0.813</td> <td>   -5.902     4.632</td>\n",
       "</tr>\n",
       "<tr>\n",
       "  <th>C(CCG)[T.182]</th> <td>   -0.2657</td> <td>    2.620</td> <td>   -0.101</td> <td> 0.919</td> <td>   -5.401     4.869</td>\n",
       "</tr>\n",
       "<tr>\n",
       "  <th>C(CCG)[T.183]</th> <td>    0.1722</td> <td>    1.327</td> <td>    0.130</td> <td> 0.897</td> <td>   -2.429     2.774</td>\n",
       "</tr>\n",
       "<tr>\n",
       "  <th>C(CCG)[T.184]</th> <td>    0.3202</td> <td>    1.529</td> <td>    0.209</td> <td> 0.834</td> <td>   -2.676     3.317</td>\n",
       "</tr>\n",
       "<tr>\n",
       "  <th>C(CCG)[T.185]</th> <td>    0.0045</td> <td>    1.718</td> <td>    0.003</td> <td> 0.998</td> <td>   -3.363     3.372</td>\n",
       "</tr>\n",
       "<tr>\n",
       "  <th>C(CCG)[T.186]</th> <td>   -0.0814</td> <td>    1.745</td> <td>   -0.047</td> <td> 0.963</td> <td>   -3.502     3.339</td>\n",
       "</tr>\n",
       "<tr>\n",
       "  <th>C(CCG)[T.187]</th> <td>    0.4153</td> <td>    1.774</td> <td>    0.234</td> <td> 0.815</td> <td>   -3.061     3.892</td>\n",
       "</tr>\n",
       "<tr>\n",
       "  <th>C(CCG)[T.188]</th> <td>    0.2671</td> <td>    1.421</td> <td>    0.188</td> <td> 0.851</td> <td>   -2.518     3.052</td>\n",
       "</tr>\n",
       "<tr>\n",
       "  <th>C(CCG)[T.189]</th> <td>    0.0606</td> <td>    2.181</td> <td>    0.028</td> <td> 0.978</td> <td>   -4.214     4.335</td>\n",
       "</tr>\n",
       "<tr>\n",
       "  <th>C(CCG)[T.190]</th> <td>   -0.6500</td> <td>    1.718</td> <td>   -0.378</td> <td> 0.705</td> <td>   -4.018     2.718</td>\n",
       "</tr>\n",
       "<tr>\n",
       "  <th>C(CCG)[T.191]</th> <td>   -0.1765</td> <td>    2.015</td> <td>   -0.088</td> <td> 0.930</td> <td>   -4.126     3.773</td>\n",
       "</tr>\n",
       "<tr>\n",
       "  <th>C(CCG)[T.192]</th> <td>   -0.4479</td> <td>    2.095</td> <td>   -0.214</td> <td> 0.831</td> <td>   -4.553     3.657</td>\n",
       "</tr>\n",
       "<tr>\n",
       "  <th>C(CCG)[T.193]</th> <td>    0.4040</td> <td>    1.550</td> <td>    0.261</td> <td> 0.794</td> <td>   -2.635     3.443</td>\n",
       "</tr>\n",
       "<tr>\n",
       "  <th>C(CCG)[T.194]</th> <td>    0.2283</td> <td>    1.795</td> <td>    0.127</td> <td> 0.899</td> <td>   -3.290     3.747</td>\n",
       "</tr>\n",
       "<tr>\n",
       "  <th>C(CCG)[T.195]</th> <td>    0.4373</td> <td>    1.518</td> <td>    0.288</td> <td> 0.773</td> <td>   -2.537     3.412</td>\n",
       "</tr>\n",
       "<tr>\n",
       "  <th>C(CCG)[T.196]</th> <td>    0.1144</td> <td>    1.901</td> <td>    0.060</td> <td> 0.952</td> <td>   -3.611     3.840</td>\n",
       "</tr>\n",
       "<tr>\n",
       "  <th>C(CCG)[T.197]</th> <td>    0.5219</td> <td>    1.387</td> <td>    0.376</td> <td> 0.707</td> <td>   -2.196     3.240</td>\n",
       "</tr>\n",
       "<tr>\n",
       "  <th>C(CCG)[T.198]</th> <td>    0.2047</td> <td>    1.615</td> <td>    0.127</td> <td> 0.899</td> <td>   -2.961     3.370</td>\n",
       "</tr>\n",
       "<tr>\n",
       "  <th>C(CCG)[T.199]</th> <td>    0.4639</td> <td>    1.491</td> <td>    0.311</td> <td> 0.756</td> <td>   -2.458     3.386</td>\n",
       "</tr>\n",
       "<tr>\n",
       "  <th>C(CCG)[T.200]</th> <td>    0.1117</td> <td>    1.668</td> <td>    0.067</td> <td> 0.947</td> <td>   -3.158     3.381</td>\n",
       "</tr>\n",
       "<tr>\n",
       "  <th>C(CCG)[T.201]</th> <td>    0.3777</td> <td>    1.660</td> <td>    0.228</td> <td> 0.820</td> <td>   -2.875     3.630</td>\n",
       "</tr>\n",
       "<tr>\n",
       "  <th>C(CCG)[T.202]</th> <td>    0.8003</td> <td>    1.350</td> <td>    0.593</td> <td> 0.553</td> <td>   -1.845     3.446</td>\n",
       "</tr>\n",
       "<tr>\n",
       "  <th>C(CCG)[T.203]</th> <td>    0.3768</td> <td>    1.501</td> <td>    0.251</td> <td> 0.802</td> <td>   -2.565     3.319</td>\n",
       "</tr>\n",
       "<tr>\n",
       "  <th>C(CCG)[T.204]</th> <td>    0.0114</td> <td>    1.546</td> <td>    0.007</td> <td> 0.994</td> <td>   -3.018     3.041</td>\n",
       "</tr>\n",
       "<tr>\n",
       "  <th>C(CCG)[T.205]</th> <td>    0.6481</td> <td>    1.368</td> <td>    0.474</td> <td> 0.636</td> <td>   -2.033     3.329</td>\n",
       "</tr>\n",
       "<tr>\n",
       "  <th>C(CCG)[T.206]</th> <td>    0.6924</td> <td>    1.433</td> <td>    0.483</td> <td> 0.629</td> <td>   -2.116     3.500</td>\n",
       "</tr>\n",
       "<tr>\n",
       "  <th>C(CCG)[T.207]</th> <td>    0.5657</td> <td>    1.325</td> <td>    0.427</td> <td> 0.669</td> <td>   -2.031     3.162</td>\n",
       "</tr>\n",
       "<tr>\n",
       "  <th>C(CCG)[T.208]</th> <td>    0.1371</td> <td>    1.841</td> <td>    0.074</td> <td> 0.941</td> <td>   -3.471     3.746</td>\n",
       "</tr>\n",
       "</table>"
      ],
      "text/plain": [
       "<class 'statsmodels.iolib.summary.Summary'>\n",
       "\"\"\"\n",
       "                          Poisson Regression Results                          \n",
       "==============================================================================\n",
       "Dep. Variable:             Proportion   No. Observations:                 7865\n",
       "Model:                        Poisson   Df Residuals:                     7655\n",
       "Method:                           MLE   Df Model:                          209\n",
       "Date:                Thu, 02 Jul 2015   Pseudo R-squ.:                 0.02658\n",
       "Time:                        15:02:14   Log-Likelihood:                -858.71\n",
       "converged:                       True   LL-Null:                       -882.16\n",
       "                                        LLR p-value:                     1.000\n",
       "=================================================================================\n",
       "                    coef    std err          z      P>|z|      [95.0% Conf. Int.]\n",
       "---------------------------------------------------------------------------------\n",
       "Intercept        -3.9791      1.135     -3.506      0.000        -6.204    -1.755\n",
       "C(DP)[T.1]        0.4108      0.209      1.961      0.050         0.000     0.821\n",
       "C(CCG)[T.1]      -0.1114      1.609     -0.069      0.945        -3.264     3.041\n",
       "C(CCG)[T.2]      -0.0528      1.370     -0.039      0.969        -2.737     2.632\n",
       "C(CCG)[T.3]       0.1124      1.526      0.074      0.941        -2.879     3.103\n",
       "C(CCG)[T.4]       0.2849      2.153      0.132      0.895        -3.935     4.505\n",
       "C(CCG)[T.5]       0.3777      1.534      0.246      0.805        -2.628     3.383\n",
       "C(CCG)[T.6]      -0.7289      1.824     -0.400      0.689        -4.304     2.846\n",
       "C(CCG)[T.7]      -0.4278      1.579     -0.271      0.786        -3.523     2.667\n",
       "C(CCG)[T.8]      -0.7776      2.287     -0.340      0.734        -5.261     3.705\n",
       "C(CCG)[T.9]      -0.5928      2.178     -0.272      0.785        -4.861     3.676\n",
       "C(CCG)[T.10]      0.2857      1.430      0.200      0.842        -2.518     3.089\n",
       "C(CCG)[T.11]      0.2142      1.428      0.150      0.881        -2.584     3.013\n",
       "C(CCG)[T.12]     -0.0042      1.730     -0.002      0.998        -3.394     3.386\n",
       "C(CCG)[T.13]      0.4273      1.460      0.293      0.770        -2.434     3.288\n",
       "C(CCG)[T.14]      0.8044      1.495      0.538      0.590        -2.125     3.734\n",
       "C(CCG)[T.15]      0.5129      1.453      0.353      0.724        -2.336     3.361\n",
       "C(CCG)[T.16]      0.5197      1.736      0.299      0.765        -2.883     3.922\n",
       "C(CCG)[T.17]      0.5725      1.616      0.354      0.723        -2.595     3.740\n",
       "C(CCG)[T.18]      0.6736      1.662      0.405      0.685        -2.584     3.931\n",
       "C(CCG)[T.19]      0.0205      1.740      0.012      0.991        -3.389     3.430\n",
       "C(CCG)[T.20]      0.1393      1.557      0.089      0.929        -2.911     3.190\n",
       "C(CCG)[T.21]     -0.9282      2.510     -0.370      0.711        -5.847     3.991\n",
       "C(CCG)[T.22]      0.2080      1.702      0.122      0.903        -3.128     3.544\n",
       "C(CCG)[T.23]      0.9403      1.409      0.668      0.504        -1.820     3.701\n",
       "C(CCG)[T.24]      0.7405      1.385      0.535      0.593        -1.974     3.455\n",
       "C(CCG)[T.25]      0.4710      1.472      0.320      0.749        -2.414     3.356\n",
       "C(CCG)[T.26]      0.2700      1.485      0.182      0.856        -2.640     3.180\n",
       "C(CCG)[T.27]      0.7160      1.479      0.484      0.628        -2.184     3.616\n",
       "C(CCG)[T.28]      0.4536      1.451      0.313      0.755        -2.391     3.298\n",
       "C(CCG)[T.29]     -0.3161      1.749     -0.181      0.857        -3.743     3.111\n",
       "C(CCG)[T.30]     -0.8930      1.861     -0.480      0.631        -4.541     2.755\n",
       "C(CCG)[T.31]     -0.6493      2.772     -0.234      0.815        -6.083     4.784\n",
       "C(CCG)[T.32]     -0.6995      3.145     -0.222      0.824        -6.864     5.465\n",
       "C(CCG)[T.33]      0.3653      1.481      0.247      0.805        -2.537     3.268\n",
       "C(CCG)[T.34]      0.0980      1.476      0.066      0.947        -2.795     2.991\n",
       "C(CCG)[T.35]     -0.2097      1.534     -0.137      0.891        -3.215     2.796\n",
       "C(CCG)[T.36]      0.3574      1.500      0.238      0.812        -2.583     3.298\n",
       "C(CCG)[T.37]      1.3024      1.276      1.020      0.308        -1.199     3.804\n",
       "C(CCG)[T.38]      0.5628      1.431      0.393      0.694        -2.241     3.367\n",
       "C(CCG)[T.39]      0.5338      1.586      0.337      0.736        -2.575     3.642\n",
       "C(CCG)[T.40]      0.7194      1.775      0.405      0.685        -2.760     4.198\n",
       "C(CCG)[T.41]     -0.6878      3.129     -0.220      0.826        -6.821     5.445\n",
       "C(CCG)[T.42]     -0.0102      1.469     -0.007      0.994        -2.890     2.870\n",
       "C(CCG)[T.43]     -0.1793      2.272     -0.079      0.937        -4.632     4.274\n",
       "C(CCG)[T.44]      0.3513      1.710      0.205      0.837        -3.000     3.703\n",
       "C(CCG)[T.45]     -0.4380      2.048     -0.214      0.831        -4.452     3.576\n",
       "C(CCG)[T.46]      0.4996      1.879      0.266      0.790        -3.183     4.182\n",
       "C(CCG)[T.47]      0.7522      1.394      0.540      0.589        -1.979     3.484\n",
       "C(CCG)[T.48]      0.6291      1.391      0.452      0.651        -2.098     3.356\n",
       "C(CCG)[T.49]      0.0507      1.620      0.031      0.975        -3.125     3.226\n",
       "C(CCG)[T.50]      0.1285      1.348      0.095      0.924        -2.513     2.770\n",
       "C(CCG)[T.51]     -0.6107      1.431     -0.427      0.669        -3.415     2.193\n",
       "C(CCG)[T.52]      0.3775      1.561      0.242      0.809        -2.681     3.437\n",
       "C(CCG)[T.53]     -0.9870      2.513     -0.393      0.695        -5.913     3.939\n",
       "C(CCG)[T.54]     -0.2177      2.029     -0.107      0.915        -4.194     3.759\n",
       "C(CCG)[T.55]     -0.1089      1.825     -0.060      0.952        -3.685     3.468\n",
       "C(CCG)[T.56]      0.4381      1.597      0.274      0.784        -2.693     3.569\n",
       "C(CCG)[T.57]      0.6069      1.370      0.443      0.658        -2.077     3.291\n",
       "C(CCG)[T.58]      0.5890      1.485      0.397      0.692        -2.321     3.499\n",
       "C(CCG)[T.59]      0.2684      1.608      0.167      0.867        -2.883     3.420\n",
       "C(CCG)[T.60]     -0.3932      1.582     -0.249      0.804        -3.494     2.708\n",
       "C(CCG)[T.61]      0.3082      1.378      0.224      0.823        -2.392     3.008\n",
       "C(CCG)[T.62]      0.0301      1.419      0.021      0.983        -2.751     2.811\n",
       "C(CCG)[T.63]      1.0975      1.244      0.882      0.378        -1.340     3.535\n",
       "C(CCG)[T.64]     -0.3682      1.563     -0.236      0.814        -3.431     2.694\n",
       "C(CCG)[T.65]     -0.0786      1.715     -0.046      0.963        -3.440     3.282\n",
       "C(CCG)[T.66]      0.0021      1.398      0.001      0.999        -2.738     2.743\n",
       "C(CCG)[T.67]      0.2833      1.426      0.199      0.843        -2.512     3.079\n",
       "C(CCG)[T.68]      0.7187      1.450      0.496      0.620        -2.123     3.561\n",
       "C(CCG)[T.69]     -0.0235      1.558     -0.015      0.988        -3.078     3.031\n",
       "C(CCG)[T.70]      0.7854      1.395      0.563      0.574        -1.949     3.520\n",
       "C(CCG)[T.71]      0.6436      1.348      0.477      0.633        -1.999     3.286\n",
       "C(CCG)[T.72]      0.5296      1.541      0.344      0.731        -2.490     3.549\n",
       "C(CCG)[T.73]      0.7350      1.414      0.520      0.603        -2.037     3.507\n",
       "C(CCG)[T.74]      0.2048      1.474      0.139      0.889        -2.684     3.093\n",
       "C(CCG)[T.75]      0.6175      1.391      0.444      0.657        -2.110     3.345\n",
       "C(CCG)[T.76]      0.3097      1.557      0.199      0.842        -2.742     3.362\n",
       "C(CCG)[T.77]     -0.1610      1.529     -0.105      0.916        -3.158     2.836\n",
       "C(CCG)[T.78]      0.1003      1.546      0.065      0.948        -2.930     3.131\n",
       "C(CCG)[T.79]     -0.2084      1.713     -0.122      0.903        -3.566     3.149\n",
       "C(CCG)[T.80]     -0.1220      1.588     -0.077      0.939        -3.234     2.990\n",
       "C(CCG)[T.81]     -0.4413      1.897     -0.233      0.816        -4.159     3.276\n",
       "C(CCG)[T.82]      0.3035      1.525      0.199      0.842        -2.686     3.293\n",
       "C(CCG)[T.83]     -0.8628      2.058     -0.419      0.675        -4.896     3.171\n",
       "C(CCG)[T.84]     -0.3955      1.609     -0.246      0.806        -3.550     2.759\n",
       "C(CCG)[T.85]     -1.1016      2.399     -0.459      0.646        -5.804     3.601\n",
       "C(CCG)[T.86]      0.3287      1.440      0.228      0.819        -2.494     3.151\n",
       "C(CCG)[T.87]      0.0316      1.539      0.021      0.984        -2.984     3.047\n",
       "C(CCG)[T.88]      0.2306      1.494      0.154      0.877        -2.697     3.159\n",
       "C(CCG)[T.89]      0.2369      1.485      0.160      0.873        -2.674     3.148\n",
       "C(CCG)[T.90]     -0.1186      1.611     -0.074      0.941        -3.277     3.040\n",
       "C(CCG)[T.91]      0.2198      1.825      0.120      0.904        -3.358     3.797\n",
       "C(CCG)[T.92]      0.4606      1.651      0.279      0.780        -2.775     3.696\n",
       "C(CCG)[T.93]      0.8765      1.379      0.636      0.525        -1.826     3.579\n",
       "C(CCG)[T.94]      1.0588      1.355      0.782      0.434        -1.596     3.714\n",
       "C(CCG)[T.95]      0.9157      1.364      0.671      0.502        -1.758     3.589\n",
       "C(CCG)[T.96]      0.7911      1.305      0.606      0.544        -1.766     3.348\n",
       "C(CCG)[T.97]      0.2666      1.721      0.155      0.877        -3.107     3.640\n",
       "C(CCG)[T.98]      1.0209      1.248      0.818      0.413        -1.425     3.466\n",
       "C(CCG)[T.99]      0.6620      1.623      0.408      0.683        -2.518     3.842\n",
       "C(CCG)[T.100]     0.7100      1.594      0.446      0.656        -2.413     3.833\n",
       "C(CCG)[T.101]     0.6595      1.709      0.386      0.700        -2.690     4.009\n",
       "C(CCG)[T.102]     0.4284      1.455      0.294      0.768        -2.424     3.281\n",
       "C(CCG)[T.103]     0.4326      1.604      0.270      0.787        -2.711     3.577\n",
       "C(CCG)[T.104]     0.6009      1.393      0.431      0.666        -2.129     3.331\n",
       "C(CCG)[T.105]     0.0064      1.571      0.004      0.997        -3.073     3.086\n",
       "C(CCG)[T.106]    -0.0695      1.568     -0.044      0.965        -3.142     3.003\n",
       "C(CCG)[T.107]     0.6702      1.398      0.479      0.632        -2.071     3.411\n",
       "C(CCG)[T.108]     0.7015      1.383      0.507      0.612        -2.009     3.412\n",
       "C(CCG)[T.109]     0.3358      1.831      0.183      0.854        -3.253     3.925\n",
       "C(CCG)[T.110]     0.6634      1.577      0.421      0.674        -2.427     3.754\n",
       "C(CCG)[T.111]     0.6746      1.437      0.469      0.639        -2.143     3.492\n",
       "C(CCG)[T.112]     0.5185      1.600      0.324      0.746        -2.618     3.655\n",
       "C(CCG)[T.113]     0.7261      2.002      0.363      0.717        -3.198     4.651\n",
       "C(CCG)[T.114]     0.7797      1.595      0.489      0.625        -2.347     3.906\n",
       "C(CCG)[T.115]     0.6753      1.325      0.510      0.610        -1.921     3.271\n",
       "C(CCG)[T.116]     0.7737      1.508      0.513      0.608        -2.183     3.730\n",
       "C(CCG)[T.117]     0.4854      1.954      0.248      0.804        -3.345     4.316\n",
       "C(CCG)[T.118]    -0.2047      1.543     -0.133      0.894        -3.229     2.820\n",
       "C(CCG)[T.119]    -0.0930      1.820     -0.051      0.959        -3.660     3.474\n",
       "C(CCG)[T.120]    -0.8130      2.434     -0.334      0.738        -5.584     3.958\n",
       "C(CCG)[T.121]     0.7296      1.374      0.531      0.595        -1.963     3.422\n",
       "C(CCG)[T.122]     0.7433      1.518      0.490      0.624        -2.232     3.719\n",
       "C(CCG)[T.123]     0.3124      1.654      0.189      0.850        -2.930     3.555\n",
       "C(CCG)[T.124]     0.7539      1.232      0.612      0.541        -1.661     3.169\n",
       "C(CCG)[T.125]     0.4559      1.512      0.302      0.763        -2.507     3.419\n",
       "C(CCG)[T.126]     0.4402      1.650      0.267      0.790        -2.794     3.674\n",
       "C(CCG)[T.127]     0.4297      1.716      0.250      0.802        -2.934     3.793\n",
       "C(CCG)[T.128]     0.4214      1.375      0.306      0.759        -2.274     3.117\n",
       "C(CCG)[T.129]     0.5480      1.567      0.350      0.726        -2.523     3.619\n",
       "C(CCG)[T.130]    -0.1347      2.033     -0.066      0.947        -4.119     3.850\n",
       "C(CCG)[T.131]     0.6148      1.523      0.404      0.687        -2.371     3.601\n",
       "C(CCG)[T.132]     0.5607      1.321      0.425      0.671        -2.028     3.150\n",
       "C(CCG)[T.133]     0.4354      1.823      0.239      0.811        -3.138     4.008\n",
       "C(CCG)[T.134]     0.3932      1.901      0.207      0.836        -3.333     4.120\n",
       "C(CCG)[T.135]     0.3242      2.065      0.157      0.875        -3.723     4.371\n",
       "C(CCG)[T.136]     0.3452      2.140      0.161      0.872        -3.849     4.539\n",
       "C(CCG)[T.137]     0.3931      1.882      0.209      0.835        -3.296     4.083\n",
       "C(CCG)[T.138]     0.4565      1.703      0.268      0.789        -2.882     3.795\n",
       "C(CCG)[T.139]     0.2040      2.048      0.100      0.921        -3.810     4.218\n",
       "C(CCG)[T.140]    -0.1694      1.767     -0.096      0.924        -3.633     3.295\n",
       "C(CCG)[T.141]    -0.1574      1.899     -0.083      0.934        -3.879     3.564\n",
       "C(CCG)[T.142]    -0.3355      2.115     -0.159      0.874        -4.481     3.810\n",
       "C(CCG)[T.143]    -0.3947      1.521     -0.259      0.795        -3.376     2.587\n",
       "C(CCG)[T.144]    -0.5598      4.105     -0.136      0.892        -8.606     7.487\n",
       "C(CCG)[T.145]    -0.3786      1.457     -0.260      0.795        -3.235     2.478\n",
       "C(CCG)[T.146]     0.4245      1.623      0.262      0.794        -2.756     3.605\n",
       "C(CCG)[T.147]     0.2571      1.428      0.180      0.857        -2.542     3.056\n",
       "C(CCG)[T.148]     0.4852      1.551      0.313      0.754        -2.554     3.524\n",
       "C(CCG)[T.149]     0.2819      1.685      0.167      0.867        -3.020     3.584\n",
       "C(CCG)[T.150]     0.6230      1.275      0.489      0.625        -1.876     3.122\n",
       "C(CCG)[T.151]     0.5038      1.235      0.408      0.683        -1.917     2.925\n",
       "C(CCG)[T.152]     0.5461      1.466      0.373      0.709        -2.327     3.419\n",
       "C(CCG)[T.153]     0.6604      1.255      0.526      0.599        -1.800     3.121\n",
       "C(CCG)[T.154]     1.1875      1.218      0.975      0.329        -1.199     3.574\n",
       "C(CCG)[T.155]    -0.0117      1.882     -0.006      0.995        -3.700     3.677\n",
       "C(CCG)[T.156]     0.4953      1.538      0.322      0.747        -2.519     3.509\n",
       "C(CCG)[T.157]    -0.1621      2.437     -0.067      0.947        -4.939     4.615\n",
       "C(CCG)[T.158]    -0.0217      1.642     -0.013      0.989        -3.240     3.197\n",
       "C(CCG)[T.159]    -0.0878      1.608     -0.055      0.956        -3.239     3.064\n",
       "C(CCG)[T.160]     0.3455      1.723      0.201      0.841        -3.032     3.723\n",
       "C(CCG)[T.161]     0.6413      1.352      0.474      0.635        -2.009     3.291\n",
       "C(CCG)[T.162]     0.2959      1.425      0.208      0.836        -2.498     3.089\n",
       "C(CCG)[T.163]     0.5733      1.444      0.397      0.691        -2.257     3.404\n",
       "C(CCG)[T.164]     0.0474      1.690      0.028      0.978        -3.265     3.360\n",
       "C(CCG)[T.165]     0.2792      1.758      0.159      0.874        -3.166     3.724\n",
       "C(CCG)[T.166]    -0.5554      2.162     -0.257      0.797        -4.793     3.683\n",
       "C(CCG)[T.167]    -0.1447      2.243     -0.065      0.949        -4.541     4.252\n",
       "C(CCG)[T.168]     0.3445      1.591      0.217      0.829        -2.773     3.462\n",
       "C(CCG)[T.169]     0.4914      1.434      0.343      0.732        -2.319     3.302\n",
       "C(CCG)[T.170]     0.5256      1.303      0.403      0.687        -2.029     3.080\n",
       "C(CCG)[T.171]     0.2529      1.285      0.197      0.844        -2.267     2.772\n",
       "C(CCG)[T.172]     0.4436      1.273      0.348      0.728        -2.052     2.939\n",
       "C(CCG)[T.173]     0.4166      1.546      0.269      0.788        -2.613     3.446\n",
       "C(CCG)[T.174]     0.6805      1.365      0.498      0.618        -1.996     3.357\n",
       "C(CCG)[T.175]    -0.2448      1.549     -0.158      0.874        -3.280     2.791\n",
       "C(CCG)[T.176]    -0.4311      1.733     -0.249      0.804        -3.827     2.965\n",
       "C(CCG)[T.177]     0.3147      1.828      0.172      0.863        -3.268     3.897\n",
       "C(CCG)[T.178]     0.2850      1.732      0.165      0.869        -3.109     3.679\n",
       "C(CCG)[T.179]     0.5888      1.425      0.413      0.679        -2.204     3.382\n",
       "C(CCG)[T.180]    -0.2892      1.995     -0.145      0.885        -4.200     3.622\n",
       "C(CCG)[T.181]    -0.6347      2.687     -0.236      0.813        -5.902     4.632\n",
       "C(CCG)[T.182]    -0.2657      2.620     -0.101      0.919        -5.401     4.869\n",
       "C(CCG)[T.183]     0.1722      1.327      0.130      0.897        -2.429     2.774\n",
       "C(CCG)[T.184]     0.3202      1.529      0.209      0.834        -2.676     3.317\n",
       "C(CCG)[T.185]     0.0045      1.718      0.003      0.998        -3.363     3.372\n",
       "C(CCG)[T.186]    -0.0814      1.745     -0.047      0.963        -3.502     3.339\n",
       "C(CCG)[T.187]     0.4153      1.774      0.234      0.815        -3.061     3.892\n",
       "C(CCG)[T.188]     0.2671      1.421      0.188      0.851        -2.518     3.052\n",
       "C(CCG)[T.189]     0.0606      2.181      0.028      0.978        -4.214     4.335\n",
       "C(CCG)[T.190]    -0.6500      1.718     -0.378      0.705        -4.018     2.718\n",
       "C(CCG)[T.191]    -0.1765      2.015     -0.088      0.930        -4.126     3.773\n",
       "C(CCG)[T.192]    -0.4479      2.095     -0.214      0.831        -4.553     3.657\n",
       "C(CCG)[T.193]     0.4040      1.550      0.261      0.794        -2.635     3.443\n",
       "C(CCG)[T.194]     0.2283      1.795      0.127      0.899        -3.290     3.747\n",
       "C(CCG)[T.195]     0.4373      1.518      0.288      0.773        -2.537     3.412\n",
       "C(CCG)[T.196]     0.1144      1.901      0.060      0.952        -3.611     3.840\n",
       "C(CCG)[T.197]     0.5219      1.387      0.376      0.707        -2.196     3.240\n",
       "C(CCG)[T.198]     0.2047      1.615      0.127      0.899        -2.961     3.370\n",
       "C(CCG)[T.199]     0.4639      1.491      0.311      0.756        -2.458     3.386\n",
       "C(CCG)[T.200]     0.1117      1.668      0.067      0.947        -3.158     3.381\n",
       "C(CCG)[T.201]     0.3777      1.660      0.228      0.820        -2.875     3.630\n",
       "C(CCG)[T.202]     0.8003      1.350      0.593      0.553        -1.845     3.446\n",
       "C(CCG)[T.203]     0.3768      1.501      0.251      0.802        -2.565     3.319\n",
       "C(CCG)[T.204]     0.0114      1.546      0.007      0.994        -3.018     3.041\n",
       "C(CCG)[T.205]     0.6481      1.368      0.474      0.636        -2.033     3.329\n",
       "C(CCG)[T.206]     0.6924      1.433      0.483      0.629        -2.116     3.500\n",
       "C(CCG)[T.207]     0.5657      1.325      0.427      0.669        -2.031     3.162\n",
       "C(CCG)[T.208]     0.1371      1.841      0.074      0.941        -3.471     3.746\n",
       "=================================================================================\n",
       "\"\"\""
      ]
     },
     "execution_count": 83,
     "metadata": {},
     "output_type": "execute_result"
    }
   ],
   "source": [
    "res.summary()"
   ]
  },
  {
   "cell_type": "code",
   "execution_count": 84,
   "metadata": {
    "collapsed": false
   },
   "outputs": [
    {
     "data": {
      "text/plain": [
       "Intercept     -3.979077\n",
       "C(DP)[T.1]     0.410769\n",
       "C(CCG)[T.1]   -0.111390\n",
       "C(CCG)[T.2]   -0.052832\n",
       "C(CCG)[T.3]    0.112426\n",
       "dtype: float64"
      ]
     },
     "execution_count": 84,
     "metadata": {},
     "output_type": "execute_result"
    }
   ],
   "source": [
    "res.params.head()"
   ]
  },
  {
   "cell_type": "code",
   "execution_count": 85,
   "metadata": {
    "collapsed": false
   },
   "outputs": [
    {
     "data": {
      "text/plain": [
       "Intercept      0.018703\n",
       "C(DP)[T.1]     1.507977\n",
       "C(CCG)[T.1]    0.894590\n",
       "C(CCG)[T.2]    0.948540\n",
       "C(CCG)[T.3]    1.118989\n",
       "dtype: float64"
      ]
     },
     "execution_count": 85,
     "metadata": {},
     "output_type": "execute_result"
    }
   ],
   "source": [
    "np.exp(res.params).head()"
   ]
  },
  {
   "cell_type": "code",
   "execution_count": 107,
   "metadata": {
    "collapsed": false
   },
   "outputs": [
    {
     "data": {
      "text/plain": [
       "0       0.030303\n",
       "1       0.027876\n",
       "2       0.003300\n",
       "3       0.017478\n",
       "4       0.015058\n",
       "5       0.016560\n",
       "6       0.006501\n",
       "7       0.006316\n",
       "8       0.007921\n",
       "9       0.006518\n",
       "10      0.021398\n",
       "11      0.015129\n",
       "12      0.009409\n",
       "13      0.009238\n",
       "14      0.020408\n",
       "15      0.015973\n",
       "16      0.035019\n",
       "17      0.012799\n",
       "18      0.062944\n",
       "19      0.015220\n",
       "20      0.014052\n",
       "21      0.046875\n",
       "22      0.027368\n",
       "23      0.005291\n",
       "24      0.011334\n",
       "25      0.007326\n",
       "26      0.060081\n",
       "27      0.008137\n",
       "28      0.021705\n",
       "29      0.018519\n",
       "          ...   \n",
       "7061    0.015748\n",
       "7066    0.035294\n",
       "7067    0.055556\n",
       "7068    0.007843\n",
       "7069    0.024324\n",
       "7072    0.009185\n",
       "7080    0.033520\n",
       "7083    0.049020\n",
       "7090    0.000000\n",
       "7091    0.010791\n",
       "7096    0.000000\n",
       "7097    0.022333\n",
       "7098    0.013100\n",
       "7099    0.010417\n",
       "7108    0.021951\n",
       "7109    0.085973\n",
       "7111    0.078915\n",
       "7112    0.070122\n",
       "7114    0.000000\n",
       "7121    0.010033\n",
       "7164    0.000000\n",
       "7169    0.026846\n",
       "7171    0.000000\n",
       "7173    0.038540\n",
       "7201    0.025381\n",
       "7202    0.022530\n",
       "7207    0.054226\n",
       "7215    0.002967\n",
       "7216    0.020619\n",
       "7219    0.120690\n",
       "Name: Proportion, dtype: float64"
      ]
     },
     "execution_count": 107,
     "metadata": {},
     "output_type": "execute_result"
    }
   ],
   "source": [
    "df2[df2.DP == 0]['Proportion']"
   ]
  },
  {
   "cell_type": "code",
   "execution_count": 112,
   "metadata": {
    "collapsed": false
   },
   "outputs": [
    {
     "name": "stdout",
     "output_type": "stream",
     "text": [
      "MWW RankSum P for treatments 1 and 2 = 3.16443974583e-55\n",
      "Z statistic forr treatments 1 and 2 = 15.653095767\n"
     ]
    }
   ],
   "source": [
    "from scipy import stats\n",
    "\n",
    "z_stat, p_val = stats.ranksums(df2[df2.DP == 1]['Proportion'], df2[df2.DP == 0]['Proportion'])\n",
    "\n",
    "print \"MWW RankSum P for treatments 1 and 2 =\", p_val\n",
    "print \"Z statistic forr treatments 1 and 2 =\", z_stat"
   ]
  },
  {
   "cell_type": "code",
   "execution_count": null,
   "metadata": {
    "collapsed": true
   },
   "outputs": [],
   "source": []
  },
  {
   "cell_type": "code",
   "execution_count": null,
   "metadata": {
    "collapsed": true
   },
   "outputs": [],
   "source": []
  }
 ],
 "metadata": {
  "kernelspec": {
   "display_name": "Python 2",
   "language": "python",
   "name": "python2"
  },
  "language_info": {
   "codemirror_mode": {
    "name": "ipython",
    "version": 2
   },
   "file_extension": ".py",
   "mimetype": "text/x-python",
   "name": "python",
   "nbconvert_exporter": "python",
   "pygments_lexer": "ipython2",
   "version": "2.7.6"
  }
 },
 "nbformat": 4,
 "nbformat_minor": 0
}
