{
 "cells": [
  {
   "cell_type": "markdown",
   "metadata": {},
   "source": [
    "# Are statin prescribing ratios different for dispensing practices?"
   ]
  },
  {
   "cell_type": "markdown",
   "metadata": {},
   "source": [
    "#### 1. Obtain GP Prescribing data\n",
    "#### 2. Cut GP Prescribing data for things of interest (statins)\n",
    "#### 3. Obtain list of dispensing practices\n",
    "#### 3a. Add codes to list of dispensing practices (name and address only is provided)\n",
    "#### 4. Combine statin cut and dispensing practice list\n",
    "#### 5. Compare dispensing vs non-dispensing statin prescribing ratios"
   ]
  },
  {
   "cell_type": "code",
   "execution_count": 1,
   "metadata": {
    "collapsed": false
   },
   "outputs": [],
   "source": [
    "import requests\n",
    "from StringIO import StringIO\n",
    "from numpy import nan as NA\n",
    "import pandas as pd\n",
    "import zipfile\n",
    "import re\n",
    "%matplotlib inline\n",
    "import matplotlib.pyplot as plt\n",
    "import xlrd\n",
    "import statsmodels.api as sm\n",
    "from patsy import dmatrices, dmatrix\n",
    "import scipy as scipy"
   ]
  },
  {
   "cell_type": "code",
   "execution_count": 2,
   "metadata": {
    "collapsed": false
   },
   "outputs": [],
   "source": [
    "def fetch_prescribing_data():\n",
    "    url = 'http://datagov.ic.nhs.uk/presentation/2015_01_January/T201501PDPI+BNFT.CSV' #gp prescribing data (Jan 2015)\n",
    "    r = requests.get(url)\n",
    "    data = r.content\n",
    "    df = (pd.read_csv(StringIO(data)))\n",
    "    df.to_csv('datas/T201501PDPI+BNFT.CSV')\n",
    "\n",
    "def fetch_dispensary_data():\n",
    "    url = 'http://systems.hscic.gov.uk/data/ods/datadownloads/data-files/edispensary.zip'\n",
    "    r = requests.get(url)\n",
    "    z = zipfile.ZipFile(StringIO(r.content))\n",
    "    df = pd.read_csv(z.open('edispensary.csv'))\n",
    "    df.to_csv('datas/edispensary.csv')\n",
    "\n",
    "def fetch_gp_details():\n",
    "    url = 'http://systems.hscic.gov.uk/data/ods/datadownloads/data-files/epraccur.zip'\n",
    "    r = requests.get(url)\n",
    "    z = zipfile.ZipFile(StringIO(r.content))\n",
    "    df = pd.read_csv(z.open('epraccur.csv'))\n",
    "    df.to_csv('datas/epraccur.csv')\n",
    "\n",
    "def clean_prescribing_data(df):\n",
    "    df.columns = [x.strip() for x in df.columns] #gets rid of variable whitespace\n",
    "    df = df[df['BNF NAME'].str.contains('statin')] #cut for rows with statin in them\n",
    "    df = df[~df['BNF NAME'].str.contains('Nystatin|Sandostatin|Ecostatin')] #throw away unwanted statins\n",
    "    df.to_csv('datas/StatinsJan2015.csv') #save the result\n",
    "    return(df)\n",
    "\n",
    "def clean_dispensing_practice_addresses(dpad):\n",
    "    dpad = dpad['Dispensing Practices Address Details'].dropna()\n",
    "    dpad = dpad.reset_index()\n",
    "    del dpad['index']\n",
    "    dpad['Dispensing Practices Address Details'] = dpad['Dispensing Practices Address Details'].str.strip()\n",
    "    dpad['Dispensing Practices Address Details'] = dpad['Dispensing Practices Address Details'].str.replace('\\n', ' ')\n",
    "    dpad['NAME'] = dpad['Dispensing Practices Address Details'].str.split(',').str[0].str.upper()\n",
    "    dpad['POSTCODE'] = dpad['Dispensing Practices Address Details'].str.split(',').str[-1].astype(str).str.strip()\n",
    "    dpad.ix[254,2] = 'BN25 1HH' #one practice lacked a postcode.... we fix this manually\n",
    "    dpad.ix[254,1] = 'Old School Surgery'\n",
    "    return(dpad)\n",
    "\n",
    "def validate_dispensing_postcodes():\n",
    "    assert(len(dpad[~dpad.Postcode.str.contains(r'[A-Z]{1,2}[0-9R][0-9A-Z]? [0-9][A-Z]{2}')]) == 0) #length of dataframe of postcodes that don't pass regex should be 0 \n",
    "\n",
    "#nb df = pd.read_csv('http://datagov.ic.nhs.uk/presentation/2015_01_January/T201501PDPI+BNFT.CSV') should also work but seems slower"
   ]
  },
  {
   "cell_type": "code",
   "execution_count": 4,
   "metadata": {
    "collapsed": true
   },
   "outputs": [],
   "source": [
    "df = df = pd.read_csv('datas/T201501PDPI+BNFT.CSV') #commented because\n",
    "df = clean_prescribing_data(df) #commented because need only run once and is slow"
   ]
  },
  {
   "cell_type": "code",
   "execution_count": 5,
   "metadata": {
    "collapsed": false
   },
   "outputs": [],
   "source": [
    "#df = fetch_prescribing_data() #commented because requires internet and is slow \n",
    "#df = df = pd.read_csv('datas/T201501PDPI+BNFT.CSV') #commented because\n",
    "#df = clean_prescribing_data(df) #commented because need only run once and is slow\n",
    "#dispdata = fetch_dispensary_data() #doesn't actually contain dispensing practices\n",
    "#fetch_gp_details()\n",
    "\n",
    "df = pd.read_csv('datas/StatinsJan2015.csv') #load cleaned prescribing data cut\n",
    "gpdetail = pd.read_csv('datas/epraccur.csv') #from http://systems.hscic.gov.uk/data/ods/datadownloads/data-files/epraccur.zip\n",
    "\n",
    "dpad_formatting_junk = ['Dispensing Practices Address Details', 'Primary Care Trust:', 'Report For:', 'Practice Name and Address', 'January 2015']\n",
    "dpad = pd.read_excel('datas/Disp Pracs Name and Address 2015-01-31.xls', usecols=[0], na_values=dpad_formatting_junk) #load dispensing practice list\n",
    "\n",
    "dpad = clean_dispensing_practice_addresses(dpad)\n",
    "\n",
    "gpdetail = gpdetail.icol([1,2,10,26,15]) #throw away columns we don't care about\n",
    "gpdetail.columns = ['PRACTICE', 'NAME', 'POSTCODE', 'Prescribing Setting', 'CCG']\n",
    "\n",
    "dpad = pd.merge(gpdetail, dpad, on=['NAME','POSTCODE']) #merge to add practice codes\n",
    "\n",
    "df['DP'] = df.PRACTICE.isin(dpad.PRACTICE) #add column DP to identify Dispensing Practices\n",
    "\n",
    "df['IR'] = df['BNF NAME'].str.contains('Rosuvastatin') #add column for Is Rosuvastatin"
   ]
  },
  {
   "cell_type": "code",
   "execution_count": 6,
   "metadata": {
    "collapsed": false
   },
   "outputs": [],
   "source": [
    "df1 = df.groupby(['DP','PRACTICE', 'IR']).ITEMS.sum()\n"
   ]
  },
  {
   "cell_type": "code",
   "execution_count": 7,
   "metadata": {
    "collapsed": false
   },
   "outputs": [
    {
     "data": {
      "text/plain": [
       "DP     PRACTICE  IR   \n",
       "False  A81001    False     256\n",
       "                 True        8\n",
       "       A81002    False    2197\n",
       "                 True       63\n",
       "       A81003    False     604\n",
       "Name: ITEMS, dtype: int64"
      ]
     },
     "execution_count": 7,
     "metadata": {},
     "output_type": "execute_result"
    }
   ],
   "source": [
    "df1.head() #what the datas look like"
   ]
  },
  {
   "cell_type": "code",
   "execution_count": 8,
   "metadata": {
    "collapsed": false
   },
   "outputs": [],
   "source": [
    "df1 = df1.unstack()\n",
    "df1 = df1.reset_index()\n",
    "df1 = df1.fillna(0.0) #applying groupby when there are no items in a category generates NaNs where we would instead prefer 0's\n"
   ]
  },
  {
   "cell_type": "code",
   "execution_count": 9,
   "metadata": {
    "collapsed": false
   },
   "outputs": [],
   "source": [
    "df1.columns = ['DP', 'PRACTICE', 'False_IR', 'True_IR']"
   ]
  },
  {
   "cell_type": "code",
   "execution_count": 10,
   "metadata": {
    "collapsed": false
   },
   "outputs": [],
   "source": [
    "df1['Proportion'] = (df1['True_IR'] / (df1['True_IR'] + df1['False_IR']))"
   ]
  },
  {
   "cell_type": "code",
   "execution_count": 11,
   "metadata": {
    "collapsed": false
   },
   "outputs": [
    {
     "data": {
      "text/html": [
       "<div style=\"max-height:1000px;max-width:1500px;overflow:auto;\">\n",
       "<table border=\"1\" class=\"dataframe\">\n",
       "  <thead>\n",
       "    <tr style=\"text-align: right;\">\n",
       "      <th></th>\n",
       "      <th>DP</th>\n",
       "      <th>PRACTICE</th>\n",
       "      <th>False_IR</th>\n",
       "      <th>True_IR</th>\n",
       "      <th>Proportion</th>\n",
       "    </tr>\n",
       "  </thead>\n",
       "  <tbody>\n",
       "    <tr>\n",
       "      <th>0</th>\n",
       "      <td>False</td>\n",
       "      <td>A81001</td>\n",
       "      <td>256</td>\n",
       "      <td>8</td>\n",
       "      <td>0.030303</td>\n",
       "    </tr>\n",
       "    <tr>\n",
       "      <th>1</th>\n",
       "      <td>False</td>\n",
       "      <td>A81002</td>\n",
       "      <td>2197</td>\n",
       "      <td>63</td>\n",
       "      <td>0.027876</td>\n",
       "    </tr>\n",
       "    <tr>\n",
       "      <th>2</th>\n",
       "      <td>False</td>\n",
       "      <td>A81003</td>\n",
       "      <td>604</td>\n",
       "      <td>2</td>\n",
       "      <td>0.003300</td>\n",
       "    </tr>\n",
       "    <tr>\n",
       "      <th>3</th>\n",
       "      <td>False</td>\n",
       "      <td>A81004</td>\n",
       "      <td>787</td>\n",
       "      <td>14</td>\n",
       "      <td>0.017478</td>\n",
       "    </tr>\n",
       "    <tr>\n",
       "      <th>4</th>\n",
       "      <td>False</td>\n",
       "      <td>A81005</td>\n",
       "      <td>1112</td>\n",
       "      <td>17</td>\n",
       "      <td>0.015058</td>\n",
       "    </tr>\n",
       "  </tbody>\n",
       "</table>\n",
       "</div>"
      ],
      "text/plain": [
       "      DP PRACTICE  False_IR  True_IR  Proportion\n",
       "0  False   A81001       256        8    0.030303\n",
       "1  False   A81002      2197       63    0.027876\n",
       "2  False   A81003       604        2    0.003300\n",
       "3  False   A81004       787       14    0.017478\n",
       "4  False   A81005      1112       17    0.015058"
      ]
     },
     "execution_count": 11,
     "metadata": {},
     "output_type": "execute_result"
    }
   ],
   "source": [
    "df1.head() #what the datas look like"
   ]
  },
  {
   "cell_type": "code",
   "execution_count": 12,
   "metadata": {
    "collapsed": true
   },
   "outputs": [],
   "source": [
    "df1 = pd.merge(df1, gpdetail, on='PRACTICE')"
   ]
  },
  {
   "cell_type": "code",
   "execution_count": 13,
   "metadata": {
    "collapsed": false
   },
   "outputs": [
    {
     "data": {
      "text/plain": [
       "array([ 4,  2,  8, 14,  9,  0,  1, 13, 10, 12, 11, 25,  3])"
      ]
     },
     "execution_count": 13,
     "metadata": {},
     "output_type": "execute_result"
    }
   ],
   "source": [
    "df1['Prescribing Setting'].unique() #not all our practices are GP practices.."
   ]
  },
  {
   "cell_type": "code",
   "execution_count": 14,
   "metadata": {
    "collapsed": false
   },
   "outputs": [
    {
     "data": {
      "text/plain": [
       "4     7865\n",
       "2      114\n",
       "9       87\n",
       "0       55\n",
       "14      36\n",
       "1       30\n",
       "10      16\n",
       "8       16\n",
       "13       6\n",
       "12       6\n",
       "25       3\n",
       "3        2\n",
       "11       1\n",
       "dtype: int64"
      ]
     },
     "execution_count": 14,
     "metadata": {},
     "output_type": "execute_result"
    }
   ],
   "source": [
    "df1['Prescribing Setting'].value_counts()"
   ]
  },
  {
   "cell_type": "code",
   "execution_count": 15,
   "metadata": {
    "collapsed": false
   },
   "outputs": [
    {
     "data": {
      "text/plain": [
       "Prescribing Setting\n",
       "0     0.008713\n",
       "1     0.038791\n",
       "2     0.030067\n",
       "3     0.000000\n",
       "4     0.027666\n",
       "8     0.007589\n",
       "9     0.062790\n",
       "10    0.107639\n",
       "11    0.000000\n",
       "12    0.000000\n",
       "13    0.000000\n",
       "14    0.018058\n",
       "25    0.000000\n",
       "Name: Proportion, dtype: float64"
      ]
     },
     "execution_count": 15,
     "metadata": {},
     "output_type": "execute_result"
    }
   ],
   "source": [
    "df1.groupby('Prescribing Setting').Proportion.mean() #looks like mean proportion varies lots by prescribing setting. nb 10 = hospital"
   ]
  },
  {
   "cell_type": "code",
   "execution_count": 16,
   "metadata": {
    "collapsed": false
   },
   "outputs": [],
   "source": [
    "df1 = df1[df1['Prescribing Setting'] == 4] #throw away ones that aren't GP practices"
   ]
  },
  {
   "cell_type": "code",
   "execution_count": 17,
   "metadata": {
    "collapsed": false
   },
   "outputs": [
    {
     "data": {
      "text/plain": [
       "<matplotlib.text.Text at 0x7fa19ea79450>"
      ]
     },
     "execution_count": 17,
     "metadata": {},
     "output_type": "execute_result"
    },
    {
     "data": {
      "image/png": "[encoded data removed]",
      "text/plain": [
       "<matplotlib.figure.Figure at 0x7fa15f2fef50>"
      ]
     },
     "metadata": {},
     "output_type": "display_data"
    }
   ],
   "source": [
    "df1[['DP', 'Proportion']].boxplot(by='DP', figsize=(8,8))\n",
    "plt.title(\"Statin prescribing in non-dispensing vs dispensing practices\")\n",
    "plt.suptitle(\"\")\n",
    "#plt.ylim((0,100))\n",
    "plt.ylabel('Proportion of statin items that are Rosuvastatin')\n",
    "plt.xlabel('Dispensing practice')"
   ]
  },
  {
   "cell_type": "code",
   "execution_count": 18,
   "metadata": {
    "collapsed": false
   },
   "outputs": [
    {
     "data": {
      "text/plain": [
       "9.6804834648432934"
      ]
     },
     "execution_count": 18,
     "metadata": {},
     "output_type": "execute_result"
    }
   ],
   "source": [
    "df1[df1['DP'] == False].Proportion.skew()"
   ]
  },
  {
   "cell_type": "code",
   "execution_count": 19,
   "metadata": {
    "collapsed": false
   },
   "outputs": [
    {
     "data": {
      "text/plain": [
       "3.6919480460793936"
      ]
     },
     "execution_count": 19,
     "metadata": {},
     "output_type": "execute_result"
    }
   ],
   "source": [
    "df1[df1['DP'] == True].Proportion.skew()"
   ]
  },
  {
   "cell_type": "code",
   "execution_count": 20,
   "metadata": {
    "collapsed": false
   },
   "outputs": [
    {
     "data": {
      "text/plain": [
       "0.00065921997382662747"
      ]
     },
     "execution_count": 20,
     "metadata": {},
     "output_type": "execute_result"
    }
   ],
   "source": [
    "df1[df1['DP'] == False].Proportion.var()"
   ]
  },
  {
   "cell_type": "code",
   "execution_count": 21,
   "metadata": {
    "collapsed": false
   },
   "outputs": [
    {
     "data": {
      "text/plain": [
       "0.001576017180567878"
      ]
     },
     "execution_count": 21,
     "metadata": {},
     "output_type": "execute_result"
    }
   ],
   "source": [
    "df1[df1['DP'] == True].Proportion.var()"
   ]
  },
  {
   "cell_type": "code",
   "execution_count": 22,
   "metadata": {
    "collapsed": false
   },
   "outputs": [
    {
     "data": {
      "text/plain": [
       "0.01987353206865402"
      ]
     },
     "execution_count": 22,
     "metadata": {},
     "output_type": "execute_result"
    }
   ],
   "source": [
    "df1[df1['DP'] == False].Proportion.median()"
   ]
  },
  {
   "cell_type": "code",
   "execution_count": 23,
   "metadata": {
    "collapsed": false
   },
   "outputs": [
    {
     "data": {
      "text/plain": [
       "0.03223444953478487"
      ]
     },
     "execution_count": 23,
     "metadata": {},
     "output_type": "execute_result"
    }
   ],
   "source": [
    "df1[df1['DP'] == True].Proportion.median()"
   ]
  },
  {
   "cell_type": "code",
   "execution_count": 24,
   "metadata": {
    "collapsed": false
   },
   "outputs": [
    {
     "data": {
      "text/plain": [
       "count    6851.000000\n",
       "mean        0.025598\n",
       "std         0.025675\n",
       "min         0.000000\n",
       "25%         0.010169\n",
       "50%         0.019874\n",
       "75%         0.034544\n",
       "max         1.000000\n",
       "Name: Proportion, dtype: float64"
      ]
     },
     "execution_count": 24,
     "metadata": {},
     "output_type": "execute_result"
    }
   ],
   "source": [
    "df1[df1['DP'] == False].Proportion.describe()"
   ]
  },
  {
   "cell_type": "code",
   "execution_count": 25,
   "metadata": {
    "collapsed": false
   },
   "outputs": [
    {
     "data": {
      "text/plain": [
       "count    1014.000000\n",
       "mean        0.041637\n",
       "std         0.039699\n",
       "min         0.000000\n",
       "25%         0.016594\n",
       "50%         0.032234\n",
       "75%         0.054272\n",
       "max         0.496923\n",
       "Name: Proportion, dtype: float64"
      ]
     },
     "execution_count": 25,
     "metadata": {},
     "output_type": "execute_result"
    }
   ],
   "source": [
    "df1[df1['DP'] == True].Proportion.describe()"
   ]
  },
  {
   "cell_type": "code",
   "execution_count": 26,
   "metadata": {
    "collapsed": false
   },
   "outputs": [
    {
     "data": {
      "text/html": [
       "<div style=\"max-height:1000px;max-width:1500px;overflow:auto;\">\n",
       "<table border=\"1\" class=\"dataframe\">\n",
       "  <thead>\n",
       "    <tr style=\"text-align: right;\">\n",
       "      <th></th>\n",
       "      <th>DP</th>\n",
       "      <th>PRACTICE</th>\n",
       "      <th>False_IR</th>\n",
       "      <th>True_IR</th>\n",
       "      <th>Proportion</th>\n",
       "      <th>NAME</th>\n",
       "      <th>POSTCODE</th>\n",
       "      <th>Prescribing Setting</th>\n",
       "      <th>CCG</th>\n",
       "    </tr>\n",
       "  </thead>\n",
       "  <tbody>\n",
       "    <tr>\n",
       "      <th>1095</th>\n",
       "      <td>False</td>\n",
       "      <td>C83656</td>\n",
       "      <td>0</td>\n",
       "      <td>1</td>\n",
       "      <td>1</td>\n",
       "      <td>UNIVERSITY SURGERY</td>\n",
       "      <td>LN6 7GA</td>\n",
       "      <td>4</td>\n",
       "      <td>04D</td>\n",
       "    </tr>\n",
       "  </tbody>\n",
       "</table>\n",
       "</div>"
      ],
      "text/plain": [
       "         DP PRACTICE  False_IR  True_IR  Proportion                NAME  \\\n",
       "1095  False   C83656         0        1           1  UNIVERSITY SURGERY   \n",
       "\n",
       "     POSTCODE  Prescribing Setting  CCG  \n",
       "1095  LN6 7GA                    4  04D  "
      ]
     },
     "execution_count": 26,
     "metadata": {},
     "output_type": "execute_result"
    }
   ],
   "source": [
    "df1[df1['Proportion'] > 0.5].sort(columns='Proportion', ascending=False).head()"
   ]
  },
  {
   "cell_type": "code",
   "execution_count": 27,
   "metadata": {
    "collapsed": false
   },
   "outputs": [
    {
     "data": {
      "text/plain": [
       "<matplotlib.axes._subplots.AxesSubplot at 0x7fa156bf5210>"
      ]
     },
     "execution_count": 27,
     "metadata": {},
     "output_type": "execute_result"
    },
    {
     "data": {
      "image/png": "[encoded data removed]",
      "text/plain": [
       "<matplotlib.figure.Figure at 0x7fa156bd84d0>"
      ]
     },
     "metadata": {},
     "output_type": "display_data"
    }
   ],
   "source": [
    "df1.Proportion.hist(bins=40)"
   ]
  },
  {
   "cell_type": "code",
   "execution_count": 28,
   "metadata": {
    "collapsed": false
   },
   "outputs": [
    {
     "data": {
      "text/plain": [
       "<matplotlib.axes._subplots.AxesSubplot at 0x7fa154b24b10>"
      ]
     },
     "execution_count": 28,
     "metadata": {},
     "output_type": "execute_result"
    },
    {
     "data": {
      "image/png": "[encoded data removed]",
      "text/plain": [
       "<matplotlib.figure.Figure at 0x7fa15a4c1350>"
      ]
     },
     "metadata": {},
     "output_type": "display_data"
    }
   ],
   "source": [
    "df1[df1['DP'] == True].Proportion.hist(bins=28)"
   ]
  },
  {
   "cell_type": "code",
   "execution_count": 29,
   "metadata": {
    "collapsed": false
   },
   "outputs": [
    {
     "data": {
      "text/plain": [
       "<matplotlib.axes._subplots.AxesSubplot at 0x7fa15a28b610>"
      ]
     },
     "execution_count": 29,
     "metadata": {},
     "output_type": "execute_result"
    },
    {
     "data": {
      "image/png": "[encoded data removed]",
      "text/plain": [
       "<matplotlib.figure.Figure at 0x7fa1546a1850>"
      ]
     },
     "metadata": {},
     "output_type": "display_data"
    }
   ],
   "source": [
    "df1[df1['DP'] == False].Proportion.hist(bins=40)"
   ]
  },
  {
   "cell_type": "markdown",
   "metadata": {
    "collapsed": true
   },
   "source": [
    "## next steps... add ccg column and try :\n",
    "## meglm proportionstupid dispensingornot || ccg:, family(binomial) link(logit) in statsmodels"
   ]
  },
  {
   "cell_type": "markdown",
   "metadata": {},
   "source": [
    "# would it make a diff if I formatted my datas like in the smf e.g? nope.\n",
    "# also to try is excluding non gp practices (later)"
   ]
  },
  {
   "cell_type": "code",
   "execution_count": 30,
   "metadata": {
    "collapsed": false
   },
   "outputs": [],
   "source": [
    "ccg_codes = df1.CCG.unique()\n",
    "ccg_lookup = zip(list(ccg_codes), range(0,209))\n",
    "ccg_lookup = dict(ccg_lookup)"
   ]
  },
  {
   "cell_type": "code",
   "execution_count": 31,
   "metadata": {
    "collapsed": false
   },
   "outputs": [
    {
     "name": "stderr",
     "output_type": "stream",
     "text": [
      "/home/sam/.virtualenvs/pa-research/lib/python2.7/site-packages/IPython/kernel/__main__.py:3: SettingWithCopyWarning: \n",
      "A value is trying to be set on a copy of a slice from a DataFrame.\n",
      "Try using .loc[row_indexer,col_indexer] = value instead\n",
      "\n",
      "See the the caveats in the documentation: http://pandas.pydata.org/pandas-docs/stable/indexing.html#indexing-view-versus-copy\n",
      "  app.launch_new_instance()\n",
      "/home/sam/.virtualenvs/pa-research/lib/python2.7/site-packages/IPython/kernel/__main__.py:4: SettingWithCopyWarning: \n",
      "A value is trying to be set on a copy of a slice from a DataFrame.\n",
      "Try using .loc[row_indexer,col_indexer] = value instead\n",
      "\n",
      "See the the caveats in the documentation: http://pandas.pydata.org/pandas-docs/stable/indexing.html#indexing-view-versus-copy\n",
      "/home/sam/.virtualenvs/pa-research/lib/python2.7/site-packages/IPython/kernel/__main__.py:5: SettingWithCopyWarning: \n",
      "A value is trying to be set on a copy of a slice from a DataFrame.\n",
      "Try using .loc[row_indexer,col_indexer] = value instead\n",
      "\n",
      "See the the caveats in the documentation: http://pandas.pydata.org/pandas-docs/stable/indexing.html#indexing-view-versus-copy\n",
      "/home/sam/.virtualenvs/pa-research/lib/python2.7/site-packages/IPython/kernel/__main__.py:6: SettingWithCopyWarning: \n",
      "A value is trying to be set on a copy of a slice from a DataFrame.\n",
      "Try using .loc[row_indexer,col_indexer] = value instead\n",
      "\n",
      "See the the caveats in the documentation: http://pandas.pydata.org/pandas-docs/stable/indexing.html#indexing-view-versus-copy\n"
     ]
    }
   ],
   "source": [
    "\n",
    "df2 = df1[['DP', 'Proportion', 'CCG']]\n",
    "df2['DP'] = df2['DP'].astype(str).str.replace('False','0').str.replace('True','1')\n",
    "df2['CCG'] = df2['CCG'].map(lambda x: ccg_lookup.get(x))\n",
    "df2['DP'] = df2['DP'].astype(int)\n",
    "df2['CCG'] = df2['CCG'].astype(int)"
   ]
  },
  {
   "cell_type": "code",
   "execution_count": 35,
   "metadata": {
    "collapsed": false
   },
   "outputs": [],
   "source": [
    "df2.to_csv('pa_research_for_stata.csv')"
   ]
  }
 ],
 "metadata": {
  "kernelspec": {
   "display_name": "Python 2",
   "language": "python",
   "name": "python2"
  },
  "language_info": {
   "codemirror_mode": {
    "name": "ipython",
    "version": 2
   },
   "file_extension": ".py",
   "mimetype": "text/x-python",
   "name": "python",
   "nbconvert_exporter": "python",
   "pygments_lexer": "ipython2",
   "version": "2.7.6"
  }
 },
 "nbformat": 4,
 "nbformat_minor": 0
}
