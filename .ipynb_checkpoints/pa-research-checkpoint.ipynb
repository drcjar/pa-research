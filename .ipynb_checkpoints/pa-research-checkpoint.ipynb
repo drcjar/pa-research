{
 "cells": [
  {
   "cell_type": "markdown",
   "metadata": {},
   "source": [
    "# Are statin prescribing ratios different for dispensing practices?"
   ]
  },
  {
   "cell_type": "markdown",
   "metadata": {},
   "source": [
    "#### 1. Obtain GP Prescribing data\n",
    "#### 2. Cut GP Prescribing data for things of interest (statins)\n",
    "#### 3. Obtain list of dispensing practices\n",
    "#### 3a. Add codes to list of dispensing practices (name and address only is provided)\n",
    "#### 4. Combine statin cut and dispensing practice list\n",
    "#### 5. Compare dispensing vs non-dispensing statin prescribing ratios"
   ]
  },
  {
   "cell_type": "code",
   "execution_count": 1,
   "metadata": {
    "collapsed": false
   },
   "outputs": [],
   "source": [
    "import requests\n",
    "from StringIO import StringIO\n",
    "from numpy import nan as NA\n",
    "import pandas as pd\n",
    "import zipfile\n",
    "import re\n",
    "%matplotlib inline\n",
    "import matplotlib.pyplot as plt"
   ]
  },
  {
   "cell_type": "code",
   "execution_count": 2,
   "metadata": {
    "collapsed": false
   },
   "outputs": [],
   "source": [
    "def fetch_prescribing_data():\n",
    "    url = 'http://datagov.ic.nhs.uk/presentation/2015_01_January/T201501PDPI+BNFT.CSV' #gp prescribing data (Jan 2015)\n",
    "    r = requests.get(url)\n",
    "    data = r.content\n",
    "    df = (pd.read_csv(StringIO(data)))\n",
    "    df.to_csv('datas/T201501PDPI+BNFT.CSV')\n",
    "\n",
    "def fetch_dispensary_data():\n",
    "    url = 'http://systems.hscic.gov.uk/data/ods/datadownloads/data-files/edispensary.zip'\n",
    "    r = requests.get(url)\n",
    "    z = zipfile.ZipFile(StringIO(r.content))\n",
    "    df = pd.read_csv(z.open('edispensary.csv'))\n",
    "    df.to_csv('datas/edispensary.csv')\n",
    "\n",
    "def fetch_gp_details():\n",
    "    url = 'http://systems.hscic.gov.uk/data/ods/datadownloads/data-files/epraccur.zip'\n",
    "    r = requests.get(url)\n",
    "    z = zipfile.ZipFile(StringIO(r.content))\n",
    "    df = pd.read_csv(z.open('epraccur.csv'))\n",
    "    df.to_csv('datas/epraccur.csv')\n",
    "\n",
    "def clean_prescribing_data(df):\n",
    "    df.columns = [x.strip() for x in df.columns] #gets rid of variable whitespace\n",
    "    df = df[df['BNF NAME'].str.contains('statin')] #cut for rows with statin in them\n",
    "    df = df[~df['BNF NAME'].str.contains('Nystatin|Sandostatin|Ecostatin')] #throw away unwanted statins\n",
    "    df.to_csv('datas/StatinsJan2015.csv') #save the result\n",
    "    return(df)\n",
    "\n",
    "def clean_dispensing_practice_addresses(dpad):\n",
    "    dpad = dpad['Dispensing Practices Address Details'].dropna()\n",
    "    dpad = dpad.reset_index()\n",
    "    del dpad['index']\n",
    "    dpad['Dispensing Practices Address Details'] = dpad['Dispensing Practices Address Details'].str.strip()\n",
    "    dpad['Dispensing Practices Address Details'] = dpad['Dispensing Practices Address Details'].str.replace('\\n', ' ')\n",
    "    dpad['NAME'] = dpad['Dispensing Practices Address Details'].str.split(',').str[0].str.upper()\n",
    "    dpad['POSTCODE'] = dpad['Dispensing Practices Address Details'].str.split(',').str[-1].astype(str).str.strip()\n",
    "    dpad.ix[254,2] = 'BN25 1HH' #one practice lacked a postcode.... we fix this manually\n",
    "    dpad.ix[254,1] = 'Old School Surgery'\n",
    "    return(dpad)\n",
    "\n",
    "def validate_dispensing_postcodes():\n",
    "    assert(len(dpad[~dpad.Postcode.str.contains(r'[A-Z]{1,2}[0-9R][0-9A-Z]? [0-9][A-Z]{2}')]) == 0) #length of dataframe of postcodes that don't pass regex should be 0 \n",
    "\n",
    "#nb df = pd.read_csv('http://datagov.ic.nhs.uk/presentation/2015_01_January/T201501PDPI+BNFT.CSV') should also work but seems slower"
   ]
  },
  {
   "cell_type": "code",
   "execution_count": 3,
   "metadata": {
    "collapsed": false
   },
   "outputs": [],
   "source": [
    "#df = fetch_prescribing_data() #commented because requires internet and is slow \n",
    "#df = clean_prescribing_data(df) #commented because need only run once and is slow\n",
    "#dispdata = fetch_dispensary_data() #doesn't actually contain dispensing practices\n",
    "#fetch_gp_details()\n",
    "\n",
    "df = pd.read_csv('datas/StatinsJan2015.csv') #load cleaned prescribing data cut\n",
    "gpdetail = pd.read_csv('datas/epraccur.csv') #from http://systems.hscic.gov.uk/data/ods/datadownloads/data-files/epraccur.zip\n",
    "\n",
    "dpad_formatting_junk = ['Dispensing Practices Address Details', 'Primary Care Trust:', 'Report For:', 'Practice Name and Address', 'January 2015']\n",
    "dpad = pd.read_excel('datas/Disp Pracs Name and Address 2015-01-31.xls', usecols=[0], na_values=dpad_formatting_junk) #load dispensing practice list\n",
    "\n",
    "dpad = clean_dispensing_practice_addresses(dpad)\n",
    "\n",
    "gpdetail = gpdetail.icol([1,2,10]) #throw away columns we don't care about\n",
    "gpdetail.columns = ['PRACTICE', 'NAME', 'POSTCODE']\n",
    "\n",
    "dpad = pd.merge(gpdetail, dpad, on=['NAME','POSTCODE']) #merge to add practice codes\n",
    "\n",
    "df['DP'] = df.PRACTICE.isin(dpad.PRACTICE) #add column DP to identify Dispensing Practices\n",
    "\n",
    "df['IR'] = df['BNF NAME'].str.contains('Rosuvastatin') #add column for Is Rosuvastatin"
   ]
  },
  {
   "cell_type": "code",
   "execution_count": 4,
   "metadata": {
    "collapsed": false
   },
   "outputs": [],
   "source": [
    "df = df[['PRACTICE','BNF NAME','ITEMS','DP', 'IR']]"
   ]
  },
  {
   "cell_type": "code",
   "execution_count": 5,
   "metadata": {
    "collapsed": false
   },
   "outputs": [],
   "source": [
    "df1 = df.groupby(['DP','PRACTICE', 'IR']).ITEMS.sum()\n"
   ]
  },
  {
   "cell_type": "code",
   "execution_count": 6,
   "metadata": {
    "collapsed": false
   },
   "outputs": [
    {
     "data": {
      "text/plain": [
       "DP     PRACTICE  IR   \n",
       "False  A81001    False     175\n",
       "                 True        8\n",
       "       A81002    False    1041\n",
       "                 True       63\n",
       "       A81003    False     256\n",
       "Name: ITEMS, dtype: int64"
      ]
     },
     "execution_count": 6,
     "metadata": {},
     "output_type": "execute_result"
    }
   ],
   "source": [
    "df1.head() #what the datas look like"
   ]
  },
  {
   "cell_type": "code",
   "execution_count": 7,
   "metadata": {
    "collapsed": false
   },
   "outputs": [],
   "source": [
    "df1 = df1.unstack()\n",
    "df1 = df1.reset_index()\n",
    "df1 = df1.fillna(0.0) #applying groupby when there are no items in a category generates NaNs where we would instead prefer 0's\n"
   ]
  },
  {
   "cell_type": "code",
   "execution_count": 8,
   "metadata": {
    "collapsed": false
   },
   "outputs": [],
   "source": [
    "df1.columns = ['DP', 'PRACTICE', 'False_IR', 'True_IR']"
   ]
  },
  {
   "cell_type": "code",
   "execution_count": 9,
   "metadata": {
    "collapsed": false
   },
   "outputs": [],
   "source": [
    "df1['Percentage'] = (df1['True_IR'] / (df1['True_IR'] + df1['False_IR']) * 100)"
   ]
  },
  {
   "cell_type": "code",
   "execution_count": 18,
   "metadata": {
    "collapsed": false
   },
   "outputs": [
    {
     "data": {
      "text/html": [
       "<div style=\"max-height:1000px;max-width:1500px;overflow:auto;\">\n",
       "<table border=\"1\" class=\"dataframe\">\n",
       "  <thead>\n",
       "    <tr style=\"text-align: right;\">\n",
       "      <th></th>\n",
       "      <th>DP</th>\n",
       "      <th>PRACTICE</th>\n",
       "      <th>False_IR</th>\n",
       "      <th>True_IR</th>\n",
       "      <th>Percentage</th>\n",
       "    </tr>\n",
       "  </thead>\n",
       "  <tbody>\n",
       "    <tr>\n",
       "      <th>0</th>\n",
       "      <td> False</td>\n",
       "      <td> A81001</td>\n",
       "      <td>  175</td>\n",
       "      <td>  8</td>\n",
       "      <td> 4.371585</td>\n",
       "    </tr>\n",
       "    <tr>\n",
       "      <th>1</th>\n",
       "      <td> False</td>\n",
       "      <td> A81002</td>\n",
       "      <td> 1041</td>\n",
       "      <td> 63</td>\n",
       "      <td> 5.706522</td>\n",
       "    </tr>\n",
       "    <tr>\n",
       "      <th>2</th>\n",
       "      <td> False</td>\n",
       "      <td> A81003</td>\n",
       "      <td>  256</td>\n",
       "      <td>  2</td>\n",
       "      <td> 0.775194</td>\n",
       "    </tr>\n",
       "    <tr>\n",
       "      <th>3</th>\n",
       "      <td> False</td>\n",
       "      <td> A81004</td>\n",
       "      <td>  386</td>\n",
       "      <td> 14</td>\n",
       "      <td> 3.500000</td>\n",
       "    </tr>\n",
       "    <tr>\n",
       "      <th>4</th>\n",
       "      <td> False</td>\n",
       "      <td> A81005</td>\n",
       "      <td>  389</td>\n",
       "      <td> 17</td>\n",
       "      <td> 4.187192</td>\n",
       "    </tr>\n",
       "  </tbody>\n",
       "</table>\n",
       "</div>"
      ],
      "text/plain": [
       "      DP PRACTICE  False_IR  True_IR  Percentage\n",
       "0  False   A81001       175        8    4.371585\n",
       "1  False   A81002      1041       63    5.706522\n",
       "2  False   A81003       256        2    0.775194\n",
       "3  False   A81004       386       14    3.500000\n",
       "4  False   A81005       389       17    4.187192"
      ]
     },
     "execution_count": 18,
     "metadata": {},
     "output_type": "execute_result"
    }
   ],
   "source": [
    "df1.head() #what the datas look like"
   ]
  },
  {
   "cell_type": "code",
   "execution_count": 10,
   "metadata": {
    "collapsed": false
   },
   "outputs": [
    {
     "data": {
      "text/plain": [
       "<matplotlib.text.Text at 0x7fbd63cb1710>"
      ]
     },
     "execution_count": 10,
     "metadata": {},
     "output_type": "execute_result"
    },
    {
     "data": {
      "image/png": "[encoded data removed]",
      "text/plain": [
       "<matplotlib.figure.Figure at 0x7fbd89137890>"
      ]
     },
     "metadata": {},
     "output_type": "display_data"
    }
   ],
   "source": [
    "df1[['DP', 'Percentage']].boxplot(by='DP', figsize=(8,8))\n",
    "plt.title(\"Statin prescribing in non-dispensing vs dispensing practices\")\n",
    "plt.suptitle(\"\")\n",
    "#plt.ylim((0,100))\n",
    "plt.ylabel('Percent of statin items that are Rosuvastatin')\n",
    "plt.xlabel('Dispensing practice')"
   ]
  },
  {
   "cell_type": "code",
   "execution_count": 11,
   "metadata": {
    "collapsed": false
   },
   "outputs": [
    {
     "data": {
      "text/plain": [
       "6.6467493886049862"
      ]
     },
     "execution_count": 11,
     "metadata": {},
     "output_type": "execute_result"
    }
   ],
   "source": [
    "df1[df1['DP'] == False].Percentage.skew()"
   ]
  },
  {
   "cell_type": "code",
   "execution_count": 12,
   "metadata": {
    "collapsed": false
   },
   "outputs": [
    {
     "data": {
      "text/plain": [
       "2.6161450391185648"
      ]
     },
     "execution_count": 12,
     "metadata": {},
     "output_type": "execute_result"
    }
   ],
   "source": [
    "df1[df1['DP'] == True].Percentage.skew()"
   ]
  },
  {
   "cell_type": "code",
   "execution_count": 13,
   "metadata": {
    "collapsed": false
   },
   "outputs": [
    {
     "data": {
      "text/plain": [
       "count    7109.000000\n",
       "mean        5.666173\n",
       "std         6.204817\n",
       "min         0.000000\n",
       "25%         2.158273\n",
       "50%         4.402516\n",
       "75%         7.633588\n",
       "max       100.000000\n",
       "dtype: float64"
      ]
     },
     "execution_count": 13,
     "metadata": {},
     "output_type": "execute_result"
    }
   ],
   "source": [
    "df1[df1['DP'] == False].Percentage.describe()"
   ]
  },
  {
   "cell_type": "code",
   "execution_count": 14,
   "metadata": {
    "collapsed": false
   },
   "outputs": [
    {
     "data": {
      "text/plain": [
       "count    1016.000000\n",
       "mean        8.817586\n",
       "std         7.368886\n",
       "min         0.000000\n",
       "25%         3.882936\n",
       "50%         7.065260\n",
       "75%        11.659944\n",
       "max        70.707071\n",
       "dtype: float64"
      ]
     },
     "execution_count": 14,
     "metadata": {},
     "output_type": "execute_result"
    }
   ],
   "source": [
    "df1[df1['DP'] == True].Percentage.describe()"
   ]
  },
  {
   "cell_type": "code",
   "execution_count": 15,
   "metadata": {
    "collapsed": false
   },
   "outputs": [
    {
     "data": {
      "text/html": [
       "<div style=\"max-height:1000px;max-width:1500px;overflow:auto;\">\n",
       "<table border=\"1\" class=\"dataframe\">\n",
       "  <thead>\n",
       "    <tr style=\"text-align: right;\">\n",
       "      <th></th>\n",
       "      <th>DP</th>\n",
       "      <th>PRACTICE</th>\n",
       "      <th>False_IR</th>\n",
       "      <th>True_IR</th>\n",
       "      <th>Percentage</th>\n",
       "    </tr>\n",
       "  </thead>\n",
       "  <tbody>\n",
       "    <tr>\n",
       "      <th>1092</th>\n",
       "      <td> False</td>\n",
       "      <td> C83656</td>\n",
       "      <td> 0</td>\n",
       "      <td> 1</td>\n",
       "      <td> 100</td>\n",
       "    </tr>\n",
       "    <tr>\n",
       "      <th>6565</th>\n",
       "      <td> False</td>\n",
       "      <td> Y00415</td>\n",
       "      <td> 0</td>\n",
       "      <td> 1</td>\n",
       "      <td> 100</td>\n",
       "    </tr>\n",
       "    <tr>\n",
       "      <th>6626</th>\n",
       "      <td> False</td>\n",
       "      <td> Y00840</td>\n",
       "      <td> 0</td>\n",
       "      <td> 1</td>\n",
       "      <td> 100</td>\n",
       "    </tr>\n",
       "    <tr>\n",
       "      <th>6737</th>\n",
       "      <td> False</td>\n",
       "      <td> Y02167</td>\n",
       "      <td> 0</td>\n",
       "      <td> 1</td>\n",
       "      <td> 100</td>\n",
       "    </tr>\n",
       "    <tr>\n",
       "      <th>6925</th>\n",
       "      <td> False</td>\n",
       "      <td> Y02859</td>\n",
       "      <td> 0</td>\n",
       "      <td> 1</td>\n",
       "      <td> 100</td>\n",
       "    </tr>\n",
       "  </tbody>\n",
       "</table>\n",
       "</div>"
      ],
      "text/plain": [
       "         DP PRACTICE  False_IR  True_IR  Percentage\n",
       "1092  False   C83656         0        1         100\n",
       "6565  False   Y00415         0        1         100\n",
       "6626  False   Y00840         0        1         100\n",
       "6737  False   Y02167         0        1         100\n",
       "6925  False   Y02859         0        1         100"
      ]
     },
     "execution_count": 15,
     "metadata": {},
     "output_type": "execute_result"
    }
   ],
   "source": [
    "df1[df1['Percentage'] > 50].sort(columns='Percentage', ascending=False).head()"
   ]
  },
  {
   "cell_type": "code",
   "execution_count": 16,
   "metadata": {
    "collapsed": false
   },
   "outputs": [
    {
     "data": {
      "text/html": [
       "<div style=\"max-height:1000px;max-width:1500px;overflow:auto;\">\n",
       "<table border=\"1\" class=\"dataframe\">\n",
       "  <thead>\n",
       "    <tr style=\"text-align: right;\">\n",
       "      <th></th>\n",
       "      <th>PRACTICE</th>\n",
       "      <th>NAME</th>\n",
       "      <th>POSTCODE</th>\n",
       "    </tr>\n",
       "  </thead>\n",
       "  <tbody>\n",
       "    <tr>\n",
       "      <th>1538</th>\n",
       "      <td> C85623</td>\n",
       "      <td> KINGSWELL SURGERY  PMS PRACTICE</td>\n",
       "      <td>  S36 6DY</td>\n",
       "    </tr>\n",
       "    <tr>\n",
       "      <th>2372</th>\n",
       "      <td> E87694</td>\n",
       "      <td>          THE ROYAL MEWS SURGERY</td>\n",
       "      <td> SW1W 0QH</td>\n",
       "    </tr>\n",
       "    <tr>\n",
       "      <th>2711</th>\n",
       "      <td> G82170</td>\n",
       "      <td>                     LAMBERHURST</td>\n",
       "      <td>  TN3 8EX</td>\n",
       "    </tr>\n",
       "    <tr>\n",
       "      <th>5274</th>\n",
       "      <td> M84031</td>\n",
       "      <td>                   REVEL SURGERY</td>\n",
       "      <td> CV23 0LU</td>\n",
       "    </tr>\n",
       "    <tr>\n",
       "      <th>5962</th>\n",
       "      <td> Y00860</td>\n",
       "      <td>                 SOUTH ESSEX OOH</td>\n",
       "      <td> TN24 0GP</td>\n",
       "    </tr>\n",
       "  </tbody>\n",
       "</table>\n",
       "</div>"
      ],
      "text/plain": [
       "     PRACTICE                             NAME  POSTCODE\n",
       "1538   C85623  KINGSWELL SURGERY  PMS PRACTICE   S36 6DY\n",
       "2372   E87694           THE ROYAL MEWS SURGERY  SW1W 0QH\n",
       "2711   G82170                      LAMBERHURST   TN3 8EX\n",
       "5274   M84031                    REVEL SURGERY  CV23 0LU\n",
       "5962   Y00860                  SOUTH ESSEX OOH  TN24 0GP"
      ]
     },
     "execution_count": 16,
     "metadata": {},
     "output_type": "execute_result"
    }
   ],
   "source": [
    "gpdetail[gpdetail.PRACTICE.isin(df1[df1['Percentage'] > 50].PRACTICE)].head()"
   ]
  },
  {
   "cell_type": "code",
   "execution_count": 19,
   "metadata": {
    "collapsed": false
   },
   "outputs": [
    {
     "data": {
      "text/plain": [
       "<matplotlib.axes.AxesSubplot at 0x7fbd64017d10>"
      ]
     },
     "execution_count": 19,
     "metadata": {},
     "output_type": "execute_result"
    },
    {
     "data": {
      "image/png": "[encoded data removed]",
      "text/plain": [
       "<matplotlib.figure.Figure at 0x7fbd63c223d0>"
      ]
     },
     "metadata": {},
     "output_type": "display_data"
    }
   ],
   "source": [
    "df1.Percentage.hist()"
   ]
  },
  {
   "cell_type": "code",
   "execution_count": 20,
   "metadata": {
    "collapsed": false
   },
   "outputs": [
    {
     "data": {
      "text/plain": [
       "<matplotlib.axes.AxesSubplot at 0x7fbd63cc8710>"
      ]
     },
     "execution_count": 20,
     "metadata": {},
     "output_type": "execute_result"
    },
    {
     "data": {
      "image/png": "[encoded data removed]",
      "text/plain": [
       "<matplotlib.figure.Figure at 0x7fbd63cdc210>"
      ]
     },
     "metadata": {},
     "output_type": "display_data"
    }
   ],
   "source": [
    "df1[df1['DP'] == True].Percentage.hist()"
   ]
  },
  {
   "cell_type": "code",
   "execution_count": 22,
   "metadata": {
    "collapsed": false
   },
   "outputs": [
    {
     "data": {
      "text/plain": [
       "<matplotlib.axes.AxesSubplot at 0x7fbd64bdc8d0>"
      ]
     },
     "execution_count": 22,
     "metadata": {},
     "output_type": "execute_result"
    },
    {
     "data": {
      "image/png": "[encoded data removed]",
      "text/plain": [
       "<matplotlib.figure.Figure at 0x7fbd64be7c50>"
      ]
     },
     "metadata": {},
     "output_type": "display_data"
    }
   ],
   "source": [
    "df1[df1['DP'] == False].Percentage.hist()"
   ]
  },
  {
   "cell_type": "code",
   "execution_count": null,
   "metadata": {
    "collapsed": true
   },
   "outputs": [],
   "source": []
  }
 ],
 "metadata": {
  "kernelspec": {
   "display_name": "Python 2",
   "language": "python",
   "name": "python2"
  },
  "language_info": {
   "codemirror_mode": {
    "name": "ipython",
    "version": 2
   },
   "file_extension": ".py",
   "mimetype": "text/x-python",
   "name": "python",
   "nbconvert_exporter": "python",
   "pygments_lexer": "ipython2",
   "version": "2.7.6"
  }
 },
 "nbformat": 4,
 "nbformat_minor": 0
}
