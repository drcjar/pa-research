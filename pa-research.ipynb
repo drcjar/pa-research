{
 "cells": [
  {
   "cell_type": "markdown",
   "metadata": {},
   "source": [
    "# Are statin prescribing ratios different for dispensing practices?"
   ]
  },
  {
   "cell_type": "markdown",
   "metadata": {},
   "source": [
    "#### 1. Obtain GP Prescribing data\n",
    "#### 2. Cut GP Prescribing data for things of interest (statins)\n",
    "#### 3. Obtain list of dispensing practices\n",
    "#### 3a. Add codes to list of dispensing practices (name and address only is provided)\n",
    "#### 4. Combine statin cut and dispensing practice list\n",
    "#### 5. Compare dispensing vs non-dispensing statin prescribing rations"
   ]
  },
  {
   "cell_type": "code",
   "execution_count": 57,
   "metadata": {
    "collapsed": false
   },
   "outputs": [],
   "source": [
    "import requests\n",
    "from StringIO import StringIO\n",
    "from numpy import nan\n",
    "import pandas as pd\n",
    "import xlrd \n",
    "import csv"
   ]
  },
  {
   "cell_type": "code",
   "execution_count": 106,
   "metadata": {
    "collapsed": true
   },
   "outputs": [],
   "source": [
    "def fetch_prescribing_data():\n",
    "    url = 'http://datagov.ic.nhs.uk/presentation/2015_01_January/T201501PDPI+BNFT.CSV' #gp prescribing data (Jan 2015)\n",
    "    r = requests.get(url)\n",
    "    data = r.content\n",
    "    df = pd.read_csv(StringIO(data))\n",
    "\n",
    "def clean_prescribing_data():\n",
    "    df.columns = [x.strip() for x in df.columns] #gets rid of variable whitespace\n",
    "    df = df[df['BNF NAME'].str.contains('statin')] #cut for rows with statin in them and throw away unwanted statins\n",
    "    df = df[~df['BNF NAME'].str.contains('Nystatin')]\n",
    "    df = df[~df['BNF NAME'].str.contains('Sandostatin')]\n",
    "    df = df[~df['BNF NAME'].str.contains('Ecostatin')]\n",
    "    df.to_csv('StatinsJan2015.csv') #save the result\n"
   ]
  },
  {
   "cell_type": "code",
   "execution_count": 111,
   "metadata": {
    "collapsed": false
   },
   "outputs": [],
   "source": [
    "#fetch_prescribing_data()\n",
    "#clean_prescribing_data()\n",
    "\n",
    "df = pd.read_csv('StatinsJan2015.csv') #load cleaned prescribing data cut\n",
    "\n"
   ]
  },
  {
   "cell_type": "code",
   "execution_count": 112,
   "metadata": {
    "collapsed": false
   },
   "outputs": [
    {
     "data": {
      "text/html": [
       "<div style=\"max-height:1000px;max-width:1500px;overflow:auto;\">\n",
       "<table border=\"1\" class=\"dataframe\">\n",
       "  <thead>\n",
       "    <tr style=\"text-align: right;\">\n",
       "      <th></th>\n",
       "      <th>Unnamed: 0</th>\n",
       "      <th>SHA</th>\n",
       "      <th>PCT</th>\n",
       "      <th>PRACTICE</th>\n",
       "      <th>BNF CODE</th>\n",
       "      <th>BNF NAME</th>\n",
       "      <th>ITEMS</th>\n",
       "      <th>NIC</th>\n",
       "      <th>ACT COST</th>\n",
       "      <th>QUANTITY</th>\n",
       "      <th>PERIOD</th>\n",
       "      <th>Unnamed: 11</th>\n",
       "    </tr>\n",
       "  </thead>\n",
       "  <tbody>\n",
       "    <tr>\n",
       "      <th>0</th>\n",
       "      <td>   99</td>\n",
       "      <td> Q44</td>\n",
       "      <td> RXA</td>\n",
       "      <td> Y00327</td>\n",
       "      <td> 0212000Y0AAABAB</td>\n",
       "      <td> Simvastatin_Tab 20mg                    </td>\n",
       "      <td> 1</td>\n",
       "      <td> 0.14</td>\n",
       "      <td> 0.24</td>\n",
       "      <td>  4</td>\n",
       "      <td> 201501</td>\n",
       "      <td>                   </td>\n",
       "    </tr>\n",
       "    <tr>\n",
       "      <th>1</th>\n",
       "      <td>  100</td>\n",
       "      <td> Q44</td>\n",
       "      <td> RXA</td>\n",
       "      <td> Y00327</td>\n",
       "      <td> 0212000Y0AAADAD</td>\n",
       "      <td> Simvastatin_Tab 40mg                    </td>\n",
       "      <td> 1</td>\n",
       "      <td> 0.08</td>\n",
       "      <td> 0.19</td>\n",
       "      <td>  2</td>\n",
       "      <td> 201501</td>\n",
       "      <td>                   </td>\n",
       "    </tr>\n",
       "    <tr>\n",
       "      <th>2</th>\n",
       "      <td>  586</td>\n",
       "      <td> Q44</td>\n",
       "      <td> RY7</td>\n",
       "      <td> N85638</td>\n",
       "      <td> 0212000B0AAACAC</td>\n",
       "      <td> Atorvastatin_Tab 40mg                   </td>\n",
       "      <td> 2</td>\n",
       "      <td> 0.58</td>\n",
       "      <td> 0.76</td>\n",
       "      <td> 10</td>\n",
       "      <td> 201501</td>\n",
       "      <td>                   </td>\n",
       "    </tr>\n",
       "    <tr>\n",
       "      <th>3</th>\n",
       "      <td>  587</td>\n",
       "      <td> Q44</td>\n",
       "      <td> RY7</td>\n",
       "      <td> N85638</td>\n",
       "      <td> 0212000Y0AAADAD</td>\n",
       "      <td> Simvastatin_Tab 40mg                    </td>\n",
       "      <td> 2</td>\n",
       "      <td> 0.60</td>\n",
       "      <td> 0.78</td>\n",
       "      <td> 14</td>\n",
       "      <td> 201501</td>\n",
       "      <td>                   </td>\n",
       "    </tr>\n",
       "    <tr>\n",
       "      <th>4</th>\n",
       "      <td> 1056</td>\n",
       "      <td> Q44</td>\n",
       "      <td> RY7</td>\n",
       "      <td> N85645</td>\n",
       "      <td> 0212000Y0AAABAB</td>\n",
       "      <td> Simvastatin_Tab 20mg                    </td>\n",
       "      <td> 1</td>\n",
       "      <td> 0.11</td>\n",
       "      <td> 0.21</td>\n",
       "      <td>  3</td>\n",
       "      <td> 201501</td>\n",
       "      <td>                   </td>\n",
       "    </tr>\n",
       "  </tbody>\n",
       "</table>\n",
       "</div>"
      ],
      "text/plain": [
       "   Unnamed: 0  SHA  PCT PRACTICE         BNF CODE  \\\n",
       "0          99  Q44  RXA   Y00327  0212000Y0AAABAB   \n",
       "1         100  Q44  RXA   Y00327  0212000Y0AAADAD   \n",
       "2         586  Q44  RY7   N85638  0212000B0AAACAC   \n",
       "3         587  Q44  RY7   N85638  0212000Y0AAADAD   \n",
       "4        1056  Q44  RY7   N85645  0212000Y0AAABAB   \n",
       "\n",
       "                                   BNF NAME  ITEMS   NIC  ACT COST  QUANTITY  \\\n",
       "0  Simvastatin_Tab 20mg                          1  0.14      0.24         4   \n",
       "1  Simvastatin_Tab 40mg                          1  0.08      0.19         2   \n",
       "2  Atorvastatin_Tab 40mg                         2  0.58      0.76        10   \n",
       "3  Simvastatin_Tab 40mg                          2  0.60      0.78        14   \n",
       "4  Simvastatin_Tab 20mg                          1  0.11      0.21         3   \n",
       "\n",
       "   PERIOD         Unnamed: 11  \n",
       "0  201501                      \n",
       "1  201501                      \n",
       "2  201501                      \n",
       "3  201501                      \n",
       "4  201501                      "
      ]
     },
     "execution_count": 112,
     "metadata": {},
     "output_type": "execute_result"
    }
   ],
   "source": [
    "df.head()"
   ]
  },
  {
   "cell_type": "code",
   "execution_count": 99,
   "metadata": {
    "collapsed": false
   },
   "outputs": [],
   "source": [
    "df1 = pd.read_excel('data/Disp Pracs Name and Address 2015-01-31.xls')"
   ]
  },
  {
   "cell_type": "code",
   "execution_count": 40,
   "metadata": {
    "collapsed": false
   },
   "outputs": [
    {
     "data": {
      "text/plain": [
       "Index([u'Dispensing Practices Address Details', u'Unnamed: 1', u'Unnamed: 2', u'Unnamed: 3', u'Unnamed: 4', u'Unnamed: 5', u'Unnamed: 6'], dtype='object')"
      ]
     },
     "execution_count": 40,
     "metadata": {},
     "output_type": "execute_result"
    }
   ],
   "source": [
    "df1.columns"
   ]
  },
  {
   "cell_type": "code",
   "execution_count": 121,
   "metadata": {
    "collapsed": false
   },
   "outputs": [
    {
     "data": {
      "text/plain": [
       "NaN                                  Primary Care Trust:\n",
       "NaN                                          Report For:\n",
       "NaN                            Practice Name and Address\n",
       "NaN    Addingham Surgery, Addingham Medical Centre, 1...\n",
       "NaN    Haworth Medical Practice, Heathcliffe Mews, Ha...\n",
       "Name: Dispensing Practices Address Details, dtype: object"
      ]
     },
     "execution_count": 121,
     "metadata": {},
     "output_type": "execute_result"
    }
   ],
   "source": [
    "df1['Dispensing Practices Address Details'].head()"
   ]
  },
  {
   "cell_type": "code",
   "execution_count": 116,
   "metadata": {
    "collapsed": false
   },
   "outputs": [],
   "source": [
    "df2 = pd.read_csv('datas/epraccur.csv')#from http://systems.hscic.gov.uk/data/ods/datadownloads/data-files/epraccur.zip"
   ]
  },
  {
   "cell_type": "code",
   "execution_count": 118,
   "metadata": {
    "collapsed": false
   },
   "outputs": [
    {
     "data": {
      "text/plain": [
       "12704"
      ]
     },
     "execution_count": 118,
     "metadata": {},
     "output_type": "execute_result"
    }
   ],
   "source": [
    "len(df2)"
   ]
  },
  {
   "cell_type": "code",
   "execution_count": 120,
   "metadata": {
    "collapsed": false
   },
   "outputs": [
    {
     "data": {
      "text/html": [
       "<div style=\"max-height:1000px;max-width:1500px;overflow:auto;\">\n",
       "<table border=\"1\" class=\"dataframe\">\n",
       "  <thead>\n",
       "    <tr style=\"text-align: right;\">\n",
       "      <th></th>\n",
       "      <th>A81043</th>\n",
       "      <th>THE MANOR HOUSE SURGERY</th>\n",
       "      <th>Y54</th>\n",
       "      <th>Q74</th>\n",
       "      <th>THE MANOR HOUSE SURGERY.1</th>\n",
       "      <th>BRAIDWOOD ROAD, NORMANBY</th>\n",
       "      <th>MIDDLESBROUGH</th>\n",
       "      <th>CLEVELAND</th>\n",
       "      <th>Unnamed: 8</th>\n",
       "      <th>TS6 0HA</th>\n",
       "      <th>...</th>\n",
       "      <th>Unnamed: 16</th>\n",
       "      <th>01642 374788</th>\n",
       "      <th>Unnamed: 18</th>\n",
       "      <th>Unnamed: 19</th>\n",
       "      <th>Unnamed: 20</th>\n",
       "      <th>1</th>\n",
       "      <th>Unnamed: 22</th>\n",
       "      <th>00M.1</th>\n",
       "      <th>Unnamed: 24</th>\n",
       "      <th>4</th>\n",
       "    </tr>\n",
       "  </thead>\n",
       "  <tbody>\n",
       "    <tr>\n",
       "      <th>0</th>\n",
       "      <td> A81044</td>\n",
       "      <td>       MCKENZIE HOUSE SURGERY</td>\n",
       "      <td> Y54</td>\n",
       "      <td> Q74</td>\n",
       "      <td>          MCKENZIE HOUSE</td>\n",
       "      <td>  17 KENDAL ROAD</td>\n",
       "      <td>       HARTLEPOOL</td>\n",
       "      <td> CLEVELAND</td>\n",
       "      <td> NaN</td>\n",
       "      <td> TS25 1QU</td>\n",
       "      <td>...</td>\n",
       "      <td>NaN</td>\n",
       "      <td> 01429 230000</td>\n",
       "      <td>NaN</td>\n",
       "      <td>NaN</td>\n",
       "      <td>NaN</td>\n",
       "      <td> 1</td>\n",
       "      <td>NaN</td>\n",
       "      <td> 00K</td>\n",
       "      <td>NaN</td>\n",
       "      <td> 4</td>\n",
       "    </tr>\n",
       "    <tr>\n",
       "      <th>1</th>\n",
       "      <td> A81057</td>\n",
       "      <td>      KINGSWAY MEDICAL CENTRE</td>\n",
       "      <td> Y54</td>\n",
       "      <td> Q74</td>\n",
       "      <td> KINGSWAY MEDICAL CENTRE</td>\n",
       "      <td>        KINGSWAY</td>\n",
       "      <td>       BILLINGHAM</td>\n",
       "      <td> CLEVELAND</td>\n",
       "      <td> NaN</td>\n",
       "      <td> TS23 2LS</td>\n",
       "      <td>...</td>\n",
       "      <td>NaN</td>\n",
       "      <td> 01642 554967</td>\n",
       "      <td>NaN</td>\n",
       "      <td>NaN</td>\n",
       "      <td>NaN</td>\n",
       "      <td> 1</td>\n",
       "      <td>NaN</td>\n",
       "      <td> 00K</td>\n",
       "      <td>NaN</td>\n",
       "      <td> 4</td>\n",
       "    </tr>\n",
       "    <tr>\n",
       "      <th>2</th>\n",
       "      <td> A81623</td>\n",
       "      <td> NORTH SHORE MEDICAL PRACTICE</td>\n",
       "      <td> Y54</td>\n",
       "      <td> Q74</td>\n",
       "      <td>         ENDURANCE HOUSE</td>\n",
       "      <td> CLARENCE STREET</td>\n",
       "      <td> STOCKTON ON TEES</td>\n",
       "      <td> CLEVELAND</td>\n",
       "      <td> NaN</td>\n",
       "      <td> TS18 2EP</td>\n",
       "      <td>...</td>\n",
       "      <td>NaN</td>\n",
       "      <td> 01642 602222</td>\n",
       "      <td>NaN</td>\n",
       "      <td>NaN</td>\n",
       "      <td>NaN</td>\n",
       "      <td> 1</td>\n",
       "      <td>NaN</td>\n",
       "      <td> 00K</td>\n",
       "      <td>NaN</td>\n",
       "      <td> 4</td>\n",
       "    </tr>\n",
       "    <tr>\n",
       "      <th>3</th>\n",
       "      <td> A82034</td>\n",
       "      <td>           STONELEIGH SURGERY</td>\n",
       "      <td> Y54</td>\n",
       "      <td> Q74</td>\n",
       "      <td>      STONELEIGH SURGERY</td>\n",
       "      <td>   POLICE SQUARE</td>\n",
       "      <td>       MILNTHORPE</td>\n",
       "      <td>   CUMBRIA</td>\n",
       "      <td> NaN</td>\n",
       "      <td>  LA7 7PW</td>\n",
       "      <td>...</td>\n",
       "      <td>NaN</td>\n",
       "      <td> 01539 563307</td>\n",
       "      <td>NaN</td>\n",
       "      <td>NaN</td>\n",
       "      <td>NaN</td>\n",
       "      <td> 1</td>\n",
       "      <td>NaN</td>\n",
       "      <td> 01H</td>\n",
       "      <td>NaN</td>\n",
       "      <td> 4</td>\n",
       "    </tr>\n",
       "    <tr>\n",
       "      <th>4</th>\n",
       "      <td> A82075</td>\n",
       "      <td>        MANSION HOUSE SURGERY</td>\n",
       "      <td> Y54</td>\n",
       "      <td> Q74</td>\n",
       "      <td>      19/20 IRISH STREET</td>\n",
       "      <td>      WHITEHAVEN</td>\n",
       "      <td>          CUMBRIA</td>\n",
       "      <td>       NaN</td>\n",
       "      <td> NaN</td>\n",
       "      <td> CA28 7BU</td>\n",
       "      <td>...</td>\n",
       "      <td>NaN</td>\n",
       "      <td> 01946 693660</td>\n",
       "      <td>NaN</td>\n",
       "      <td>NaN</td>\n",
       "      <td>NaN</td>\n",
       "      <td> 1</td>\n",
       "      <td>NaN</td>\n",
       "      <td> 01H</td>\n",
       "      <td>NaN</td>\n",
       "      <td> 4</td>\n",
       "    </tr>\n",
       "  </tbody>\n",
       "</table>\n",
       "<p>5 rows × 26 columns</p>\n",
       "</div>"
      ],
      "text/plain": [
       "   A81043       THE MANOR HOUSE SURGERY  Y54  Q74 THE MANOR HOUSE SURGERY.1  \\\n",
       "0  A81044        MCKENZIE HOUSE SURGERY  Y54  Q74            MCKENZIE HOUSE   \n",
       "1  A81057       KINGSWAY MEDICAL CENTRE  Y54  Q74   KINGSWAY MEDICAL CENTRE   \n",
       "2  A81623  NORTH SHORE MEDICAL PRACTICE  Y54  Q74           ENDURANCE HOUSE   \n",
       "3  A82034            STONELEIGH SURGERY  Y54  Q74        STONELEIGH SURGERY   \n",
       "4  A82075         MANSION HOUSE SURGERY  Y54  Q74        19/20 IRISH STREET   \n",
       "\n",
       "  BRAIDWOOD ROAD, NORMANBY     MIDDLESBROUGH  CLEVELAND Unnamed: 8   TS6 0HA  \\\n",
       "0           17 KENDAL ROAD        HARTLEPOOL  CLEVELAND        NaN  TS25 1QU   \n",
       "1                 KINGSWAY        BILLINGHAM  CLEVELAND        NaN  TS23 2LS   \n",
       "2          CLARENCE STREET  STOCKTON ON TEES  CLEVELAND        NaN  TS18 2EP   \n",
       "3            POLICE SQUARE        MILNTHORPE    CUMBRIA        NaN   LA7 7PW   \n",
       "4               WHITEHAVEN           CUMBRIA        NaN        NaN  CA28 7BU   \n",
       "\n",
       "     ...     Unnamed: 16  01642 374788 Unnamed: 18 Unnamed: 19 Unnamed: 20  1  \\\n",
       "0    ...             NaN  01429 230000         NaN         NaN         NaN  1   \n",
       "1    ...             NaN  01642 554967         NaN         NaN         NaN  1   \n",
       "2    ...             NaN  01642 602222         NaN         NaN         NaN  1   \n",
       "3    ...             NaN  01539 563307         NaN         NaN         NaN  1   \n",
       "4    ...             NaN  01946 693660         NaN         NaN         NaN  1   \n",
       "\n",
       "   Unnamed: 22 00M.1  Unnamed: 24  4  \n",
       "0          NaN   00K          NaN  4  \n",
       "1          NaN   00K          NaN  4  \n",
       "2          NaN   00K          NaN  4  \n",
       "3          NaN   01H          NaN  4  \n",
       "4          NaN   01H          NaN  4  \n",
       "\n",
       "[5 rows x 26 columns]"
      ]
     },
     "execution_count": 120,
     "metadata": {},
     "output_type": "execute_result"
    }
   ],
   "source": [
    "df2.head()"
   ]
  },
  {
   "cell_type": "code",
   "execution_count": null,
   "metadata": {
    "collapsed": true
   },
   "outputs": [],
   "source": []
  }
 ],
 "metadata": {
  "kernelspec": {
   "display_name": "Python 2",
   "language": "python",
   "name": "python2"
  },
  "language_info": {
   "codemirror_mode": {
    "name": "ipython",
    "version": 2
   },
   "file_extension": ".py",
   "mimetype": "text/x-python",
   "name": "python",
   "nbconvert_exporter": "python",
   "pygments_lexer": "ipython2",
   "version": "2.7.6"
  }
 },
 "nbformat": 4,
 "nbformat_minor": 0
}
