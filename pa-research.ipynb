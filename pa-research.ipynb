{
 "cells": [
  {
   "cell_type": "markdown",
   "metadata": {},
   "source": [
    "# Are statin prescribing ratios different for dispensing practices?"
   ]
  },
  {
   "cell_type": "markdown",
   "metadata": {},
   "source": [
    "#### 1. Obtain GP Prescribing data\n",
    "#### 2. Cut GP Prescribing data for things of interest (statins)\n",
    "#### 3. Obtain list of dispensing practices\n",
    "#### 4. Combine statin cut and dispensing practice list\n",
    "#### 5. Compare dispensing vs non-dispensing statin prescribing rations"
   ]
  },
  {
   "cell_type": "code",
   "execution_count": 11,
   "metadata": {
    "collapsed": false
   },
   "outputs": [],
   "source": [
    "import requests\n",
    "from StringIO import StringIO\n",
    "import pandas as pd"
   ]
  },
  {
   "cell_type": "code",
   "execution_count": 3,
   "metadata": {
    "collapsed": true
   },
   "outputs": [],
   "source": [
    "url = 'http://datagov.ic.nhs.uk/presentation/2015_01_January/T201501PDPI+BNFT.CSV' #gp prescribing data (Jan 2015)\n",
    "r = requests.get(url)\n",
    "data = r.content\n",
    "df = pd.read_csv(StringIO(data))\n"
   ]
  },
  {
   "cell_type": "code",
   "execution_count": 17,
   "metadata": {
    "collapsed": true
   },
   "outputs": [],
   "source": [
    "df.columns = [x.strip() for x in df.columns] #gets rid of variable whitespace"
   ]
  },
  {
   "cell_type": "code",
   "execution_count": 43,
   "metadata": {
    "collapsed": false
   },
   "outputs": [],
   "source": []
  },
  {
   "cell_type": "code",
   "execution_count": 44,
   "metadata": {
    "collapsed": false
   },
   "outputs": [],
   "source": [
    "df = df[~df['BNF NAME'].str.contains('Nystatin')]\n",
    "df = df[~df['BNF NAME'].str.contains('Sandostatin')]\n",
    "df = df[~df['BNF NAME'].str.contains('Ecostatin')]"
   ]
  },
  {
   "cell_type": "code",
   "execution_count": 48,
   "metadata": {
    "collapsed": false
   },
   "outputs": [
    {
     "data": {
      "text/plain": [
       "array(['Simvastatin_Tab 20mg                    ',\n",
       "       'Simvastatin_Tab 40mg                    ',\n",
       "       'Atorvastatin_Tab 40mg                   ',\n",
       "       'Rosuvastatin Calc_Tab 10mg              ',\n",
       "       'Rosuvastatin Calc_Tab 20mg              ',\n",
       "       'Rosuvastatin Calc_Tab 5mg               ',\n",
       "       'Simvastatin/Ezetimibe_Tab 80mg/10mg     ',\n",
       "       'Atorvastatin_Tab 10mg                   ',\n",
       "       'Atorvastatin_Tab 20mg                   ',\n",
       "       'Atorvastatin_Tab 80mg                   ',\n",
       "       'Fluvastatin Sod_Cap 40mg                ',\n",
       "       'Fluvastatin Sod_Tab 80mg M/R            ',\n",
       "       'Pravastatin Sod_Tab 10mg                ',\n",
       "       'Pravastatin Sod_Tab 20mg                ',\n",
       "       'Pravastatin Sod_Tab 40mg                ',\n",
       "       'Simvastatin_Tab 10mg                    ',\n",
       "       'Simvastatin_Tab 80mg                    ',\n",
       "       'Rosuvastatin Calc_Tab 40mg              ',\n",
       "       'Fluvastatin Sod_Cap 20mg                ',\n",
       "       'Atorvastatin_Tab Chble 10mg S/F         ',\n",
       "       'Simvastatin_Oral Susp 20mg/5ml S/F      ',\n",
       "       'Simvastatin_Oral Susp 40mg/5ml S/F      ',\n",
       "       'Simvastatin/Ezetimibe_Tab 40mg/10mg     ',\n",
       "       'Simvastatin/Ezetimibe_Tab 20mg/10mg     ',\n",
       "       'Atorvastatin_Tab Chble 20mg S/F         ',\n",
       "       'Atorvastatin_Tab 30mg                   ',\n",
       "       'Atorvastatin_Tab 60mg                   ',\n",
       "       'Atorvastatin_Oral Soln 20mg/5ml         ',\n",
       "       'Atorvastatin_Liq Spec 10mg/5ml          ',\n",
       "       'Atorvastatin_Oral Susp 20mg/5ml         ',\n",
       "       'Pravastatin Sod_Liq Spec 40mg/5ml       ',\n",
       "       'Pravastatin Sod_Pdr Sach 5mg            ',\n",
       "       'Pravastatin Sod_Liq Spec 5mg/5ml        ',\n",
       "       'Simvastatin_Liq Spec 20mg/5ml           ',\n",
       "       'Atorvastatin_Liq Spec 40mg/5ml          '], dtype=object)"
      ]
     },
     "execution_count": 48,
     "metadata": {},
     "output_type": "execute_result"
    }
   ],
   "source": [
    "df['BNF NAME'].unique()"
   ]
  },
  {
   "cell_type": "code",
   "execution_count": 21,
   "metadata": {
    "collapsed": false
   },
   "outputs": [
    {
     "data": {
      "text/html": [
       "<div style=\"max-height:1000px;max-width:1500px;overflow:auto;\">\n",
       "<table border=\"1\" class=\"dataframe\">\n",
       "  <thead>\n",
       "    <tr style=\"text-align: right;\">\n",
       "      <th></th>\n",
       "      <th>SHA</th>\n",
       "      <th>PCT</th>\n",
       "      <th>PRACTICE</th>\n",
       "      <th>BNF CODE</th>\n",
       "      <th>BNF NAME</th>\n",
       "      <th>ITEMS</th>\n",
       "      <th>NIC</th>\n",
       "      <th>ACT COST</th>\n",
       "      <th>QUANTITY</th>\n",
       "      <th>PERIOD</th>\n",
       "      <th></th>\n",
       "    </tr>\n",
       "  </thead>\n",
       "  <tbody>\n",
       "  </tbody>\n",
       "</table>\n",
       "</div>"
      ],
      "text/plain": [
       "Empty DataFrame\n",
       "Columns: [SHA, PCT, PRACTICE, BNF CODE, BNF NAME, ITEMS, NIC, ACT COST, QUANTITY, PERIOD, ]\n",
       "Index: []"
      ]
     },
     "execution_count": 21,
     "metadata": {},
     "output_type": "execute_result"
    }
   ],
   "source": [
    "df[df['BNF NAME'].isin(statins)]"
   ]
  },
  {
   "cell_type": "code",
   "execution_count": null,
   "metadata": {
    "collapsed": true
   },
   "outputs": [],
   "source": []
  }
 ],
 "metadata": {
  "kernelspec": {
   "display_name": "Python 2",
   "language": "python",
   "name": "python2"
  },
  "language_info": {
   "codemirror_mode": {
    "name": "ipython",
    "version": 2
   },
   "file_extension": ".py",
   "mimetype": "text/x-python",
   "name": "python",
   "nbconvert_exporter": "python",
   "pygments_lexer": "ipython2",
   "version": "2.7.6"
  }
 },
 "nbformat": 4,
 "nbformat_minor": 0
}
