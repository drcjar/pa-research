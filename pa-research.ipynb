{
 "cells": [
  {
   "cell_type": "markdown",
   "metadata": {},
   "source": [
    "# Are statin prescribing ratios different for dispensing practices?"
   ]
  },
  {
   "cell_type": "markdown",
   "metadata": {},
   "source": [
    "#### 1. Obtain GP Prescribing data\n",
    "#### 2. Cut GP Prescribing data for things of interest (statins)\n",
    "#### 3. Obtain list of dispensing practices\n",
    "#### 3a. Add codes to list of dispensing practices (name and address only is provided)\n",
    "#### 4. Combine statin cut and dispensing practice list\n",
    "#### 5. Compare dispensing vs non-dispensing statin prescribing rations"
   ]
  },
  {
   "cell_type": "code",
   "execution_count": 57,
   "metadata": {
    "collapsed": false
   },
   "outputs": [],
   "source": [
    "import requests\n",
    "from StringIO import StringIO\n",
    "from numpy import nan\n",
    "import pandas as pd\n",
    "import xlrd \n",
    "import csv"
   ]
  },
  {
   "cell_type": "code",
   "execution_count": 106,
   "metadata": {
    "collapsed": true
   },
   "outputs": [],
   "source": [
    "def fetch_prescribing_data():\n",
    "    url = 'http://datagov.ic.nhs.uk/presentation/2015_01_January/T201501PDPI+BNFT.CSV' #gp prescribing data (Jan 2015)\n",
    "    r = requests.get(url)\n",
    "    data = r.content\n",
    "    df = pd.read_csv(StringIO(data))\n",
    "\n",
    "def clean_prescribing_data():\n",
    "    df.columns = [x.strip() for x in df.columns] #gets rid of variable whitespace\n",
    "    df = df[df['BNF NAME'].str.contains('statin')] #cut for rows with statin in them and throw away unwanted statins\n",
    "    df = df[~df['BNF NAME'].str.contains('Nystatin')]\n",
    "    df = df[~df['BNF NAME'].str.contains('Sandostatin')]\n",
    "    df = df[~df['BNF NAME'].str.contains('Ecostatin')]\n",
    "    df.to_csv('StatinsJan2015.csv') #save the result\n"
   ]
  },
  {
   "cell_type": "code",
   "execution_count": 111,
   "metadata": {
    "collapsed": false
   },
   "outputs": [],
   "source": [
    "#fetch_prescribing_data()\n",
    "#clean_prescribing_data()\n",
    "\n",
    "df = pd.read_csv('StatinsJan2015.csv') #load cleaned prescribing data cut\n",
    "\n"
   ]
  },
  {
   "cell_type": "code",
   "execution_count": 112,
   "metadata": {
    "collapsed": false
   },
   "outputs": [
    {
     "data": {
      "text/html": [
       "<div style=\"max-height:1000px;max-width:1500px;overflow:auto;\">\n",
       "<table border=\"1\" class=\"dataframe\">\n",
       "  <thead>\n",
       "    <tr style=\"text-align: right;\">\n",
       "      <th></th>\n",
       "      <th>Unnamed: 0</th>\n",
       "      <th>SHA</th>\n",
       "      <th>PCT</th>\n",
       "      <th>PRACTICE</th>\n",
       "      <th>BNF CODE</th>\n",
       "      <th>BNF NAME</th>\n",
       "      <th>ITEMS</th>\n",
       "      <th>NIC</th>\n",
       "      <th>ACT COST</th>\n",
       "      <th>QUANTITY</th>\n",
       "      <th>PERIOD</th>\n",
       "      <th>Unnamed: 11</th>\n",
       "    </tr>\n",
       "  </thead>\n",
       "  <tbody>\n",
       "    <tr>\n",
       "      <th>0</th>\n",
       "      <td>   99</td>\n",
       "      <td> Q44</td>\n",
       "      <td> RXA</td>\n",
       "      <td> Y00327</td>\n",
       "      <td> 0212000Y0AAABAB</td>\n",
       "      <td> Simvastatin_Tab 20mg                    </td>\n",
       "      <td> 1</td>\n",
       "      <td> 0.14</td>\n",
       "      <td> 0.24</td>\n",
       "      <td>  4</td>\n",
       "      <td> 201501</td>\n",
       "      <td>                   </td>\n",
       "    </tr>\n",
       "    <tr>\n",
       "      <th>1</th>\n",
       "      <td>  100</td>\n",
       "      <td> Q44</td>\n",
       "      <td> RXA</td>\n",
       "      <td> Y00327</td>\n",
       "      <td> 0212000Y0AAADAD</td>\n",
       "      <td> Simvastatin_Tab 40mg                    </td>\n",
       "      <td> 1</td>\n",
       "      <td> 0.08</td>\n",
       "      <td> 0.19</td>\n",
       "      <td>  2</td>\n",
       "      <td> 201501</td>\n",
       "      <td>                   </td>\n",
       "    </tr>\n",
       "    <tr>\n",
       "      <th>2</th>\n",
       "      <td>  586</td>\n",
       "      <td> Q44</td>\n",
       "      <td> RY7</td>\n",
       "      <td> N85638</td>\n",
       "      <td> 0212000B0AAACAC</td>\n",
       "      <td> Atorvastatin_Tab 40mg                   </td>\n",
       "      <td> 2</td>\n",
       "      <td> 0.58</td>\n",
       "      <td> 0.76</td>\n",
       "      <td> 10</td>\n",
       "      <td> 201501</td>\n",
       "      <td>                   </td>\n",
       "    </tr>\n",
       "    <tr>\n",
       "      <th>3</th>\n",
       "      <td>  587</td>\n",
       "      <td> Q44</td>\n",
       "      <td> RY7</td>\n",
       "      <td> N85638</td>\n",
       "      <td> 0212000Y0AAADAD</td>\n",
       "      <td> Simvastatin_Tab 40mg                    </td>\n",
       "      <td> 2</td>\n",
       "      <td> 0.60</td>\n",
       "      <td> 0.78</td>\n",
       "      <td> 14</td>\n",
       "      <td> 201501</td>\n",
       "      <td>                   </td>\n",
       "    </tr>\n",
       "    <tr>\n",
       "      <th>4</th>\n",
       "      <td> 1056</td>\n",
       "      <td> Q44</td>\n",
       "      <td> RY7</td>\n",
       "      <td> N85645</td>\n",
       "      <td> 0212000Y0AAABAB</td>\n",
       "      <td> Simvastatin_Tab 20mg                    </td>\n",
       "      <td> 1</td>\n",
       "      <td> 0.11</td>\n",
       "      <td> 0.21</td>\n",
       "      <td>  3</td>\n",
       "      <td> 201501</td>\n",
       "      <td>                   </td>\n",
       "    </tr>\n",
       "  </tbody>\n",
       "</table>\n",
       "</div>"
      ],
      "text/plain": [
       "   Unnamed: 0  SHA  PCT PRACTICE         BNF CODE  \\\n",
       "0          99  Q44  RXA   Y00327  0212000Y0AAABAB   \n",
       "1         100  Q44  RXA   Y00327  0212000Y0AAADAD   \n",
       "2         586  Q44  RY7   N85638  0212000B0AAACAC   \n",
       "3         587  Q44  RY7   N85638  0212000Y0AAADAD   \n",
       "4        1056  Q44  RY7   N85645  0212000Y0AAABAB   \n",
       "\n",
       "                                   BNF NAME  ITEMS   NIC  ACT COST  QUANTITY  \\\n",
       "0  Simvastatin_Tab 20mg                          1  0.14      0.24         4   \n",
       "1  Simvastatin_Tab 40mg                          1  0.08      0.19         2   \n",
       "2  Atorvastatin_Tab 40mg                         2  0.58      0.76        10   \n",
       "3  Simvastatin_Tab 40mg                          2  0.60      0.78        14   \n",
       "4  Simvastatin_Tab 20mg                          1  0.11      0.21         3   \n",
       "\n",
       "   PERIOD         Unnamed: 11  \n",
       "0  201501                      \n",
       "1  201501                      \n",
       "2  201501                      \n",
       "3  201501                      \n",
       "4  201501                      "
      ]
     },
     "execution_count": 112,
     "metadata": {},
     "output_type": "execute_result"
    }
   ],
   "source": [
    "df.head()"
   ]
  },
  {
   "cell_type": "code",
   "execution_count": 99,
   "metadata": {
    "collapsed": false
   },
   "outputs": [],
   "source": [
    "df1 = pd.read_excel('data/Disp Pracs Name and Address 2015-01-31.xls')"
   ]
  },
  {
   "cell_type": "code",
   "execution_count": 184,
   "metadata": {
    "collapsed": false
   },
   "outputs": [
    {
     "data": {
      "text/plain": [
       "1562"
      ]
     },
     "execution_count": 184,
     "metadata": {},
     "output_type": "execute_result"
    }
   ],
   "source": [
    "len(df1)"
   ]
  },
  {
   "cell_type": "code",
   "execution_count": 130,
   "metadata": {
    "collapsed": false
   },
   "outputs": [],
   "source": [
    "df1['Dispensing Practices Address Details'] = df1['Dispensing Practices Address Details'].str.upper()"
   ]
  },
  {
   "cell_type": "code",
   "execution_count": 149,
   "metadata": {
    "collapsed": false
   },
   "outputs": [],
   "source": [
    "df1 = df1['Dispensing Practices Address Details'].str.split(',')"
   ]
  },
  {
   "cell_type": "code",
   "execution_count": 175,
   "metadata": {
    "collapsed": false
   },
   "outputs": [],
   "source": [
    "dpnames = df1.str[0] #dispensing practice names"
   ]
  },
  {
   "cell_type": "code",
   "execution_count": 116,
   "metadata": {
    "collapsed": false
   },
   "outputs": [],
   "source": [
    "df2 = pd.read_csv('datas/epraccur.csv') #from http://systems.hscic.gov.uk/data/ods/datadownloads/data-files/epraccur.zip"
   ]
  },
  {
   "cell_type": "code",
   "execution_count": 183,
   "metadata": {
    "collapsed": false
   },
   "outputs": [
    {
     "data": {
      "text/plain": [
       "1182"
      ]
     },
     "execution_count": 183,
     "metadata": {},
     "output_type": "execute_result"
    }
   ],
   "source": [
    "len(df2[df2.icol(1).isin(dpnames)]) #1182 != 1562 so we're missing some"
   ]
  },
  {
   "cell_type": "code",
   "execution_count": 190,
   "metadata": {
    "collapsed": false
   },
   "outputs": [],
   "source": [
    "dpcodes = df2[df2.icol(1).isin(dpnames)].icol(0) #dispensing practice codes"
   ]
  },
  {
   "cell_type": "code",
   "execution_count": 204,
   "metadata": {
    "collapsed": false
   },
   "outputs": [
    {
     "data": {
      "text/plain": [
       "1168"
      ]
     },
     "execution_count": 204,
     "metadata": {},
     "output_type": "execute_result"
    }
   ],
   "source": [
    "len(df[df['PRACTICE'].isin(dpcodes)]['PRACTICE'].unique()) #dispensing practices we can identify in prescribing data"
   ]
  },
  {
   "cell_type": "code",
   "execution_count": 240,
   "metadata": {
    "collapsed": false
   },
   "outputs": [],
   "source": [
    "dpp = df[df['PRACTICE'].isin(dpcodes)] #dispensing practice prescribing\n",
    "ndpp = df[~df['PRACTICE'].isin(dpcodes)]#not dispensing practice prescribing\n"
   ]
  },
  {
   "cell_type": "code",
   "execution_count": 280,
   "metadata": {
    "collapsed": false
   },
   "outputs": [
    {
     "name": "stdout",
     "output_type": "stream",
     "text": [
      "4.11664201488\n"
     ]
    }
   ],
   "source": [
    "rp_dpp = dpp[dpp['BNF NAME'].str.contains('Rosuvastatin')].ITEMS.sum() #rosuvastatin prescriptions\n",
    "nrp_dpp = dpp[~dpp['BNF NAME'].str.contains('Rosuvastatin')].ITEMS.sum() #not rosuvastatin prescriptions\n",
    "assert(dpp.ITEMS.sum() == rp_dpp + nrp_dpp) #sanity check\n",
    "percent_r_dpp = float(rp_dpp) / float(nrp_dpp) * 100 #percentage rosuvastatin prescribing\n",
    "print percent_r_dpp"
   ]
  },
  {
   "cell_type": "code",
   "execution_count": 281,
   "metadata": {
    "collapsed": false
   },
   "outputs": [
    {
     "name": "stdout",
     "output_type": "stream",
     "text": [
      "2.63328926643\n"
     ]
    }
   ],
   "source": [
    "rp_ndpp = ndpp[ndpp['BNF NAME'].str.contains('Rosuvastatin')].ITEMS.sum() #rosuvastatin prescriptions\n",
    "nrp_ndpp = ndpp[~ndpp['BNF NAME'].str.contains('Rosuvastatin')].ITEMS.sum() #not rosuvastatin prescriptions\n",
    "assert(ndpp.ITEMS.sum() == rp_ndpp + nrp_ndpp) #sanity check\n",
    "percent_r_ndpp = float(rp_ndpp) / float(nrp_ndpp) * 100 #percentage rosuvastatin prescribing\n",
    "print percent_r_ndpp"
   ]
  },
  {
   "cell_type": "code",
   "execution_count": null,
   "metadata": {
    "collapsed": true
   },
   "outputs": [],
   "source": []
  }
 ],
 "metadata": {
  "kernelspec": {
   "display_name": "Python 2",
   "language": "python",
   "name": "python2"
  },
  "language_info": {
   "codemirror_mode": {
    "name": "ipython",
    "version": 2
   },
   "file_extension": ".py",
   "mimetype": "text/x-python",
   "name": "python",
   "nbconvert_exporter": "python",
   "pygments_lexer": "ipython2",
   "version": "2.7.6"
  }
 },
 "nbformat": 4,
 "nbformat_minor": 0
}
