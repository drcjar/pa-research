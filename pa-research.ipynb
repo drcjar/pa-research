{
 "cells": [
  {
   "cell_type": "markdown",
   "metadata": {},
   "source": [
    "# Are statin prescribing ratios different for dispensing practices?"
   ]
  },
  {
   "cell_type": "markdown",
   "metadata": {},
   "source": [
    "#### 1. Obtain GP Prescribing data\n",
    "#### 2. Cut GP Prescribing data for things of interest (statins)\n",
    "#### 3. Obtain list of dispensing practices\n",
    "#### 3a. Add codes to list of dispensing practices (name and address only is provided)\n",
    "#### 4. Combine statin cut and dispensing practice list\n",
    "#### 5. Compare dispensing vs non-dispensing statin prescribing ratios"
   ]
  },
  {
   "cell_type": "code",
   "execution_count": 1,
   "metadata": {
    "collapsed": false
   },
   "outputs": [],
   "source": [
    "import requests\n",
    "from StringIO import StringIO\n",
    "from numpy import nan as NA\n",
    "import pandas as pd\n",
    "import zipfile\n",
    "import re\n",
    "%matplotlib inline\n",
    "import matplotlib.pyplot as plt\n",
    "import xlrd\n",
    "import statsmodels.api as sm\n",
    "from patsy import dmatrices, dmatrix\n",
    "import scipy as scipy"
   ]
  },
  {
   "cell_type": "code",
   "execution_count": 2,
   "metadata": {
    "collapsed": false
   },
   "outputs": [],
   "source": [
    "def fetch_prescribing_data():\n",
    "    url = 'http://datagov.ic.nhs.uk/presentation/2015_01_January/T201501PDPI+BNFT.CSV' #gp prescribing data (Jan 2015)\n",
    "    r = requests.get(url)\n",
    "    data = r.content\n",
    "    df = (pd.read_csv(StringIO(data)))\n",
    "    df.to_csv('datas/T201501PDPI+BNFT.CSV')\n",
    "\n",
    "def fetch_dispensary_data():\n",
    "    url = 'http://systems.hscic.gov.uk/data/ods/datadownloads/data-files/edispensary.zip'\n",
    "    r = requests.get(url)\n",
    "    z = zipfile.ZipFile(StringIO(r.content))\n",
    "    df = pd.read_csv(z.open('edispensary.csv'))\n",
    "    df.to_csv('datas/edispensary.csv')\n",
    "\n",
    "def fetch_gp_details():\n",
    "    url = 'http://systems.hscic.gov.uk/data/ods/datadownloads/data-files/epraccur.zip'\n",
    "    r = requests.get(url)\n",
    "    z = zipfile.ZipFile(StringIO(r.content))\n",
    "    df = pd.read_csv(z.open('epraccur.csv'))\n",
    "    df.to_csv('datas/epraccur.csv')\n",
    "\n",
    "def clean_prescribing_data(df):\n",
    "    df.columns = [x.strip() for x in df.columns] #gets rid of variable whitespace\n",
    "    df = df[df['BNF NAME'].str.contains('statin')] #cut for rows with statin in them\n",
    "    df = df[~df['BNF NAME'].str.contains('Nystatin|Sandostatin|Ecostatin')] #throw away unwanted statins\n",
    "    df.to_csv('datas/StatinsJan2015.csv') #save the result\n",
    "    return(df)\n",
    "\n",
    "def clean_dispensing_practice_addresses(dpad):\n",
    "    dpad = dpad['Dispensing Practices Address Details'].dropna()\n",
    "    dpad = dpad.reset_index()\n",
    "    del dpad['index']\n",
    "    dpad['Dispensing Practices Address Details'] = dpad['Dispensing Practices Address Details'].str.strip()\n",
    "    dpad['Dispensing Practices Address Details'] = dpad['Dispensing Practices Address Details'].str.replace('\\n', ' ')\n",
    "    dpad['NAME'] = dpad['Dispensing Practices Address Details'].str.split(',').str[0].str.upper()\n",
    "    dpad['POSTCODE'] = dpad['Dispensing Practices Address Details'].str.split(',').str[-1].astype(str).str.strip()\n",
    "    dpad.ix[254,2] = 'BN25 1HH' #one practice lacked a postcode.... we fix this manually\n",
    "    dpad.ix[254,1] = 'Old School Surgery'\n",
    "    return(dpad)\n",
    "\n",
    "def validate_dispensing_postcodes():\n",
    "    assert(len(dpad[~dpad.Postcode.str.contains(r'[A-Z]{1,2}[0-9R][0-9A-Z]? [0-9][A-Z]{2}')]) == 0) #length of dataframe of postcodes that don't pass regex should be 0 \n",
    "\n",
    "#nb df = pd.read_csv('http://datagov.ic.nhs.uk/presentation/2015_01_January/T201501PDPI+BNFT.CSV') should also work but seems slower"
   ]
  },
  {
   "cell_type": "code",
   "execution_count": 3,
   "metadata": {
    "collapsed": false
   },
   "outputs": [],
   "source": [
    "#df = fetch_prescribing_data() #commented because requires internet and is slow \n",
    "#df = clean_prescribing_data(df) #commented because need only run once and is slow\n",
    "#dispdata = fetch_dispensary_data() #doesn't actually contain dispensing practices\n",
    "#fetch_gp_details()\n",
    "\n",
    "df = pd.read_csv('datas/StatinsJan2015.csv') #load cleaned prescribing data cut\n",
    "gpdetail = pd.read_csv('datas/epraccur.csv') #from http://systems.hscic.gov.uk/data/ods/datadownloads/data-files/epraccur.zip\n",
    "\n",
    "dpad_formatting_junk = ['Dispensing Practices Address Details', 'Primary Care Trust:', 'Report For:', 'Practice Name and Address', 'January 2015']\n",
    "dpad = pd.read_excel('datas/Disp Pracs Name and Address 2015-01-31.xls', usecols=[0], na_values=dpad_formatting_junk) #load dispensing practice list\n",
    "\n",
    "dpad = clean_dispensing_practice_addresses(dpad)\n",
    "\n",
    "gpdetail = gpdetail.icol([1,2,10,26,15]) #throw away columns we don't care about\n",
    "gpdetail.columns = ['PRACTICE', 'NAME', 'POSTCODE', 'Prescribing Setting', 'CCG']\n",
    "\n",
    "dpad = pd.merge(gpdetail, dpad, on=['NAME','POSTCODE']) #merge to add practice codes\n",
    "\n",
    "df['DP'] = df.PRACTICE.isin(dpad.PRACTICE) #add column DP to identify Dispensing Practices\n",
    "\n",
    "df['IR'] = df['BNF NAME'].str.contains('Rosuvastatin') #add column for Is Rosuvastatin"
   ]
  },
  {
   "cell_type": "code",
   "execution_count": 4,
   "metadata": {
    "collapsed": false
   },
   "outputs": [],
   "source": [
    "df = pd.merge(df, gpdetail, on='PRACTICE')"
   ]
  },
  {
   "cell_type": "code",
   "execution_count": 5,
   "metadata": {
    "collapsed": false
   },
   "outputs": [
    {
     "data": {
      "text/html": [
       "<div style=\"max-height:1000px;max-width:1500px;overflow:auto;\">\n",
       "<table border=\"1\" class=\"dataframe\">\n",
       "  <thead>\n",
       "    <tr style=\"text-align: right;\">\n",
       "      <th></th>\n",
       "      <th>Unnamed: 0</th>\n",
       "      <th>Unnamed: 0.1</th>\n",
       "      <th>Unnamed: 0.1</th>\n",
       "      <th>SHA</th>\n",
       "      <th>PCT</th>\n",
       "      <th>PRACTICE</th>\n",
       "      <th>BNF CODE</th>\n",
       "      <th>BNF NAME</th>\n",
       "      <th>ITEMS</th>\n",
       "      <th>NIC</th>\n",
       "      <th>ACT COST</th>\n",
       "      <th>QUANTITY</th>\n",
       "      <th>PERIOD</th>\n",
       "      <th>Unnamed: 11</th>\n",
       "      <th>DP</th>\n",
       "      <th>IR</th>\n",
       "      <th>NAME</th>\n",
       "      <th>POSTCODE</th>\n",
       "      <th>Prescribing Setting</th>\n",
       "      <th>CCG</th>\n",
       "    </tr>\n",
       "  </thead>\n",
       "  <tbody>\n",
       "    <tr>\n",
       "      <th>0</th>\n",
       "      <td>0</td>\n",
       "      <td>586</td>\n",
       "      <td>586</td>\n",
       "      <td>Q44</td>\n",
       "      <td>RY7</td>\n",
       "      <td>N85638</td>\n",
       "      <td>0212000B0AAACAC</td>\n",
       "      <td>Atorvastatin_Tab 40mg</td>\n",
       "      <td>2</td>\n",
       "      <td>0.58</td>\n",
       "      <td>0.76</td>\n",
       "      <td>10</td>\n",
       "      <td>201501</td>\n",
       "      <td></td>\n",
       "      <td>False</td>\n",
       "      <td>False</td>\n",
       "      <td>GP APH OOH</td>\n",
       "      <td>CH49 5PE</td>\n",
       "      <td>2</td>\n",
       "      <td>12F</td>\n",
       "    </tr>\n",
       "    <tr>\n",
       "      <th>1</th>\n",
       "      <td>1</td>\n",
       "      <td>1310</td>\n",
       "      <td>1310</td>\n",
       "      <td>Q44</td>\n",
       "      <td>RY7</td>\n",
       "      <td>Y03836</td>\n",
       "      <td>0212000B0AAACAC</td>\n",
       "      <td>Atorvastatin_Tab 40mg</td>\n",
       "      <td>1</td>\n",
       "      <td>1.62</td>\n",
       "      <td>1.51</td>\n",
       "      <td>28</td>\n",
       "      <td>201501</td>\n",
       "      <td></td>\n",
       "      <td>False</td>\n",
       "      <td>False</td>\n",
       "      <td>WIRRAL COMMUNITY NMP</td>\n",
       "      <td>CH41 5AL</td>\n",
       "      <td>9</td>\n",
       "      <td>12F</td>\n",
       "    </tr>\n",
       "    <tr>\n",
       "      <th>2</th>\n",
       "      <td>2</td>\n",
       "      <td>2050</td>\n",
       "      <td>2050</td>\n",
       "      <td>Q44</td>\n",
       "      <td>01C</td>\n",
       "      <td>N81002</td>\n",
       "      <td>0212000AAAAAAAA</td>\n",
       "      <td>Rosuvastatin Calc_Tab 10mg</td>\n",
       "      <td>14</td>\n",
       "      <td>360.60</td>\n",
       "      <td>332.98</td>\n",
       "      <td>560</td>\n",
       "      <td>201501</td>\n",
       "      <td></td>\n",
       "      <td>False</td>\n",
       "      <td>True</td>\n",
       "      <td>KENMORE MEDICAL CENTRE</td>\n",
       "      <td>SK9 1PA</td>\n",
       "      <td>4</td>\n",
       "      <td>01C</td>\n",
       "    </tr>\n",
       "    <tr>\n",
       "      <th>3</th>\n",
       "      <td>3</td>\n",
       "      <td>2051</td>\n",
       "      <td>2051</td>\n",
       "      <td>Q44</td>\n",
       "      <td>01C</td>\n",
       "      <td>N81002</td>\n",
       "      <td>0212000AAAAABAB</td>\n",
       "      <td>Rosuvastatin Calc_Tab 20mg</td>\n",
       "      <td>4</td>\n",
       "      <td>208.16</td>\n",
       "      <td>192.16</td>\n",
       "      <td>224</td>\n",
       "      <td>201501</td>\n",
       "      <td></td>\n",
       "      <td>False</td>\n",
       "      <td>True</td>\n",
       "      <td>KENMORE MEDICAL CENTRE</td>\n",
       "      <td>SK9 1PA</td>\n",
       "      <td>4</td>\n",
       "      <td>01C</td>\n",
       "    </tr>\n",
       "    <tr>\n",
       "      <th>4</th>\n",
       "      <td>4</td>\n",
       "      <td>2052</td>\n",
       "      <td>2052</td>\n",
       "      <td>Q44</td>\n",
       "      <td>01C</td>\n",
       "      <td>N81002</td>\n",
       "      <td>0212000AAAAADAD</td>\n",
       "      <td>Rosuvastatin Calc_Tab 5mg</td>\n",
       "      <td>5</td>\n",
       "      <td>180.30</td>\n",
       "      <td>166.47</td>\n",
       "      <td>280</td>\n",
       "      <td>201501</td>\n",
       "      <td></td>\n",
       "      <td>False</td>\n",
       "      <td>True</td>\n",
       "      <td>KENMORE MEDICAL CENTRE</td>\n",
       "      <td>SK9 1PA</td>\n",
       "      <td>4</td>\n",
       "      <td>01C</td>\n",
       "    </tr>\n",
       "  </tbody>\n",
       "</table>\n",
       "</div>"
      ],
      "text/plain": [
       "   Unnamed: 0  Unnamed: 0.1  Unnamed: 0.1  SHA  PCT PRACTICE         BNF CODE  \\\n",
       "0           0           586           586  Q44  RY7   N85638  0212000B0AAACAC   \n",
       "1           1          1310          1310  Q44  RY7   Y03836  0212000B0AAACAC   \n",
       "2           2          2050          2050  Q44  01C   N81002  0212000AAAAAAAA   \n",
       "3           3          2051          2051  Q44  01C   N81002  0212000AAAAABAB   \n",
       "4           4          2052          2052  Q44  01C   N81002  0212000AAAAADAD   \n",
       "\n",
       "                                   BNF NAME  ITEMS     NIC  ACT COST  \\\n",
       "0  Atorvastatin_Tab 40mg                         2    0.58      0.76   \n",
       "1  Atorvastatin_Tab 40mg                         1    1.62      1.51   \n",
       "2  Rosuvastatin Calc_Tab 10mg                   14  360.60    332.98   \n",
       "3  Rosuvastatin Calc_Tab 20mg                    4  208.16    192.16   \n",
       "4  Rosuvastatin Calc_Tab 5mg                     5  180.30    166.47   \n",
       "\n",
       "   QUANTITY  PERIOD         Unnamed: 11     DP     IR                    NAME  \\\n",
       "0        10  201501                      False  False              GP APH OOH   \n",
       "1        28  201501                      False  False    WIRRAL COMMUNITY NMP   \n",
       "2       560  201501                      False   True  KENMORE MEDICAL CENTRE   \n",
       "3       224  201501                      False   True  KENMORE MEDICAL CENTRE   \n",
       "4       280  201501                      False   True  KENMORE MEDICAL CENTRE   \n",
       "\n",
       "   POSTCODE  Prescribing Setting  CCG  \n",
       "0  CH49 5PE                    2  12F  \n",
       "1  CH41 5AL                    9  12F  \n",
       "2   SK9 1PA                    4  01C  \n",
       "3   SK9 1PA                    4  01C  \n",
       "4   SK9 1PA                    4  01C  "
      ]
     },
     "execution_count": 5,
     "metadata": {},
     "output_type": "execute_result"
    }
   ],
   "source": [
    "df.head()"
   ]
  },
  {
   "cell_type": "code",
   "execution_count": 6,
   "metadata": {
    "collapsed": false
   },
   "outputs": [],
   "source": [
    "df1 = df.groupby(['DP','PRACTICE', 'IR']).ITEMS.sum()\n"
   ]
  },
  {
   "cell_type": "code",
   "execution_count": 7,
   "metadata": {
    "collapsed": false
   },
   "outputs": [
    {
     "data": {
      "text/plain": [
       "DP     PRACTICE  IR   \n",
       "False  A81001    False     175\n",
       "                 True        8\n",
       "       A81002    False    1041\n",
       "                 True       63\n",
       "       A81003    False     256\n",
       "Name: ITEMS, dtype: int64"
      ]
     },
     "execution_count": 7,
     "metadata": {},
     "output_type": "execute_result"
    }
   ],
   "source": [
    "df1.head() #what the datas look like"
   ]
  },
  {
   "cell_type": "code",
   "execution_count": 8,
   "metadata": {
    "collapsed": false
   },
   "outputs": [],
   "source": [
    "df1 = df1.unstack()\n",
    "df1 = df1.reset_index()\n",
    "df1 = df1.fillna(0.0) #applying groupby when there are no items in a category generates NaNs where we would instead prefer 0's\n"
   ]
  },
  {
   "cell_type": "code",
   "execution_count": 9,
   "metadata": {
    "collapsed": false
   },
   "outputs": [],
   "source": [
    "df1.columns = ['DP', 'PRACTICE', 'False_IR', 'True_IR']"
   ]
  },
  {
   "cell_type": "code",
   "execution_count": 10,
   "metadata": {
    "collapsed": false
   },
   "outputs": [],
   "source": [
    "df1['Proportion'] = (df1['True_IR'] / (df1['True_IR'] + df1['False_IR']))"
   ]
  },
  {
   "cell_type": "code",
   "execution_count": 11,
   "metadata": {
    "collapsed": false
   },
   "outputs": [
    {
     "data": {
      "text/html": [
       "<div style=\"max-height:1000px;max-width:1500px;overflow:auto;\">\n",
       "<table border=\"1\" class=\"dataframe\">\n",
       "  <thead>\n",
       "    <tr style=\"text-align: right;\">\n",
       "      <th></th>\n",
       "      <th>DP</th>\n",
       "      <th>PRACTICE</th>\n",
       "      <th>False_IR</th>\n",
       "      <th>True_IR</th>\n",
       "      <th>Proportion</th>\n",
       "    </tr>\n",
       "  </thead>\n",
       "  <tbody>\n",
       "    <tr>\n",
       "      <th>0</th>\n",
       "      <td>False</td>\n",
       "      <td>A81001</td>\n",
       "      <td>175</td>\n",
       "      <td>8</td>\n",
       "      <td>0.043716</td>\n",
       "    </tr>\n",
       "    <tr>\n",
       "      <th>1</th>\n",
       "      <td>False</td>\n",
       "      <td>A81002</td>\n",
       "      <td>1041</td>\n",
       "      <td>63</td>\n",
       "      <td>0.057065</td>\n",
       "    </tr>\n",
       "    <tr>\n",
       "      <th>2</th>\n",
       "      <td>False</td>\n",
       "      <td>A81003</td>\n",
       "      <td>256</td>\n",
       "      <td>2</td>\n",
       "      <td>0.007752</td>\n",
       "    </tr>\n",
       "    <tr>\n",
       "      <th>3</th>\n",
       "      <td>False</td>\n",
       "      <td>A81004</td>\n",
       "      <td>386</td>\n",
       "      <td>14</td>\n",
       "      <td>0.035000</td>\n",
       "    </tr>\n",
       "    <tr>\n",
       "      <th>4</th>\n",
       "      <td>False</td>\n",
       "      <td>A81005</td>\n",
       "      <td>389</td>\n",
       "      <td>17</td>\n",
       "      <td>0.041872</td>\n",
       "    </tr>\n",
       "  </tbody>\n",
       "</table>\n",
       "</div>"
      ],
      "text/plain": [
       "      DP PRACTICE  False_IR  True_IR  Proportion\n",
       "0  False   A81001       175        8    0.043716\n",
       "1  False   A81002      1041       63    0.057065\n",
       "2  False   A81003       256        2    0.007752\n",
       "3  False   A81004       386       14    0.035000\n",
       "4  False   A81005       389       17    0.041872"
      ]
     },
     "execution_count": 11,
     "metadata": {},
     "output_type": "execute_result"
    }
   ],
   "source": [
    "df1.head() #what the datas look like"
   ]
  },
  {
   "cell_type": "code",
   "execution_count": 12,
   "metadata": {
    "collapsed": false
   },
   "outputs": [
    {
     "data": {
      "text/plain": [
       "<matplotlib.text.Text at 0x7fbc85a31450>"
      ]
     },
     "execution_count": 12,
     "metadata": {},
     "output_type": "execute_result"
    },
    {
     "data": {
      "image/png": "[encoded data removed]",
      "text/plain": [
       "<matplotlib.figure.Figure at 0x7fbc4567a110>"
      ]
     },
     "metadata": {},
     "output_type": "display_data"
    }
   ],
   "source": [
    "df1[['DP', 'Proportion']].boxplot(by='DP', figsize=(8,8))\n",
    "plt.title(\"Statin prescribing in non-dispensing vs dispensing practices\")\n",
    "plt.suptitle(\"\")\n",
    "#plt.ylim((0,100))\n",
    "plt.ylabel('Proportion of statin items that are Rosuvastatin')\n",
    "plt.xlabel('Dispensing practice')"
   ]
  },
  {
   "cell_type": "code",
   "execution_count": 13,
   "metadata": {
    "collapsed": false
   },
   "outputs": [
    {
     "data": {
      "text/plain": [
       "6.6462513063644311"
      ]
     },
     "execution_count": 13,
     "metadata": {},
     "output_type": "execute_result"
    }
   ],
   "source": [
    "df1[df1['DP'] == False].Proportion.skew()"
   ]
  },
  {
   "cell_type": "code",
   "execution_count": 14,
   "metadata": {
    "collapsed": false
   },
   "outputs": [
    {
     "data": {
      "text/plain": [
       "2.6161450391185763"
      ]
     },
     "execution_count": 14,
     "metadata": {},
     "output_type": "execute_result"
    }
   ],
   "source": [
    "df1[df1['DP'] == True].Proportion.skew()"
   ]
  },
  {
   "cell_type": "code",
   "execution_count": 15,
   "metadata": {
    "collapsed": false
   },
   "outputs": [
    {
     "data": {
      "text/plain": [
       "0.0038505026248185823"
      ]
     },
     "execution_count": 15,
     "metadata": {},
     "output_type": "execute_result"
    }
   ],
   "source": [
    "df1[df1['DP'] == False].Proportion.var()"
   ]
  },
  {
   "cell_type": "code",
   "execution_count": 16,
   "metadata": {
    "collapsed": false
   },
   "outputs": [
    {
     "data": {
      "text/plain": [
       "0.0054300478176196095"
      ]
     },
     "execution_count": 16,
     "metadata": {},
     "output_type": "execute_result"
    }
   ],
   "source": [
    "df1[df1['DP'] == True].Proportion.var()"
   ]
  },
  {
   "cell_type": "code",
   "execution_count": 17,
   "metadata": {
    "collapsed": false
   },
   "outputs": [
    {
     "data": {
      "text/plain": [
       "0.0440251572327044"
      ]
     },
     "execution_count": 17,
     "metadata": {},
     "output_type": "execute_result"
    }
   ],
   "source": [
    "df1[df1['DP'] == False].Proportion.median()"
   ]
  },
  {
   "cell_type": "code",
   "execution_count": 18,
   "metadata": {
    "collapsed": false
   },
   "outputs": [
    {
     "data": {
      "text/plain": [
       "0.0706525978005326"
      ]
     },
     "execution_count": 18,
     "metadata": {},
     "output_type": "execute_result"
    }
   ],
   "source": [
    "df1[df1['DP'] == True].Proportion.median()"
   ]
  },
  {
   "cell_type": "code",
   "execution_count": 19,
   "metadata": {
    "collapsed": false
   },
   "outputs": [
    {
     "data": {
      "text/plain": [
       "count    7108.000000\n",
       "mean        0.056663\n",
       "std         0.062052\n",
       "min         0.000000\n",
       "25%         0.021583\n",
       "50%         0.044025\n",
       "75%         0.076336\n",
       "max         1.000000\n",
       "Name: Proportion, dtype: float64"
      ]
     },
     "execution_count": 19,
     "metadata": {},
     "output_type": "execute_result"
    }
   ],
   "source": [
    "df1[df1['DP'] == False].Proportion.describe()"
   ]
  },
  {
   "cell_type": "code",
   "execution_count": 20,
   "metadata": {
    "collapsed": false
   },
   "outputs": [
    {
     "data": {
      "text/plain": [
       "count    1016.000000\n",
       "mean        0.088176\n",
       "std         0.073689\n",
       "min         0.000000\n",
       "25%         0.038829\n",
       "50%         0.070653\n",
       "75%         0.116599\n",
       "max         0.707071\n",
       "Name: Proportion, dtype: float64"
      ]
     },
     "execution_count": 20,
     "metadata": {},
     "output_type": "execute_result"
    }
   ],
   "source": [
    "df1[df1['DP'] == True].Proportion.describe()"
   ]
  },
  {
   "cell_type": "code",
   "execution_count": 21,
   "metadata": {
    "collapsed": false
   },
   "outputs": [
    {
     "data": {
      "text/html": [
       "<div style=\"max-height:1000px;max-width:1500px;overflow:auto;\">\n",
       "<table border=\"1\" class=\"dataframe\">\n",
       "  <thead>\n",
       "    <tr style=\"text-align: right;\">\n",
       "      <th></th>\n",
       "      <th>DP</th>\n",
       "      <th>PRACTICE</th>\n",
       "      <th>False_IR</th>\n",
       "      <th>True_IR</th>\n",
       "      <th>Proportion</th>\n",
       "    </tr>\n",
       "  </thead>\n",
       "  <tbody>\n",
       "    <tr>\n",
       "      <th>1091</th>\n",
       "      <td>False</td>\n",
       "      <td>C83656</td>\n",
       "      <td>0</td>\n",
       "      <td>1</td>\n",
       "      <td>1</td>\n",
       "    </tr>\n",
       "    <tr>\n",
       "      <th>6564</th>\n",
       "      <td>False</td>\n",
       "      <td>Y00415</td>\n",
       "      <td>0</td>\n",
       "      <td>1</td>\n",
       "      <td>1</td>\n",
       "    </tr>\n",
       "    <tr>\n",
       "      <th>6625</th>\n",
       "      <td>False</td>\n",
       "      <td>Y00840</td>\n",
       "      <td>0</td>\n",
       "      <td>1</td>\n",
       "      <td>1</td>\n",
       "    </tr>\n",
       "    <tr>\n",
       "      <th>6736</th>\n",
       "      <td>False</td>\n",
       "      <td>Y02167</td>\n",
       "      <td>0</td>\n",
       "      <td>1</td>\n",
       "      <td>1</td>\n",
       "    </tr>\n",
       "    <tr>\n",
       "      <th>6924</th>\n",
       "      <td>False</td>\n",
       "      <td>Y02859</td>\n",
       "      <td>0</td>\n",
       "      <td>1</td>\n",
       "      <td>1</td>\n",
       "    </tr>\n",
       "  </tbody>\n",
       "</table>\n",
       "</div>"
      ],
      "text/plain": [
       "         DP PRACTICE  False_IR  True_IR  Proportion\n",
       "1091  False   C83656         0        1           1\n",
       "6564  False   Y00415         0        1           1\n",
       "6625  False   Y00840         0        1           1\n",
       "6736  False   Y02167         0        1           1\n",
       "6924  False   Y02859         0        1           1"
      ]
     },
     "execution_count": 21,
     "metadata": {},
     "output_type": "execute_result"
    }
   ],
   "source": [
    "df1[df1['Proportion'] > 0.5].sort(columns='Proportion', ascending=False).head()"
   ]
  },
  {
   "cell_type": "code",
   "execution_count": 22,
   "metadata": {
    "collapsed": false
   },
   "outputs": [
    {
     "data": {
      "text/html": [
       "<div style=\"max-height:1000px;max-width:1500px;overflow:auto;\">\n",
       "<table border=\"1\" class=\"dataframe\">\n",
       "  <thead>\n",
       "    <tr style=\"text-align: right;\">\n",
       "      <th></th>\n",
       "      <th>PRACTICE</th>\n",
       "      <th>NAME</th>\n",
       "      <th>POSTCODE</th>\n",
       "      <th>Prescribing Setting</th>\n",
       "      <th>CCG</th>\n",
       "    </tr>\n",
       "  </thead>\n",
       "  <tbody>\n",
       "    <tr>\n",
       "      <th>1538</th>\n",
       "      <td>C85623</td>\n",
       "      <td>KINGSWELL SURGERY  PMS PRACTICE</td>\n",
       "      <td>S36 6DY</td>\n",
       "      <td>4</td>\n",
       "      <td>02P</td>\n",
       "    </tr>\n",
       "    <tr>\n",
       "      <th>2372</th>\n",
       "      <td>E87694</td>\n",
       "      <td>THE ROYAL MEWS SURGERY</td>\n",
       "      <td>SW1W 0QH</td>\n",
       "      <td>4</td>\n",
       "      <td>09A</td>\n",
       "    </tr>\n",
       "    <tr>\n",
       "      <th>2711</th>\n",
       "      <td>G82170</td>\n",
       "      <td>LAMBERHURST</td>\n",
       "      <td>TN3 8EX</td>\n",
       "      <td>4</td>\n",
       "      <td>99J</td>\n",
       "    </tr>\n",
       "    <tr>\n",
       "      <th>5274</th>\n",
       "      <td>M84031</td>\n",
       "      <td>REVEL SURGERY</td>\n",
       "      <td>CV23 0LU</td>\n",
       "      <td>4</td>\n",
       "      <td>05A</td>\n",
       "    </tr>\n",
       "    <tr>\n",
       "      <th>5962</th>\n",
       "      <td>Y00860</td>\n",
       "      <td>SOUTH ESSEX OOH</td>\n",
       "      <td>TN24 0GP</td>\n",
       "      <td>2</td>\n",
       "      <td>99G</td>\n",
       "    </tr>\n",
       "  </tbody>\n",
       "</table>\n",
       "</div>"
      ],
      "text/plain": [
       "     PRACTICE                             NAME  POSTCODE  Prescribing Setting  \\\n",
       "1538   C85623  KINGSWELL SURGERY  PMS PRACTICE   S36 6DY                    4   \n",
       "2372   E87694           THE ROYAL MEWS SURGERY  SW1W 0QH                    4   \n",
       "2711   G82170                      LAMBERHURST   TN3 8EX                    4   \n",
       "5274   M84031                    REVEL SURGERY  CV23 0LU                    4   \n",
       "5962   Y00860                  SOUTH ESSEX OOH  TN24 0GP                    2   \n",
       "\n",
       "      CCG  \n",
       "1538  02P  \n",
       "2372  09A  \n",
       "2711  99J  \n",
       "5274  05A  \n",
       "5962  99G  "
      ]
     },
     "execution_count": 22,
     "metadata": {},
     "output_type": "execute_result"
    }
   ],
   "source": [
    "gpdetail[gpdetail.PRACTICE.isin(df1[df1['Proportion'] > 0.5].PRACTICE)].head()"
   ]
  },
  {
   "cell_type": "code",
   "execution_count": 23,
   "metadata": {
    "collapsed": false
   },
   "outputs": [
    {
     "data": {
      "text/plain": [
       "<matplotlib.axes._subplots.AxesSubplot at 0x7fbc45bc1950>"
      ]
     },
     "execution_count": 23,
     "metadata": {},
     "output_type": "execute_result"
    },
    {
     "data": {
      "image/png": "[encoded data removed]",
      "text/plain": [
       "<matplotlib.figure.Figure at 0x7fbc7c3c1510>"
      ]
     },
     "metadata": {},
     "output_type": "display_data"
    }
   ],
   "source": [
    "df1.Proportion.hist(bins=40)"
   ]
  },
  {
   "cell_type": "code",
   "execution_count": 24,
   "metadata": {
    "collapsed": false
   },
   "outputs": [
    {
     "data": {
      "text/plain": [
       "<matplotlib.axes._subplots.AxesSubplot at 0x7fbc5b049f90>"
      ]
     },
     "execution_count": 24,
     "metadata": {},
     "output_type": "execute_result"
    },
    {
     "data": {
      "image/png": "[encoded data removed]",
      "text/plain": [
       "<matplotlib.figure.Figure at 0x7fbc5b0f9d10>"
      ]
     },
     "metadata": {},
     "output_type": "display_data"
    }
   ],
   "source": [
    "df1[df1['DP'] == True].Proportion.hist(bins=28)"
   ]
  },
  {
   "cell_type": "code",
   "execution_count": 25,
   "metadata": {
    "collapsed": false
   },
   "outputs": [
    {
     "data": {
      "text/plain": [
       "<matplotlib.axes._subplots.AxesSubplot at 0x7fbc5aec8350>"
      ]
     },
     "execution_count": 25,
     "metadata": {},
     "output_type": "execute_result"
    },
    {
     "data": {
      "image/png": "[encoded data removed]",
      "text/plain": [
       "<matplotlib.figure.Figure at 0x7fbc5ae4b850>"
      ]
     },
     "metadata": {},
     "output_type": "display_data"
    }
   ],
   "source": [
    "df1[df1['DP'] == False].Proportion.hist(bins=40)"
   ]
  },
  {
   "cell_type": "markdown",
   "metadata": {
    "collapsed": true
   },
   "source": [
    "## next steps... add ccg column and try :\n",
    "## meglm proportionstupid dispensingornot || ccg:, family(binomial) link(logit) in statsmodels"
   ]
  },
  {
   "cell_type": "code",
   "execution_count": 26,
   "metadata": {
    "collapsed": false
   },
   "outputs": [],
   "source": [
    "df2 = pd.merge(df1, gpdetail, on='PRACTICE')"
   ]
  },
  {
   "cell_type": "code",
   "execution_count": 27,
   "metadata": {
    "collapsed": false
   },
   "outputs": [
    {
     "data": {
      "text/plain": [
       "array([ 4,  8,  9,  0,  2,  1, 13, 14, 10, 12,  3])"
      ]
     },
     "execution_count": 27,
     "metadata": {},
     "output_type": "execute_result"
    }
   ],
   "source": [
    "df2['Prescribing Setting'].unique() # not all practices in the gp prescribing set are gp practices. nice."
   ]
  },
  {
   "cell_type": "code",
   "execution_count": 45,
   "metadata": {
    "collapsed": false
   },
   "outputs": [
    {
     "data": {
      "text/html": [
       "<div style=\"max-height:1000px;max-width:1500px;overflow:auto;\">\n",
       "<table border=\"1\" class=\"dataframe\">\n",
       "  <thead>\n",
       "    <tr style=\"text-align: right;\">\n",
       "      <th></th>\n",
       "      <th>DP</th>\n",
       "      <th>PRACTICE</th>\n",
       "      <th>False_IR</th>\n",
       "      <th>True_IR</th>\n",
       "      <th>Proportion</th>\n",
       "      <th>NAME</th>\n",
       "      <th>POSTCODE</th>\n",
       "      <th>Prescribing Setting</th>\n",
       "      <th>CCG</th>\n",
       "    </tr>\n",
       "  </thead>\n",
       "  <tbody>\n",
       "    <tr>\n",
       "      <th>0</th>\n",
       "      <td>False</td>\n",
       "      <td>A81001</td>\n",
       "      <td>175</td>\n",
       "      <td>8</td>\n",
       "      <td>0.043716</td>\n",
       "      <td>THE DENSHAM SURGERY</td>\n",
       "      <td>TS18 1HU</td>\n",
       "      <td>4</td>\n",
       "      <td>00K</td>\n",
       "    </tr>\n",
       "    <tr>\n",
       "      <th>1</th>\n",
       "      <td>False</td>\n",
       "      <td>A81002</td>\n",
       "      <td>1041</td>\n",
       "      <td>63</td>\n",
       "      <td>0.057065</td>\n",
       "      <td>QUEENS PARK MEDICAL CENTRE</td>\n",
       "      <td>TS18 2AW</td>\n",
       "      <td>4</td>\n",
       "      <td>00K</td>\n",
       "    </tr>\n",
       "    <tr>\n",
       "      <th>2</th>\n",
       "      <td>False</td>\n",
       "      <td>A81003</td>\n",
       "      <td>256</td>\n",
       "      <td>2</td>\n",
       "      <td>0.007752</td>\n",
       "      <td>THE HEALTH CENTRE</td>\n",
       "      <td>TS26 8DB</td>\n",
       "      <td>4</td>\n",
       "      <td>00K</td>\n",
       "    </tr>\n",
       "    <tr>\n",
       "      <th>3</th>\n",
       "      <td>False</td>\n",
       "      <td>A81004</td>\n",
       "      <td>386</td>\n",
       "      <td>14</td>\n",
       "      <td>0.035000</td>\n",
       "      <td>WOODLANDS ROAD SURGERY</td>\n",
       "      <td>TS1 3BE</td>\n",
       "      <td>4</td>\n",
       "      <td>00M</td>\n",
       "    </tr>\n",
       "    <tr>\n",
       "      <th>4</th>\n",
       "      <td>False</td>\n",
       "      <td>A81005</td>\n",
       "      <td>389</td>\n",
       "      <td>17</td>\n",
       "      <td>0.041872</td>\n",
       "      <td>SPRINGWOOD SURGERY</td>\n",
       "      <td>TS14 7DJ</td>\n",
       "      <td>4</td>\n",
       "      <td>00M</td>\n",
       "    </tr>\n",
       "  </tbody>\n",
       "</table>\n",
       "</div>"
      ],
      "text/plain": [
       "      DP PRACTICE  False_IR  True_IR  Proportion                        NAME  \\\n",
       "0  False   A81001       175        8    0.043716         THE DENSHAM SURGERY   \n",
       "1  False   A81002      1041       63    0.057065  QUEENS PARK MEDICAL CENTRE   \n",
       "2  False   A81003       256        2    0.007752           THE HEALTH CENTRE   \n",
       "3  False   A81004       386       14    0.035000      WOODLANDS ROAD SURGERY   \n",
       "4  False   A81005       389       17    0.041872          SPRINGWOOD SURGERY   \n",
       "\n",
       "   POSTCODE  Prescribing Setting  CCG  \n",
       "0  TS18 1HU                    4  00K  \n",
       "1  TS18 2AW                    4  00K  \n",
       "2  TS26 8DB                    4  00K  \n",
       "3   TS1 3BE                    4  00M  \n",
       "4  TS14 7DJ                    4  00M  "
      ]
     },
     "execution_count": 45,
     "metadata": {},
     "output_type": "execute_result"
    }
   ],
   "source": [
    "df2.head()"
   ]
  },
  {
   "cell_type": "code",
   "execution_count": 144,
   "metadata": {
    "collapsed": true
   },
   "outputs": [],
   "source": [
    "def model(df):\n",
    "    \n",
    "    import statsmodels.formula.api as smf\n",
    "    \n",
    "    #df = df[['DP', 'Proportion', 'CCG']] #get rid of extraneous stuff\n",
    "        \n",
    "    mod = smf.mixedlm('Proportion ~ DP', df, groups=df['CCG']) #http://statsmodels.sourceforge.net/devel/endog_exog.html\n",
    "    \n",
    "    res = mod.fit()\n",
    "\n",
    "    return res"
   ]
  },
  {
   "cell_type": "code",
   "execution_count": 149,
   "metadata": {
    "collapsed": false
   },
   "outputs": [
    {
     "name": "stderr",
     "output_type": "stream",
     "text": [
      "/home/sam/.virtualenvs/pa-research/local/lib/python2.7/site-packages/statsmodels/regression/mixed_linear_model.py:1717: ConvergenceWarning: The MLE may be on the boundary of the parameter space.\n",
      "  warnings.warn(msg, ConvergenceWarning)\n"
     ]
    }
   ],
   "source": [
    "res = model(df2)"
   ]
  },
  {
   "cell_type": "code",
   "execution_count": 153,
   "metadata": {
    "collapsed": false
   },
   "outputs": [
    {
     "name": "stdout",
     "output_type": "stream",
     "text": [
      "          Mixed Linear Model Regression Results\n",
      "========================================================\n",
      "Model:            MixedLM Dependent Variable: Proportion\n",
      "No. Observations: 8124    Method:             REML      \n",
      "No. Groups:       209     Scale:              0.0036    \n",
      "Min. group size:  6       Likelihood:         11147.1739\n",
      "Max. group size:  125     Converged:          Yes       \n",
      "Mean group size:  38.9                                  \n",
      "--------------------------------------------------------\n",
      "               Coef. Std.Err.   z    P>|z| [0.025 0.975]\n",
      "--------------------------------------------------------\n",
      "Intercept      0.057    0.002 34.748 0.000  0.054  0.060\n",
      "DP[T.True]     0.027    0.002 11.620 0.000  0.022  0.031\n",
      "Intercept RE   0.000    0.001                           \n",
      "========================================================\n",
      "\n"
     ]
    },
    {
     "name": "stderr",
     "output_type": "stream",
     "text": [
      "/home/sam/.virtualenvs/pa-research/local/lib/python2.7/site-packages/statsmodels/regression/mixed_linear_model.py:1717: ConvergenceWarning: The MLE may be on the boundary of the parameter space.\n",
      "  warnings.warn(msg, ConvergenceWarning)\n"
     ]
    }
   ],
   "source": [
    "res = model(df2)\n",
    "print res.summary() \n"
   ]
  },
  {
   "cell_type": "markdown",
   "metadata": {},
   "source": [
    "# would it make a diff if I formatted my datas like in the smf e.g? probably. try it.\n",
    "# also to try is excluding non gp practices"
   ]
  },
  {
   "cell_type": "code",
   "execution_count": 125,
   "metadata": {
    "collapsed": false
   },
   "outputs": [],
   "source": [
    "ccg_codes = df.CCG.unique()\n",
    "ccg_lookup = zip(list(ccg_codes), range(0,209))\n",
    "ccg_lookup = dict(ccg_lookup)"
   ]
  },
  {
   "cell_type": "code",
   "execution_count": 111,
   "metadata": {
    "collapsed": false
   },
   "outputs": [],
   "source": [
    "df3 = df2[['DP', 'Proportion', 'CCG']]\n",
    "df3['DP'] = df3['DP'].astype(str).str.replace('False','0').str.replace('True','1')\n",
    "df3['CCG'] = df3['CCG'].map(lambda x: ccg_lookup.get(x))\n",
    "df3['DP'] = df3['DP'].astype(int)\n",
    "df3['CCG'] = df3['CCG'].astype(int)"
   ]
  },
  {
   "cell_type": "code",
   "execution_count": 154,
   "metadata": {
    "collapsed": false
   },
   "outputs": [
    {
     "name": "stdout",
     "output_type": "stream",
     "text": [
      "          Mixed Linear Model Regression Results\n",
      "========================================================\n",
      "Model:            MixedLM Dependent Variable: Proportion\n",
      "No. Observations: 8124    Method:             REML      \n",
      "No. Groups:       209     Scale:              0.0036    \n",
      "Min. group size:  6       Likelihood:         11147.1739\n",
      "Max. group size:  125     Converged:          Yes       \n",
      "Mean group size:  38.9                                  \n",
      "--------------------------------------------------------\n",
      "               Coef. Std.Err.   z    P>|z| [0.025 0.975]\n",
      "--------------------------------------------------------\n",
      "Intercept      0.057    0.002 34.748 0.000  0.054  0.060\n",
      "DP             0.027    0.002 11.620 0.000  0.022  0.031\n",
      "Intercept RE   0.000    0.001                           \n",
      "========================================================\n",
      "\n"
     ]
    },
    {
     "name": "stderr",
     "output_type": "stream",
     "text": [
      "/home/sam/.virtualenvs/pa-research/local/lib/python2.7/site-packages/statsmodels/regression/mixed_linear_model.py:1717: ConvergenceWarning: The MLE may be on the boundary of the parameter space.\n",
      "  warnings.warn(msg, ConvergenceWarning)\n"
     ]
    }
   ],
   "source": [
    "res = model(df3)\n",
    "print res.summary() \n"
   ]
  },
  {
   "cell_type": "code",
   "execution_count": null,
   "metadata": {
    "collapsed": true
   },
   "outputs": [],
   "source": []
  }
 ],
 "metadata": {
  "kernelspec": {
   "display_name": "Python 2",
   "language": "python",
   "name": "python2"
  },
  "language_info": {
   "codemirror_mode": {
    "name": "ipython",
    "version": 2
   },
   "file_extension": ".py",
   "mimetype": "text/x-python",
   "name": "python",
   "nbconvert_exporter": "python",
   "pygments_lexer": "ipython2",
   "version": "2.7.6"
  }
 },
 "nbformat": 4,
 "nbformat_minor": 0
}
