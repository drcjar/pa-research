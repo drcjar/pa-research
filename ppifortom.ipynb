{
 "cells": [
  {
   "cell_type": "markdown",
   "metadata": {},
   "source": [
    "### /snip calculate percentages of PPIs that are lansoprazole vs omeprazole vs pantoprazole in the GP prescribing dataset? I am involved in a project using GPRD data. We'd like to know how much PPI prescibing varies by PCT/CCG and also whether there is a difference between GP prescribing and prison prescribing. /"
   ]
  },
  {
   "cell_type": "code",
   "execution_count": 1,
   "metadata": {
    "collapsed": true
   },
   "outputs": [],
   "source": [
    "import pandas as pd"
   ]
  },
  {
   "cell_type": "code",
   "execution_count": 2,
   "metadata": {
    "collapsed": false
   },
   "outputs": [],
   "source": [
    "df = pd.read_csv('datas/T201501PDPI+BNFT.CSV') #frpm http://datagov.ic.nhs.uk/presentation/2015_01_January/T201501PDPI+BNFT.CSV\n",
    "df.columns = [x.strip() for x in df.columns] #clean column whitespace"
   ]
  },
  {
   "cell_type": "code",
   "execution_count": 3,
   "metadata": {
    "collapsed": true
   },
   "outputs": [],
   "source": [
    "gpdetail = pd.read_csv('datas/epraccur.csv') #from http://systems.hscic.gov.uk/data/ods/datadownloads/data-files/epraccur.zip\n",
    "gpdetail = gpdetail.icol([1,2,10,26,15]) #throw away columns we don't care about\n",
    "gpdetail.columns = ['PRACTICE', 'NAME', 'POSTCODE', 'Prescribing Setting', 'CCG']\n",
    "setting_lookup =  {0:'Other' , 1:'WIC Practice' , 2:'OOH Practice' , 3:'WIC + OOH Practice' , 4:'GP Practice' , \n",
    "              8:'Public Health Service' , 9:'Community Health Service' , 10:'Hospital Service' , 11:'Optometry Service' , \n",
    "              12:'Urgent & Emergency Care' , 13:'Hospice' , 14:'Care Home / Nursing Home' , 15:'Border Force' , \n",
    "              16:'Young Offender Institution' , 17:'Secure Training Centre' , 18:'Secure Children\\'s Home' , 19:'Immigration Removal Centre' , \n",
    "              20:'Court' , 21:'Police Custody' , 22:'Sexual Assault Referral Centre\\'(SARC)' , 24:'Other – Justice Estate' , \n",
    "              25:'Prison'} "
   ]
  },
  {
   "cell_type": "code",
   "execution_count": 4,
   "metadata": {
    "collapsed": true
   },
   "outputs": [],
   "source": [
    "lans = 'Lansoprazole|Zoton'\n",
    "omep = 'Omeprzole|Losec'\n",
    "pant = 'Pantoprazole|Protium'\n",
    "ppi = lans + '|' + omep + '|' + pant"
   ]
  },
  {
   "cell_type": "code",
   "execution_count": 7,
   "metadata": {
    "collapsed": false
   },
   "outputs": [],
   "source": [
    "df = df[df['BNF NAME'].str.contains(ppi)] #throw away everything that's not about a ppi"
   ]
  },
  {
   "cell_type": "code",
   "execution_count": 8,
   "metadata": {
    "collapsed": false
   },
   "outputs": [],
   "source": [
    "df = pd.merge(df, gpdetail, on='PRACTICE') #add gp details"
   ]
  },
  {
   "cell_type": "code",
   "execution_count": 9,
   "metadata": {
    "collapsed": false
   },
   "outputs": [],
   "source": [
    "df['Prescribing Setting'] = df['Prescribing Setting'].map(setting_lookup.get)"
   ]
  },
  {
   "cell_type": "code",
   "execution_count": 10,
   "metadata": {
    "collapsed": false
   },
   "outputs": [],
   "source": [
    "df1 = df[df['BNF NAME'].str.contains(lans)]\n",
    "df2 = df[df['BNF NAME'].str.contains(omep)]\n",
    "df3 = df[df['BNF NAME'].str.contains(pant)]"
   ]
  },
  {
   "cell_type": "code",
   "execution_count": 11,
   "metadata": {
    "collapsed": false
   },
   "outputs": [
    {
     "name": "stderr",
     "output_type": "stream",
     "text": [
      "/home/sam/.virtualenvs/pa-research/lib/python2.7/site-packages/IPython/kernel/__main__.py:1: SettingWithCopyWarning: \n",
      "A value is trying to be set on a copy of a slice from a DataFrame.\n",
      "Try using .loc[row_indexer,col_indexer] = value instead\n",
      "\n",
      "See the the caveats in the documentation: http://pandas.pydata.org/pandas-docs/stable/indexing.html#indexing-view-versus-copy\n",
      "  if __name__ == '__main__':\n",
      "/home/sam/.virtualenvs/pa-research/lib/python2.7/site-packages/IPython/kernel/__main__.py:2: SettingWithCopyWarning: \n",
      "A value is trying to be set on a copy of a slice from a DataFrame.\n",
      "Try using .loc[row_indexer,col_indexer] = value instead\n",
      "\n",
      "See the the caveats in the documentation: http://pandas.pydata.org/pandas-docs/stable/indexing.html#indexing-view-versus-copy\n",
      "  from IPython.kernel.zmq import kernelapp as app\n",
      "/home/sam/.virtualenvs/pa-research/lib/python2.7/site-packages/IPython/kernel/__main__.py:3: SettingWithCopyWarning: \n",
      "A value is trying to be set on a copy of a slice from a DataFrame.\n",
      "Try using .loc[row_indexer,col_indexer] = value instead\n",
      "\n",
      "See the the caveats in the documentation: http://pandas.pydata.org/pandas-docs/stable/indexing.html#indexing-view-versus-copy\n",
      "  app.launch_new_instance()\n"
     ]
    }
   ],
   "source": [
    "df1['ppi'] = 'lans'\n",
    "df2['ppi'] = 'omep'\n",
    "df3['ppi'] = 'pant'"
   ]
  },
  {
   "cell_type": "code",
   "execution_count": 12,
   "metadata": {
    "collapsed": false
   },
   "outputs": [],
   "source": [
    "df_list = [df1[['ppi','ITEMS','CCG','Prescribing Setting']], df2[['ppi','ITEMS','CCG','Prescribing Setting']],\n",
    "df3[['ppi','ITEMS','CCG','Prescribing Setting']]]"
   ]
  },
  {
   "cell_type": "code",
   "execution_count": 13,
   "metadata": {
    "collapsed": false
   },
   "outputs": [],
   "source": [
    "df4 = pd.concat(df_list)"
   ]
  },
  {
   "cell_type": "code",
   "execution_count": 14,
   "metadata": {
    "collapsed": false
   },
   "outputs": [],
   "source": [
    "df5 = df4.groupby(['ppi']).ITEMS.sum()"
   ]
  },
  {
   "cell_type": "code",
   "execution_count": 15,
   "metadata": {
    "collapsed": false
   },
   "outputs": [
    {
     "data": {
      "text/plain": [
       "ppi\n",
       "lans    1849958\n",
       "omep      10251\n",
       "pant      88701\n",
       "Name: ITEMS, dtype: int64"
      ]
     },
     "execution_count": 15,
     "metadata": {},
     "output_type": "execute_result"
    }
   ],
   "source": [
    "df5"
   ]
  },
  {
   "cell_type": "code",
   "execution_count": 16,
   "metadata": {
    "collapsed": false
   },
   "outputs": [
    {
     "data": {
      "text/html": [
       "<div style=\"max-height:1000px;max-width:1500px;overflow:auto;\">\n",
       "<table border=\"1\" class=\"dataframe\">\n",
       "  <thead>\n",
       "    <tr style=\"text-align: right;\">\n",
       "      <th></th>\n",
       "      <th>ITEMS</th>\n",
       "    </tr>\n",
       "    <tr>\n",
       "      <th>ppi</th>\n",
       "      <th></th>\n",
       "    </tr>\n",
       "  </thead>\n",
       "  <tbody>\n",
       "    <tr>\n",
       "      <th>lans</th>\n",
       "      <td>94.922700</td>\n",
       "    </tr>\n",
       "    <tr>\n",
       "      <th>omep</th>\n",
       "      <td>0.525986</td>\n",
       "    </tr>\n",
       "    <tr>\n",
       "      <th>pant</th>\n",
       "      <td>4.551313</td>\n",
       "    </tr>\n",
       "  </tbody>\n",
       "</table>\n",
       "</div>"
      ],
      "text/plain": [
       "          ITEMS\n",
       "ppi            \n",
       "lans  94.922700\n",
       "omep   0.525986\n",
       "pant   4.551313"
      ]
     },
     "execution_count": 16,
     "metadata": {},
     "output_type": "execute_result"
    }
   ],
   "source": [
    "pd.DataFrame(df5).apply(lambda x: 100*x/float(x.sum()))"
   ]
  },
  {
   "cell_type": "code",
   "execution_count": 17,
   "metadata": {
    "collapsed": false
   },
   "outputs": [],
   "source": [
    "df6 = df4.groupby(['Prescribing Setting', 'ppi']).ITEMS.sum()"
   ]
  },
  {
   "cell_type": "code",
   "execution_count": 25,
   "metadata": {
    "collapsed": false
   },
   "outputs": [
    {
     "data": {
      "text/plain": [
       "Prescribing Setting       ppi \n",
       "Care Home / Nursing Home  lans        193\n",
       "                          omep          3\n",
       "                          pant          3\n",
       "Community Health Service  lans        534\n",
       "                          omep         18\n",
       "                          pant          9\n",
       "GP Practice               lans    1846517\n",
       "                          omep      10194\n",
       "                          pant      88633\n",
       "Hospice                   lans         84\n",
       "                          omep          4\n",
       "                          pant          4\n",
       "Hospital Service          lans        101\n",
       "                          omep         15\n",
       "                          pant          1\n",
       "OOH Practice              lans       1660\n",
       "                          omep         11\n",
       "                          pant         33\n",
       "Other                     lans        310\n",
       "                          omep          4\n",
       "                          pant         10\n",
       "Prison                    lans          3\n",
       "Public Health Service     lans         69\n",
       "                          pant          1\n",
       "Urgent & Emergency Care   lans        136\n",
       "                          pant          1\n",
       "WIC + OOH Practice        lans         39\n",
       "                          omep          1\n",
       "WIC Practice              lans        312\n",
       "                          omep          1\n",
       "                          pant          6\n",
       "Name: ITEMS, dtype: int64"
      ]
     },
     "execution_count": 25,
     "metadata": {},
     "output_type": "execute_result"
    }
   ],
   "source": [
    "df6"
   ]
  },
  {
   "cell_type": "code",
   "execution_count": 20,
   "metadata": {
    "collapsed": false
   },
   "outputs": [],
   "source": [
    "pd.DataFrame(df6).to_csv('settingbyppi.csv')"
   ]
  },
  {
   "cell_type": "code",
   "execution_count": 21,
   "metadata": {
    "collapsed": true
   },
   "outputs": [],
   "source": [
    "df7 = df4.groupby(['CCG', 'ppi']).ITEMS.sum()"
   ]
  },
  {
   "cell_type": "code",
   "execution_count": 26,
   "metadata": {
    "collapsed": false
   },
   "outputs": [
    {
     "data": {
      "text/plain": [
       "CCG  ppi \n",
       "00C  lans     4550\n",
       "     omep       23\n",
       "     pant       98\n",
       "00D  lans    20786\n",
       "     omep       52\n",
       "     pant      348\n",
       "00J  lans    12227\n",
       "     omep       31\n",
       "     pant      194\n",
       "00K  lans    14608\n",
       "     omep       33\n",
       "     pant      291\n",
       "00L  lans    21720\n",
       "     omep       95\n",
       "     pant      347\n",
       "00M  lans    18581\n",
       "     omep       57\n",
       "     pant      262\n",
       "00N  lans    13992\n",
       "     omep       15\n",
       "     pant      186\n",
       "00P  lans    32016\n",
       "     omep       43\n",
       "     pant      262\n",
       "00Q  lans     4031\n",
       "     omep       38\n",
       "     pant      207\n",
       "00R  lans     5170\n",
       "     omep       46\n",
       "     pant      283\n",
       "             ...  \n",
       "99E  lans    11948\n",
       "     omep       40\n",
       "     pant      178\n",
       "99F  lans     5780\n",
       "     omep       35\n",
       "     pant      102\n",
       "99G  lans     5081\n",
       "     omep       22\n",
       "     pant      120\n",
       "99H  lans     6109\n",
       "     omep       50\n",
       "     pant      366\n",
       "99J  lans    11592\n",
       "     omep       90\n",
       "     pant     1010\n",
       "99K  lans     5519\n",
       "     omep       35\n",
       "     pant      848\n",
       "99M  lans     2827\n",
       "     omep       32\n",
       "     pant      495\n",
       "99N  lans    11327\n",
       "     omep       74\n",
       "     pant      722\n",
       "99P  lans    20023\n",
       "     omep      158\n",
       "     pant      625\n",
       "99Q  lans     7615\n",
       "     omep       67\n",
       "     pant      217\n",
       "Name: ITEMS, dtype: int64"
      ]
     },
     "execution_count": 26,
     "metadata": {},
     "output_type": "execute_result"
    }
   ],
   "source": [
    "df7"
   ]
  },
  {
   "cell_type": "code",
   "execution_count": 24,
   "metadata": {
    "collapsed": false
   },
   "outputs": [],
   "source": [
    "pd.DataFrame(df7).to_csv('ccgbyppi.csv')"
   ]
  },
  {
   "cell_type": "code",
   "execution_count": null,
   "metadata": {
    "collapsed": true
   },
   "outputs": [],
   "source": []
  }
 ],
 "metadata": {
  "kernelspec": {
   "display_name": "Python 2",
   "language": "python",
   "name": "python2"
  },
  "language_info": {
   "codemirror_mode": {
    "name": "ipython",
    "version": 2
   },
   "file_extension": ".py",
   "mimetype": "text/x-python",
   "name": "python",
   "nbconvert_exporter": "python",
   "pygments_lexer": "ipython2",
   "version": "2.7.6"
  }
 },
 "nbformat": 4,
 "nbformat_minor": 0
}
